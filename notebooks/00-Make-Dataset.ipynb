{
 "cells": [
  {
   "cell_type": "markdown",
   "metadata": {},
   "source": [
    "# Imports"
   ]
  },
  {
   "cell_type": "code",
   "execution_count": 12,
   "metadata": {
    "ExecuteTime": {
     "end_time": "2019-06-05T16:09:25.285057Z",
     "start_time": "2019-06-05T16:09:19.601054Z"
    }
   },
   "outputs": [],
   "source": [
    "import pathlib\n",
    "import csv\n",
    "import pandas as pd\n",
    "from tqdm import tqdm_notebook as tqdm"
   ]
  },
  {
   "cell_type": "markdown",
   "metadata": {},
   "source": [
    "# Load Data"
   ]
  },
  {
   "cell_type": "code",
   "execution_count": 7,
   "metadata": {
    "ExecuteTime": {
     "end_time": "2019-06-05T16:06:46.150206Z",
     "start_time": "2019-06-05T16:06:46.147702Z"
    }
   },
   "outputs": [],
   "source": [
    "data_folder = pathlib.Path('../data/raw/BASE DE DADOS - PAULO JR VARELA/')"
   ]
  },
  {
   "cell_type": "code",
   "execution_count": 99,
   "metadata": {
    "ExecuteTime": {
     "end_time": "2019-06-05T17:33:33.585659Z",
     "start_time": "2019-06-05T17:33:29.940550Z"
    }
   },
   "outputs": [
    {
     "data": {
      "application/vnd.jupyter.widget-view+json": {
       "model_id": "25115af6d6fc454b95aaa0873ed60a84",
       "version_major": 2,
       "version_minor": 0
      },
      "text/plain": [
       "HBox(children=(IntProgress(value=1, bar_style='info', max=1), HTML(value='')))"
      ]
     },
     "metadata": {},
     "output_type": "display_data"
    },
    {
     "name": "stdout",
     "output_type": "stream",
     "text": [
      "\n"
     ]
    }
   ],
   "source": [
    "with open('../data/data_raw.csv', 'w', encoding='utf-8') as csv_file:\n",
    "    writer = csv.writer(csv_file)\n",
    "    writer.writerow(['SUBJECT', 'AUTHOR', 'TEXT'])\n",
    "    for subject_folder in tqdm(data_folder.iterdir()):\n",
    "        if not subject_folder.name.startswith('.'):\n",
    "            subject = subject_folder.name\n",
    "            for author_folder in subject_folder.iterdir():\n",
    "                if not author_folder.name.startswith('.'):\n",
    "                    author = author_folder.name\n",
    "                    for file in author_folder.glob('*.txt'):\n",
    "                        with open(str(file), 'r', encoding='iso-8859-1') as f:\n",
    "                            content = f.read()\n",
    "                            writer.writerow([subject, author, content])\n",
    "                            f.close()\n",
    "        "
   ]
  },
  {
   "cell_type": "code",
   "execution_count": 26,
   "metadata": {
    "ExecuteTime": {
     "end_time": "2019-06-05T16:17:15.983405Z",
     "start_time": "2019-06-05T16:17:15.895974Z"
    }
   },
   "outputs": [],
   "source": [
    "df_raw = pd.read_csv('../data/data_raw.csv')"
   ]
  },
  {
   "cell_type": "code",
   "execution_count": 27,
   "metadata": {
    "ExecuteTime": {
     "end_time": "2019-06-05T16:17:16.294403Z",
     "start_time": "2019-06-05T16:17:16.286972Z"
    },
    "scrolled": true
   },
   "outputs": [
    {
     "data": {
      "text/html": [
       "<div>\n",
       "<style scoped>\n",
       "    .dataframe tbody tr th:only-of-type {\n",
       "        vertical-align: middle;\n",
       "    }\n",
       "\n",
       "    .dataframe tbody tr th {\n",
       "        vertical-align: top;\n",
       "    }\n",
       "\n",
       "    .dataframe thead th {\n",
       "        text-align: right;\n",
       "    }\n",
       "</style>\n",
       "<table border=\"1\" class=\"dataframe\">\n",
       "  <thead>\n",
       "    <tr style=\"text-align: right;\">\n",
       "      <th></th>\n",
       "      <th>SUBJECT</th>\n",
       "      <th>AUTHOR</th>\n",
       "      <th>TEXT</th>\n",
       "    </tr>\n",
       "  </thead>\n",
       "  <tbody>\n",
       "    <tr>\n",
       "      <th>0</th>\n",
       "      <td>ASSUNTOS VARIADOS</td>\n",
       "      <td>LUIZ FLAVIO SAPORI</td>\n",
       "      <td>19/03/2009\\nFATO CORRIQUEIRO\\nO fato mais impo...</td>\n",
       "    </tr>\n",
       "    <tr>\n",
       "      <th>1</th>\n",
       "      <td>ASSUNTOS VARIADOS</td>\n",
       "      <td>LUIZ FLAVIO SAPORI</td>\n",
       "      <td>06/07/2009\\nPOLÍTICA DE ESTADO\\nUm problema cr...</td>\n",
       "    </tr>\n",
       "    <tr>\n",
       "      <th>2</th>\n",
       "      <td>ASSUNTOS VARIADOS</td>\n",
       "      <td>LUIZ FLAVIO SAPORI</td>\n",
       "      <td>12/07/2009\\nTOQUE DE RECOLHER\\nProcurado para ...</td>\n",
       "    </tr>\n",
       "    <tr>\n",
       "      <th>3</th>\n",
       "      <td>ASSUNTOS VARIADOS</td>\n",
       "      <td>LUIZ FLAVIO SAPORI</td>\n",
       "      <td>23/03/2009\\nCRISE SOCIOEDUCATIVA\\nOcorreram du...</td>\n",
       "    </tr>\n",
       "    <tr>\n",
       "      <th>4</th>\n",
       "      <td>ASSUNTOS VARIADOS</td>\n",
       "      <td>LUIZ FLAVIO SAPORI</td>\n",
       "      <td>24/12/2008\\nESTATÍSTICAS CRIMINAIS CONFIÁVEIS\\...</td>\n",
       "    </tr>\n",
       "  </tbody>\n",
       "</table>\n",
       "</div>"
      ],
      "text/plain": [
       "             SUBJECT              AUTHOR  \\\n",
       "0  ASSUNTOS VARIADOS  LUIZ FLAVIO SAPORI   \n",
       "1  ASSUNTOS VARIADOS  LUIZ FLAVIO SAPORI   \n",
       "2  ASSUNTOS VARIADOS  LUIZ FLAVIO SAPORI   \n",
       "3  ASSUNTOS VARIADOS  LUIZ FLAVIO SAPORI   \n",
       "4  ASSUNTOS VARIADOS  LUIZ FLAVIO SAPORI   \n",
       "\n",
       "                                                TEXT  \n",
       "0  19/03/2009\\nFATO CORRIQUEIRO\\nO fato mais impo...  \n",
       "1  06/07/2009\\nPOLÍTICA DE ESTADO\\nUm problema cr...  \n",
       "2  12/07/2009\\nTOQUE DE RECOLHER\\nProcurado para ...  \n",
       "3  23/03/2009\\nCRISE SOCIOEDUCATIVA\\nOcorreram du...  \n",
       "4  24/12/2008\\nESTATÍSTICAS CRIMINAIS CONFIÁVEIS\\...  "
      ]
     },
     "execution_count": 27,
     "metadata": {},
     "output_type": "execute_result"
    }
   ],
   "source": [
    "df_raw.head()"
   ]
  },
  {
   "cell_type": "code",
   "execution_count": 63,
   "metadata": {
    "ExecuteTime": {
     "end_time": "2019-06-05T17:08:24.396966Z",
     "start_time": "2019-06-05T17:08:24.392932Z"
    }
   },
   "outputs": [],
   "source": [
    "df_raw['SUBJECT'] = df_raw['SUBJECT'].astype('category')\n",
    "df_raw['AUTHOR'] = df_raw['AUTHOR'].astype('category')"
   ]
  },
  {
   "cell_type": "code",
   "execution_count": 64,
   "metadata": {
    "ExecuteTime": {
     "end_time": "2019-06-05T17:08:25.249255Z",
     "start_time": "2019-06-05T17:08:25.242305Z"
    }
   },
   "outputs": [
    {
     "name": "stdout",
     "output_type": "stream",
     "text": [
      "<class 'pandas.core.frame.DataFrame'>\n",
      "RangeIndex: 3003 entries, 0 to 3002\n",
      "Data columns (total 3 columns):\n",
      "SUBJECT    3003 non-null category\n",
      "AUTHOR     3003 non-null category\n",
      "TEXT       3003 non-null object\n",
      "dtypes: category(2), object(1)\n",
      "memory usage: 35.6+ KB\n"
     ]
    }
   ],
   "source": [
    "df_raw.info()"
   ]
  }
 ],
 "metadata": {
  "kernelspec": {
   "display_name": "Python 3",
   "language": "python",
   "name": "python3"
  },
  "language_info": {
   "codemirror_mode": {
    "name": "ipython",
    "version": 3
   },
   "file_extension": ".py",
   "mimetype": "text/x-python",
   "name": "python",
   "nbconvert_exporter": "python",
   "pygments_lexer": "ipython3",
   "version": "3.6.5"
  }
 },
 "nbformat": 4,
 "nbformat_minor": 2
}
