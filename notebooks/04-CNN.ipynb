{
 "cells": [
  {
   "cell_type": "markdown",
   "metadata": {},
   "source": [
    "# Imports and Functions"
   ]
  },
  {
   "cell_type": "code",
   "execution_count": 1,
   "metadata": {},
   "outputs": [],
   "source": [
    "import pandas as pd\n",
    "from time import time\n",
    "\n",
    "import visuals as vs \n",
    "\n",
    "%matplotlib inline"
   ]
  },
  {
   "cell_type": "markdown",
   "metadata": {},
   "source": [
    "# Load Data"
   ]
  },
  {
   "cell_type": "code",
   "execution_count": 39,
   "metadata": {},
   "outputs": [
    {
     "data": {
      "text/html": [
       "<div>\n",
       "<style scoped>\n",
       "    .dataframe tbody tr th:only-of-type {\n",
       "        vertical-align: middle;\n",
       "    }\n",
       "\n",
       "    .dataframe tbody tr th {\n",
       "        vertical-align: top;\n",
       "    }\n",
       "\n",
       "    .dataframe thead th {\n",
       "        text-align: right;\n",
       "    }\n",
       "</style>\n",
       "<table border=\"1\" class=\"dataframe\">\n",
       "  <thead>\n",
       "    <tr style=\"text-align: right;\">\n",
       "      <th></th>\n",
       "      <th>SUBJECT</th>\n",
       "      <th>AUTHOR</th>\n",
       "      <th>TEXT</th>\n",
       "      <th>TEXT_CLEAN</th>\n",
       "      <th>NUM_STOPWORDS</th>\n",
       "      <th>NUM_PUNCTUATIONS</th>\n",
       "      <th>NUM_WORDS_UPPER</th>\n",
       "      <th>NUM_CHARS</th>\n",
       "      <th>NUM_WORDS</th>\n",
       "      <th>AVG_WORD</th>\n",
       "    </tr>\n",
       "  </thead>\n",
       "  <tbody>\n",
       "    <tr>\n",
       "      <th>0</th>\n",
       "      <td>ASSUNTOS VARIADOS</td>\n",
       "      <td>LUIZ FLAVIO SAPORI</td>\n",
       "      <td>19/03/2009\\nFATO CORRIQUEIRO\\nO fato mais impo...</td>\n",
       "      <td>19 03 2009 fato corriqueiro fato importante se...</td>\n",
       "      <td>67</td>\n",
       "      <td>29</td>\n",
       "      <td>5</td>\n",
       "      <td>1375</td>\n",
       "      <td>199</td>\n",
       "      <td>5.787129</td>\n",
       "    </tr>\n",
       "    <tr>\n",
       "      <th>1</th>\n",
       "      <td>ASSUNTOS VARIADOS</td>\n",
       "      <td>LUIZ FLAVIO SAPORI</td>\n",
       "      <td>06/07/2009\\nPOLÍTICA DE ESTADO\\nUm problema cr...</td>\n",
       "      <td>06 07 2009 politica estado problema cronico po...</td>\n",
       "      <td>75</td>\n",
       "      <td>29</td>\n",
       "      <td>11</td>\n",
       "      <td>1342</td>\n",
       "      <td>207</td>\n",
       "      <td>5.449275</td>\n",
       "    </tr>\n",
       "    <tr>\n",
       "      <th>2</th>\n",
       "      <td>ASSUNTOS VARIADOS</td>\n",
       "      <td>LUIZ FLAVIO SAPORI</td>\n",
       "      <td>12/07/2009\\nTOQUE DE RECOLHER\\nProcurado para ...</td>\n",
       "      <td>12 07 2009 toque recolher procurado suspender ...</td>\n",
       "      <td>95</td>\n",
       "      <td>46</td>\n",
       "      <td>11</td>\n",
       "      <td>1587</td>\n",
       "      <td>257</td>\n",
       "      <td>5.180392</td>\n",
       "    </tr>\n",
       "    <tr>\n",
       "      <th>3</th>\n",
       "      <td>ASSUNTOS VARIADOS</td>\n",
       "      <td>LUIZ FLAVIO SAPORI</td>\n",
       "      <td>23/03/2009\\nCRISE SOCIOEDUCATIVA\\nOcorreram du...</td>\n",
       "      <td>23 03 2009 crise socioeducativa ocorreram duas...</td>\n",
       "      <td>55</td>\n",
       "      <td>26</td>\n",
       "      <td>6</td>\n",
       "      <td>1141</td>\n",
       "      <td>167</td>\n",
       "      <td>5.761905</td>\n",
       "    </tr>\n",
       "    <tr>\n",
       "      <th>4</th>\n",
       "      <td>ASSUNTOS VARIADOS</td>\n",
       "      <td>LUIZ FLAVIO SAPORI</td>\n",
       "      <td>24/12/2008\\nESTATÍSTICAS CRIMINAIS CONFIÁVEIS\\...</td>\n",
       "      <td>24 12 2008 estatisticas criminais confiaveis b...</td>\n",
       "      <td>133</td>\n",
       "      <td>43</td>\n",
       "      <td>17</td>\n",
       "      <td>2309</td>\n",
       "      <td>366</td>\n",
       "      <td>5.246612</td>\n",
       "    </tr>\n",
       "  </tbody>\n",
       "</table>\n",
       "</div>"
      ],
      "text/plain": [
       "             SUBJECT              AUTHOR  \\\n",
       "0  ASSUNTOS VARIADOS  LUIZ FLAVIO SAPORI   \n",
       "1  ASSUNTOS VARIADOS  LUIZ FLAVIO SAPORI   \n",
       "2  ASSUNTOS VARIADOS  LUIZ FLAVIO SAPORI   \n",
       "3  ASSUNTOS VARIADOS  LUIZ FLAVIO SAPORI   \n",
       "4  ASSUNTOS VARIADOS  LUIZ FLAVIO SAPORI   \n",
       "\n",
       "                                                TEXT  \\\n",
       "0  19/03/2009\\nFATO CORRIQUEIRO\\nO fato mais impo...   \n",
       "1  06/07/2009\\nPOLÍTICA DE ESTADO\\nUm problema cr...   \n",
       "2  12/07/2009\\nTOQUE DE RECOLHER\\nProcurado para ...   \n",
       "3  23/03/2009\\nCRISE SOCIOEDUCATIVA\\nOcorreram du...   \n",
       "4  24/12/2008\\nESTATÍSTICAS CRIMINAIS CONFIÁVEIS\\...   \n",
       "\n",
       "                                          TEXT_CLEAN  NUM_STOPWORDS  \\\n",
       "0  19 03 2009 fato corriqueiro fato importante se...             67   \n",
       "1  06 07 2009 politica estado problema cronico po...             75   \n",
       "2  12 07 2009 toque recolher procurado suspender ...             95   \n",
       "3  23 03 2009 crise socioeducativa ocorreram duas...             55   \n",
       "4  24 12 2008 estatisticas criminais confiaveis b...            133   \n",
       "\n",
       "   NUM_PUNCTUATIONS  NUM_WORDS_UPPER  NUM_CHARS  NUM_WORDS  AVG_WORD  \n",
       "0                29                5       1375        199  5.787129  \n",
       "1                29               11       1342        207  5.449275  \n",
       "2                46               11       1587        257  5.180392  \n",
       "3                26                6       1141        167  5.761905  \n",
       "4                43               17       2309        366  5.246612  "
      ]
     },
     "execution_count": 39,
     "metadata": {},
     "output_type": "execute_result"
    }
   ],
   "source": [
    "df_data = pd.read_csv('../data/data_feat.csv')\n",
    "df_data.head()"
   ]
  },
  {
   "cell_type": "markdown",
   "metadata": {},
   "source": [
    "# Prep Data"
   ]
  },
  {
   "cell_type": "code",
   "execution_count": 40,
   "metadata": {},
   "outputs": [],
   "source": [
    "df_data['SUBJECT'] = df_data['SUBJECT'].astype('category')\n",
    "df_data['AUTHOR'] = df_data['AUTHOR'].astype('category')"
   ]
  },
  {
   "cell_type": "code",
   "execution_count": 37,
   "metadata": {},
   "outputs": [],
   "source": [
    "#df_data['AUTHOR_CODE'] = df_data['AUTHOR'].astype('category').cat.codes"
   ]
  },
  {
   "cell_type": "code",
   "execution_count": 38,
   "metadata": {},
   "outputs": [
    {
     "data": {
      "text/html": [
       "<div>\n",
       "<style scoped>\n",
       "    .dataframe tbody tr th:only-of-type {\n",
       "        vertical-align: middle;\n",
       "    }\n",
       "\n",
       "    .dataframe tbody tr th {\n",
       "        vertical-align: top;\n",
       "    }\n",
       "\n",
       "    .dataframe thead th {\n",
       "        text-align: right;\n",
       "    }\n",
       "</style>\n",
       "<table border=\"1\" class=\"dataframe\">\n",
       "  <thead>\n",
       "    <tr style=\"text-align: right;\">\n",
       "      <th></th>\n",
       "      <th>SUBJECT</th>\n",
       "      <th>AUTHOR</th>\n",
       "      <th>TEXT</th>\n",
       "      <th>TEXT_CLEAN</th>\n",
       "      <th>NUM_STOPWORDS</th>\n",
       "      <th>NUM_PUNCTUATIONS</th>\n",
       "      <th>NUM_WORDS_UPPER</th>\n",
       "      <th>NUM_CHARS</th>\n",
       "      <th>NUM_WORDS</th>\n",
       "      <th>AVG_WORD</th>\n",
       "      <th>AUTHOR_CODE</th>\n",
       "    </tr>\n",
       "  </thead>\n",
       "  <tbody>\n",
       "    <tr>\n",
       "      <th>0</th>\n",
       "      <td>ASSUNTOS VARIADOS</td>\n",
       "      <td>LUIZ FLAVIO SAPORI</td>\n",
       "      <td>19/03/2009\\nFATO CORRIQUEIRO\\nO fato mais impo...</td>\n",
       "      <td>19 03 2009 fato corriqueiro fato importante se...</td>\n",
       "      <td>67</td>\n",
       "      <td>29</td>\n",
       "      <td>5</td>\n",
       "      <td>1375</td>\n",
       "      <td>199</td>\n",
       "      <td>5.787129</td>\n",
       "      <td>62</td>\n",
       "    </tr>\n",
       "    <tr>\n",
       "      <th>1</th>\n",
       "      <td>ASSUNTOS VARIADOS</td>\n",
       "      <td>LUIZ FLAVIO SAPORI</td>\n",
       "      <td>06/07/2009\\nPOLÍTICA DE ESTADO\\nUm problema cr...</td>\n",
       "      <td>06 07 2009 politica estado problema cronico po...</td>\n",
       "      <td>75</td>\n",
       "      <td>29</td>\n",
       "      <td>11</td>\n",
       "      <td>1342</td>\n",
       "      <td>207</td>\n",
       "      <td>5.449275</td>\n",
       "      <td>62</td>\n",
       "    </tr>\n",
       "    <tr>\n",
       "      <th>2</th>\n",
       "      <td>ASSUNTOS VARIADOS</td>\n",
       "      <td>LUIZ FLAVIO SAPORI</td>\n",
       "      <td>12/07/2009\\nTOQUE DE RECOLHER\\nProcurado para ...</td>\n",
       "      <td>12 07 2009 toque recolher procurado suspender ...</td>\n",
       "      <td>95</td>\n",
       "      <td>46</td>\n",
       "      <td>11</td>\n",
       "      <td>1587</td>\n",
       "      <td>257</td>\n",
       "      <td>5.180392</td>\n",
       "      <td>62</td>\n",
       "    </tr>\n",
       "    <tr>\n",
       "      <th>3</th>\n",
       "      <td>ASSUNTOS VARIADOS</td>\n",
       "      <td>LUIZ FLAVIO SAPORI</td>\n",
       "      <td>23/03/2009\\nCRISE SOCIOEDUCATIVA\\nOcorreram du...</td>\n",
       "      <td>23 03 2009 crise socioeducativa ocorreram duas...</td>\n",
       "      <td>55</td>\n",
       "      <td>26</td>\n",
       "      <td>6</td>\n",
       "      <td>1141</td>\n",
       "      <td>167</td>\n",
       "      <td>5.761905</td>\n",
       "      <td>62</td>\n",
       "    </tr>\n",
       "    <tr>\n",
       "      <th>4</th>\n",
       "      <td>ASSUNTOS VARIADOS</td>\n",
       "      <td>LUIZ FLAVIO SAPORI</td>\n",
       "      <td>24/12/2008\\nESTATÍSTICAS CRIMINAIS CONFIÁVEIS\\...</td>\n",
       "      <td>24 12 2008 estatisticas criminais confiaveis b...</td>\n",
       "      <td>133</td>\n",
       "      <td>43</td>\n",
       "      <td>17</td>\n",
       "      <td>2309</td>\n",
       "      <td>366</td>\n",
       "      <td>5.246612</td>\n",
       "      <td>62</td>\n",
       "    </tr>\n",
       "  </tbody>\n",
       "</table>\n",
       "</div>"
      ],
      "text/plain": [
       "             SUBJECT              AUTHOR  \\\n",
       "0  ASSUNTOS VARIADOS  LUIZ FLAVIO SAPORI   \n",
       "1  ASSUNTOS VARIADOS  LUIZ FLAVIO SAPORI   \n",
       "2  ASSUNTOS VARIADOS  LUIZ FLAVIO SAPORI   \n",
       "3  ASSUNTOS VARIADOS  LUIZ FLAVIO SAPORI   \n",
       "4  ASSUNTOS VARIADOS  LUIZ FLAVIO SAPORI   \n",
       "\n",
       "                                                TEXT  \\\n",
       "0  19/03/2009\\nFATO CORRIQUEIRO\\nO fato mais impo...   \n",
       "1  06/07/2009\\nPOLÍTICA DE ESTADO\\nUm problema cr...   \n",
       "2  12/07/2009\\nTOQUE DE RECOLHER\\nProcurado para ...   \n",
       "3  23/03/2009\\nCRISE SOCIOEDUCATIVA\\nOcorreram du...   \n",
       "4  24/12/2008\\nESTATÍSTICAS CRIMINAIS CONFIÁVEIS\\...   \n",
       "\n",
       "                                          TEXT_CLEAN  NUM_STOPWORDS  \\\n",
       "0  19 03 2009 fato corriqueiro fato importante se...             67   \n",
       "1  06 07 2009 politica estado problema cronico po...             75   \n",
       "2  12 07 2009 toque recolher procurado suspender ...             95   \n",
       "3  23 03 2009 crise socioeducativa ocorreram duas...             55   \n",
       "4  24 12 2008 estatisticas criminais confiaveis b...            133   \n",
       "\n",
       "   NUM_PUNCTUATIONS  NUM_WORDS_UPPER  NUM_CHARS  NUM_WORDS  AVG_WORD  \\\n",
       "0                29                5       1375        199  5.787129   \n",
       "1                29               11       1342        207  5.449275   \n",
       "2                46               11       1587        257  5.180392   \n",
       "3                26                6       1141        167  5.761905   \n",
       "4                43               17       2309        366  5.246612   \n",
       "\n",
       "   AUTHOR_CODE  \n",
       "0           62  \n",
       "1           62  \n",
       "2           62  \n",
       "3           62  \n",
       "4           62  "
      ]
     },
     "execution_count": 38,
     "metadata": {},
     "output_type": "execute_result"
    }
   ],
   "source": [
    "#df_data.head()"
   ]
  },
  {
   "cell_type": "code",
   "execution_count": 34,
   "metadata": {
    "scrolled": true
   },
   "outputs": [],
   "source": [
    "#classes = dict(enumerate(df_data['AUTHOR'].cat.categories))\n",
    "#classes"
   ]
  },
  {
   "cell_type": "code",
   "execution_count": 43,
   "metadata": {},
   "outputs": [],
   "source": [
    "from sklearn.preprocessing import LabelEncoder\n",
    "from keras.utils import np_utils\n",
    "\n",
    "# encode class values as integers\n",
    "encoder = LabelEncoder()\n",
    "encoder.fit(df_data['AUTHOR'])\n",
    "encoded_Y = encoder.transform(df_data['AUTHOR'])\n",
    "# convert integers to dummy variables (i.e. one hot encoded)\n",
    "dummy_y = np_utils.to_categorical(encoded_Y)"
   ]
  },
  {
   "cell_type": "code",
   "execution_count": 44,
   "metadata": {},
   "outputs": [],
   "source": [
    "from sklearn.model_selection import train_test_split\n",
    "sentences_train, sentences_test, y_train, y_test = train_test_split(df_data['TEXT_CLEAN'], dummy_y,\n",
    "                                                    test_size=0.2, stratify=df_data['AUTHOR'], random_state=42)"
   ]
  },
  {
   "cell_type": "code",
   "execution_count": 45,
   "metadata": {},
   "outputs": [
    {
     "name": "stdout",
     "output_type": "stream",
     "text": [
      "train shape (2402,)\n",
      "test shape (601,)\n"
     ]
    }
   ],
   "source": [
    "print(f'train shape {sentences_train.shape}')\n",
    "print(f'test shape {sentences_test.shape}')"
   ]
  },
  {
   "cell_type": "code",
   "execution_count": 46,
   "metadata": {},
   "outputs": [
    {
     "data": {
      "text/plain": [
       "<2402x62456 sparse matrix of type '<class 'numpy.int64'>'\n",
       "\twith 520605 stored elements in Compressed Sparse Row format>"
      ]
     },
     "execution_count": 46,
     "metadata": {},
     "output_type": "execute_result"
    }
   ],
   "source": [
    "from sklearn.feature_extraction.text import CountVectorizer\n",
    "\n",
    "vectorizer = CountVectorizer()\n",
    "vectorizer.fit(sentences_train)\n",
    "\n",
    "X_train = vectorizer.transform(sentences_train)\n",
    "X_test  = vectorizer.transform(sentences_test)\n",
    "X_train"
   ]
  },
  {
   "cell_type": "markdown",
   "metadata": {},
   "source": [
    "# Keras DNN"
   ]
  },
  {
   "cell_type": "code",
   "execution_count": 47,
   "metadata": {},
   "outputs": [],
   "source": [
    "from keras.models import Sequential\n",
    "from keras import layers"
   ]
  },
  {
   "cell_type": "code",
   "execution_count": 48,
   "metadata": {},
   "outputs": [],
   "source": [
    "input_dim = X_train.shape[1]  # Number of features"
   ]
  },
  {
   "cell_type": "code",
   "execution_count": 53,
   "metadata": {},
   "outputs": [],
   "source": [
    "model = Sequential()\n",
    "model.add(layers.Dense(10, input_dim=input_dim, activation='relu'))\n",
    "model.add(layers.Dense(100, activation='softmax'))"
   ]
  },
  {
   "cell_type": "code",
   "execution_count": 54,
   "metadata": {},
   "outputs": [
    {
     "name": "stdout",
     "output_type": "stream",
     "text": [
      "_________________________________________________________________\n",
      "Layer (type)                 Output Shape              Param #   \n",
      "=================================================================\n",
      "dense_8 (Dense)              (None, 10)                624570    \n",
      "_________________________________________________________________\n",
      "dense_9 (Dense)              (None, 100)               1100      \n",
      "=================================================================\n",
      "Total params: 625,670\n",
      "Trainable params: 625,670\n",
      "Non-trainable params: 0\n",
      "_________________________________________________________________\n"
     ]
    }
   ],
   "source": [
    "model.compile(loss='categorical_crossentropy', \n",
    "              optimizer='adam', \n",
    "              metrics=['accuracy'])\n",
    "model.summary()"
   ]
  },
  {
   "cell_type": "code",
   "execution_count": 56,
   "metadata": {},
   "outputs": [
    {
     "name": "stdout",
     "output_type": "stream",
     "text": [
      "Train on 2402 samples, validate on 601 samples\n",
      "Epoch 1/20\n",
      "2402/2402 [==============================] - 5s 2ms/step - loss: 0.2143 - acc: 0.9992 - val_loss: 1.9165 - val_acc: 0.5441\n",
      "Epoch 2/20\n",
      "2402/2402 [==============================] - 5s 2ms/step - loss: 0.1344 - acc: 0.9996 - val_loss: 1.8867 - val_acc: 0.5624\n",
      "Epoch 3/20\n",
      "2402/2402 [==============================] - 5s 2ms/step - loss: 0.0892 - acc: 0.9996 - val_loss: 1.8723 - val_acc: 0.5524\n",
      "Epoch 4/20\n",
      "2402/2402 [==============================] - 5s 2ms/step - loss: 0.0621 - acc: 0.9996 - val_loss: 1.9056 - val_acc: 0.5441\n",
      "Epoch 5/20\n",
      "2402/2402 [==============================] - 5s 2ms/step - loss: 0.0447 - acc: 0.9996 - val_loss: 1.8839 - val_acc: 0.5458\n",
      "Epoch 6/20\n",
      "2402/2402 [==============================] - 5s 2ms/step - loss: 0.0331 - acc: 1.0000 - val_loss: 1.8836 - val_acc: 0.5458\n",
      "Epoch 7/20\n",
      "2402/2402 [==============================] - 5s 2ms/step - loss: 0.0250 - acc: 1.0000 - val_loss: 1.8968 - val_acc: 0.5408\n",
      "Epoch 8/20\n",
      "2402/2402 [==============================] - 5s 2ms/step - loss: 0.0193 - acc: 1.0000 - val_loss: 1.8425 - val_acc: 0.5641\n",
      "Epoch 9/20\n",
      "2402/2402 [==============================] - 5s 2ms/step - loss: 0.0151 - acc: 1.0000 - val_loss: 1.8641 - val_acc: 0.5591\n",
      "Epoch 10/20\n",
      "2402/2402 [==============================] - 5s 2ms/step - loss: 0.0120 - acc: 1.0000 - val_loss: 1.8831 - val_acc: 0.5458\n",
      "Epoch 11/20\n",
      "2402/2402 [==============================] - 5s 2ms/step - loss: 0.0097 - acc: 1.0000 - val_loss: 1.8603 - val_acc: 0.5641\n",
      "Epoch 12/20\n",
      "2402/2402 [==============================] - 5s 2ms/step - loss: 0.0079 - acc: 1.0000 - val_loss: 1.8488 - val_acc: 0.5691\n",
      "Epoch 13/20\n",
      "2402/2402 [==============================] - 5s 2ms/step - loss: 0.0064 - acc: 1.0000 - val_loss: 1.8684 - val_acc: 0.5724\n",
      "Epoch 14/20\n",
      "2402/2402 [==============================] - 4s 2ms/step - loss: 0.0053 - acc: 1.0000 - val_loss: 1.8560 - val_acc: 0.5757\n",
      "Epoch 15/20\n",
      "2402/2402 [==============================] - 5s 2ms/step - loss: 0.0044 - acc: 1.0000 - val_loss: 1.8725 - val_acc: 0.5674\n",
      "Epoch 16/20\n",
      "2402/2402 [==============================] - 4s 2ms/step - loss: 0.0037 - acc: 1.0000 - val_loss: 1.8874 - val_acc: 0.5641\n",
      "Epoch 17/20\n",
      "2402/2402 [==============================] - 4s 2ms/step - loss: 0.0031 - acc: 1.0000 - val_loss: 1.8849 - val_acc: 0.5691\n",
      "Epoch 18/20\n",
      "2402/2402 [==============================] - 5s 2ms/step - loss: 0.0026 - acc: 1.0000 - val_loss: 1.8727 - val_acc: 0.5707\n",
      "Epoch 19/20\n",
      "2402/2402 [==============================] - 4s 2ms/step - loss: 0.0022 - acc: 1.0000 - val_loss: 1.8886 - val_acc: 0.5724\n",
      "Epoch 20/20\n",
      "2402/2402 [==============================] - 4s 2ms/step - loss: 0.0019 - acc: 1.0000 - val_loss: 1.9064 - val_acc: 0.5657\n"
     ]
    }
   ],
   "source": [
    "history = model.fit(X_train, y_train,\n",
    "                    epochs=20,\n",
    "                    verbose=True,\n",
    "                    validation_data=(X_test, y_test),\n",
    "                    batch_size=10)"
   ]
  },
  {
   "cell_type": "code",
   "execution_count": 57,
   "metadata": {},
   "outputs": [
    {
     "name": "stdout",
     "output_type": "stream",
     "text": [
      "Training Accuracy: 1.0000\n",
      "Testing Accuracy:  0.5657\n"
     ]
    }
   ],
   "source": [
    "loss, accuracy = model.evaluate(X_train, y_train, verbose=False)\n",
    "print(\"Training Accuracy: {:.4f}\".format(accuracy))\n",
    "loss, accuracy = model.evaluate(X_test, y_test, verbose=False)\n",
    "print(\"Testing Accuracy:  {:.4f}\".format(accuracy))"
   ]
  },
  {
   "cell_type": "code",
   "execution_count": 58,
   "metadata": {},
   "outputs": [],
   "source": [
    "import matplotlib.pyplot as plt\n",
    "plt.style.use('ggplot')\n",
    "\n",
    "def plot_history(history):\n",
    "    acc = history.history['acc']\n",
    "    val_acc = history.history['val_acc']\n",
    "    loss = history.history['loss']\n",
    "    val_loss = history.history['val_loss']\n",
    "    x = range(1, len(acc) + 1)\n",
    "\n",
    "    plt.figure(figsize=(12, 5))\n",
    "    plt.subplot(1, 2, 1)\n",
    "    plt.plot(x, acc, 'b', label='Training acc')\n",
    "    plt.plot(x, val_acc, 'r', label='Validation acc')\n",
    "    plt.title('Training and validation accuracy')\n",
    "    plt.legend()\n",
    "    plt.subplot(1, 2, 2)\n",
    "    plt.plot(x, loss, 'b', label='Training loss')\n",
    "    plt.plot(x, val_loss, 'r', label='Validation loss')\n",
    "    plt.title('Training and validation loss')\n",
    "    plt.legend()"
   ]
  },
  {
   "cell_type": "code",
   "execution_count": 59,
   "metadata": {},
   "outputs": [
    {
     "data": {
      "image/png": "[encoded data removed]",
      "text/plain": [
       "<Figure size 864x360 with 2 Axes>"
      ]
     },
     "metadata": {},
     "output_type": "display_data"
    }
   ],
   "source": [
    "plot_history(history)"
   ]
  },
  {
   "cell_type": "code",
   "execution_count": null,
   "metadata": {},
   "outputs": [],
   "source": []
  }
 ],
 "metadata": {
  "kernelspec": {
   "display_name": "Python 3",
   "language": "python",
   "name": "python3"
  },
  "language_info": {
   "codemirror_mode": {
    "name": "ipython",
    "version": 3
   },
   "file_extension": ".py",
   "mimetype": "text/x-python",
   "name": "python",
   "nbconvert_exporter": "python",
   "pygments_lexer": "ipython3",
   "version": "3.6.8"
  }
 },
 "nbformat": 4,
 "nbformat_minor": 2
}
