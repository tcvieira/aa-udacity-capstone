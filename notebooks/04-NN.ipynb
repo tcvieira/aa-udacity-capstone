{
 "cells": [
  {
   "cell_type": "markdown",
   "metadata": {},
   "source": [
    "# Imports and Functions"
   ]
  },
  {
   "cell_type": "code",
   "execution_count": 1,
   "metadata": {
    "ExecuteTime": {
     "end_time": "2019-06-06T18:15:42.501834Z",
     "start_time": "2019-06-06T18:15:38.863531Z"
    }
   },
   "outputs": [],
   "source": [
    "import pandas as pd\n",
    "from time import time\n",
    "\n",
    "import visuals as vs \n",
    "\n",
    "%matplotlib inline"
   ]
  },
  {
   "cell_type": "code",
   "execution_count": 67,
   "metadata": {
    "ExecuteTime": {
     "end_time": "2019-06-06T19:17:13.459245Z",
     "start_time": "2019-06-06T19:17:13.454489Z"
    }
   },
   "outputs": [],
   "source": [
    "import matplotlib.pyplot as plt\n",
    "plt.style.use('ggplot')\n",
    "\n",
    "def plot_history(history):\n",
    "    acc = history.history['acc']\n",
    "    val_acc = history.history['val_acc']\n",
    "    loss = history.history['loss']\n",
    "    val_loss = history.history['val_loss']\n",
    "    x = range(1, len(acc) + 1)\n",
    "\n",
    "    plt.figure(figsize=(12, 5))\n",
    "    plt.subplot(1, 2, 1)\n",
    "    plt.plot(x, acc, 'b', label='Training acc')\n",
    "    plt.plot(x, val_acc, 'r', label='Validation acc')\n",
    "    plt.title('Training and validation accuracy')\n",
    "    plt.legend()\n",
    "    plt.subplot(1, 2, 2)\n",
    "    plt.plot(x, loss, 'b', label='Training loss')\n",
    "    plt.plot(x, val_loss, 'r', label='Validation loss')\n",
    "    plt.title('Training and validation loss')\n",
    "    plt.legend()"
   ]
  },
  {
   "cell_type": "code",
   "execution_count": 28,
   "metadata": {
    "ExecuteTime": {
     "end_time": "2019-06-06T18:28:32.948982Z",
     "start_time": "2019-06-06T18:28:32.943612Z"
    }
   },
   "outputs": [],
   "source": [
    "import numpy as np\n",
    "from keras.callbacks import Callback\n",
    "from sklearn.metrics import confusion_matrix, f1_score, precision_score, recall_score\n",
    "\n",
    "class Metrics(Callback):\n",
    "    def on_train_begin(self, logs={}):\n",
    "        self.val_f1s = []\n",
    "        self.val_recalls = []\n",
    "        self.val_precisions = []\n",
    "\n",
    "    def on_epoch_end(self, epoch, logs={}):\n",
    "        val_predict = (np.asarray(self.model.predict(self.validation_data[0]))).round()\n",
    "        val_targ = self.validation_data[1]\n",
    "        _val_f1 = f1_score(val_targ, val_predict, average='micro')\n",
    "        _val_recall = recall_score(val_targ, val_predict, average='micro')\n",
    "        _val_precision = precision_score(val_targ, val_predict, average='micro')\n",
    "        self.val_f1s.append(_val_f1)\n",
    "        self.val_recalls.append(_val_recall)\n",
    "        self.val_precisions.append(_val_precision)\n",
    "        print(\" — val_f1: {:.4f} — val_precision: {:.4f} — val_recall {:.4f}\".format(_val_f1, _val_precision, _val_recall))\n",
    "        return\n",
    "    \n",
    "metrics = Metrics()"
   ]
  },
  {
   "cell_type": "markdown",
   "metadata": {},
   "source": [
    "# Load Data"
   ]
  },
  {
   "cell_type": "code",
   "execution_count": 2,
   "metadata": {
    "ExecuteTime": {
     "end_time": "2019-06-06T18:15:42.963866Z",
     "start_time": "2019-06-06T18:15:42.504073Z"
    }
   },
   "outputs": [
    {
     "data": {
      "text/html": [
       "<div>\n",
       "<style scoped>\n",
       "    .dataframe tbody tr th:only-of-type {\n",
       "        vertical-align: middle;\n",
       "    }\n",
       "\n",
       "    .dataframe tbody tr th {\n",
       "        vertical-align: top;\n",
       "    }\n",
       "\n",
       "    .dataframe thead th {\n",
       "        text-align: right;\n",
       "    }\n",
       "</style>\n",
       "<table border=\"1\" class=\"dataframe\">\n",
       "  <thead>\n",
       "    <tr style=\"text-align: right;\">\n",
       "      <th></th>\n",
       "      <th>SUBJECT</th>\n",
       "      <th>AUTHOR</th>\n",
       "      <th>TEXT</th>\n",
       "      <th>TEXT_CLEAN</th>\n",
       "      <th>NUM_STOPWORDS</th>\n",
       "      <th>NUM_PUNCTUATIONS</th>\n",
       "      <th>NUM_WORDS_UPPER</th>\n",
       "      <th>NUM_CHARS</th>\n",
       "      <th>NUM_WORDS</th>\n",
       "      <th>AVG_WORD</th>\n",
       "    </tr>\n",
       "  </thead>\n",
       "  <tbody>\n",
       "    <tr>\n",
       "      <th>0</th>\n",
       "      <td>ASSUNTOS VARIADOS</td>\n",
       "      <td>LUIZ FLAVIO SAPORI</td>\n",
       "      <td>19/03/2009\\nFATO CORRIQUEIRO\\nO fato mais impo...</td>\n",
       "      <td>19 03 2009 fato corriqueiro fato importante se...</td>\n",
       "      <td>67</td>\n",
       "      <td>29</td>\n",
       "      <td>5</td>\n",
       "      <td>1375</td>\n",
       "      <td>199</td>\n",
       "      <td>5.787129</td>\n",
       "    </tr>\n",
       "    <tr>\n",
       "      <th>1</th>\n",
       "      <td>ASSUNTOS VARIADOS</td>\n",
       "      <td>LUIZ FLAVIO SAPORI</td>\n",
       "      <td>06/07/2009\\nPOLÍTICA DE ESTADO\\nUm problema cr...</td>\n",
       "      <td>06 07 2009 politica estado problema cronico po...</td>\n",
       "      <td>75</td>\n",
       "      <td>29</td>\n",
       "      <td>11</td>\n",
       "      <td>1342</td>\n",
       "      <td>207</td>\n",
       "      <td>5.449275</td>\n",
       "    </tr>\n",
       "    <tr>\n",
       "      <th>2</th>\n",
       "      <td>ASSUNTOS VARIADOS</td>\n",
       "      <td>LUIZ FLAVIO SAPORI</td>\n",
       "      <td>12/07/2009\\nTOQUE DE RECOLHER\\nProcurado para ...</td>\n",
       "      <td>12 07 2009 toque recolher procurado suspender ...</td>\n",
       "      <td>95</td>\n",
       "      <td>46</td>\n",
       "      <td>11</td>\n",
       "      <td>1587</td>\n",
       "      <td>257</td>\n",
       "      <td>5.180392</td>\n",
       "    </tr>\n",
       "    <tr>\n",
       "      <th>3</th>\n",
       "      <td>ASSUNTOS VARIADOS</td>\n",
       "      <td>LUIZ FLAVIO SAPORI</td>\n",
       "      <td>23/03/2009\\nCRISE SOCIOEDUCATIVA\\nOcorreram du...</td>\n",
       "      <td>23 03 2009 crise socioeducativa ocorreram duas...</td>\n",
       "      <td>55</td>\n",
       "      <td>26</td>\n",
       "      <td>6</td>\n",
       "      <td>1141</td>\n",
       "      <td>167</td>\n",
       "      <td>5.761905</td>\n",
       "    </tr>\n",
       "    <tr>\n",
       "      <th>4</th>\n",
       "      <td>ASSUNTOS VARIADOS</td>\n",
       "      <td>LUIZ FLAVIO SAPORI</td>\n",
       "      <td>24/12/2008\\nESTATÍSTICAS CRIMINAIS CONFIÁVEIS\\...</td>\n",
       "      <td>24 12 2008 estatisticas criminais confiaveis b...</td>\n",
       "      <td>133</td>\n",
       "      <td>43</td>\n",
       "      <td>17</td>\n",
       "      <td>2309</td>\n",
       "      <td>366</td>\n",
       "      <td>5.246612</td>\n",
       "    </tr>\n",
       "  </tbody>\n",
       "</table>\n",
       "</div>"
      ],
      "text/plain": [
       "             SUBJECT              AUTHOR  \\\n",
       "0  ASSUNTOS VARIADOS  LUIZ FLAVIO SAPORI   \n",
       "1  ASSUNTOS VARIADOS  LUIZ FLAVIO SAPORI   \n",
       "2  ASSUNTOS VARIADOS  LUIZ FLAVIO SAPORI   \n",
       "3  ASSUNTOS VARIADOS  LUIZ FLAVIO SAPORI   \n",
       "4  ASSUNTOS VARIADOS  LUIZ FLAVIO SAPORI   \n",
       "\n",
       "                                                TEXT  \\\n",
       "0  19/03/2009\\nFATO CORRIQUEIRO\\nO fato mais impo...   \n",
       "1  06/07/2009\\nPOLÍTICA DE ESTADO\\nUm problema cr...   \n",
       "2  12/07/2009\\nTOQUE DE RECOLHER\\nProcurado para ...   \n",
       "3  23/03/2009\\nCRISE SOCIOEDUCATIVA\\nOcorreram du...   \n",
       "4  24/12/2008\\nESTATÍSTICAS CRIMINAIS CONFIÁVEIS\\...   \n",
       "\n",
       "                                          TEXT_CLEAN  NUM_STOPWORDS  \\\n",
       "0  19 03 2009 fato corriqueiro fato importante se...             67   \n",
       "1  06 07 2009 politica estado problema cronico po...             75   \n",
       "2  12 07 2009 toque recolher procurado suspender ...             95   \n",
       "3  23 03 2009 crise socioeducativa ocorreram duas...             55   \n",
       "4  24 12 2008 estatisticas criminais confiaveis b...            133   \n",
       "\n",
       "   NUM_PUNCTUATIONS  NUM_WORDS_UPPER  NUM_CHARS  NUM_WORDS  AVG_WORD  \n",
       "0                29                5       1375        199  5.787129  \n",
       "1                29               11       1342        207  5.449275  \n",
       "2                46               11       1587        257  5.180392  \n",
       "3                26                6       1141        167  5.761905  \n",
       "4                43               17       2309        366  5.246612  "
      ]
     },
     "execution_count": 2,
     "metadata": {},
     "output_type": "execute_result"
    }
   ],
   "source": [
    "df_data = pd.read_csv('../data/data_feat.csv')\n",
    "df_data.head()"
   ]
  },
  {
   "cell_type": "markdown",
   "metadata": {},
   "source": [
    "# Prep Data"
   ]
  },
  {
   "cell_type": "code",
   "execution_count": 3,
   "metadata": {
    "ExecuteTime": {
     "end_time": "2019-06-06T18:15:43.002530Z",
     "start_time": "2019-06-06T18:15:42.965711Z"
    }
   },
   "outputs": [],
   "source": [
    "df_data['SUBJECT'] = df_data['SUBJECT'].astype('category')\n",
    "df_data['AUTHOR'] = df_data['AUTHOR'].astype('category')"
   ]
  },
  {
   "cell_type": "code",
   "execution_count": 4,
   "metadata": {
    "ExecuteTime": {
     "end_time": "2019-06-06T18:15:43.011108Z",
     "start_time": "2019-06-06T18:15:43.006482Z"
    }
   },
   "outputs": [],
   "source": [
    "#df_data['AUTHOR_CODE'] = df_data['AUTHOR'].astype('category').cat.codes"
   ]
  },
  {
   "cell_type": "code",
   "execution_count": 5,
   "metadata": {
    "ExecuteTime": {
     "end_time": "2019-06-06T18:15:43.015565Z",
     "start_time": "2019-06-06T18:15:43.013111Z"
    }
   },
   "outputs": [],
   "source": [
    "#df_data.head()"
   ]
  },
  {
   "cell_type": "code",
   "execution_count": 6,
   "metadata": {
    "ExecuteTime": {
     "end_time": "2019-06-06T18:15:43.021223Z",
     "start_time": "2019-06-06T18:15:43.017907Z"
    },
    "scrolled": true
   },
   "outputs": [],
   "source": [
    "#classes = dict(enumerate(df_data['AUTHOR'].cat.categories))\n",
    "#classes"
   ]
  },
  {
   "cell_type": "markdown",
   "metadata": {},
   "source": [
    "# One Hot Encode Target"
   ]
  },
  {
   "cell_type": "code",
   "execution_count": 7,
   "metadata": {
    "ExecuteTime": {
     "end_time": "2019-06-06T18:15:47.513831Z",
     "start_time": "2019-06-06T18:15:43.024924Z"
    }
   },
   "outputs": [
    {
     "name": "stderr",
     "output_type": "stream",
     "text": [
      "/anaconda3/lib/python3.6/site-packages/h5py/__init__.py:36: FutureWarning: Conversion of the second argument of issubdtype from `float` to `np.floating` is deprecated. In future, it will be treated as `np.float64 == np.dtype(float).type`.\n",
      "  from ._conv import register_converters as _register_converters\n",
      "Using TensorFlow backend.\n"
     ]
    }
   ],
   "source": [
    "from sklearn.preprocessing import LabelEncoder\n",
    "from keras.utils import np_utils\n",
    "\n",
    "# encode class values as integers\n",
    "encoder = LabelEncoder()\n",
    "encoder.fit(df_data['AUTHOR'])\n",
    "encoded_Y = encoder.transform(df_data['AUTHOR'])\n",
    "# convert integers to dummy variables (i.e. one hot encoded)\n",
    "dummy_y = np_utils.to_categorical(encoded_Y)"
   ]
  },
  {
   "cell_type": "markdown",
   "metadata": {},
   "source": [
    "# Split Dataset"
   ]
  },
  {
   "cell_type": "code",
   "execution_count": 8,
   "metadata": {
    "ExecuteTime": {
     "end_time": "2019-06-06T18:15:47.665862Z",
     "start_time": "2019-06-06T18:15:47.515783Z"
    }
   },
   "outputs": [],
   "source": [
    "from sklearn.model_selection import train_test_split\n",
    "sentences_train, sentences_test, y_train, y_test = train_test_split(df_data['TEXT_CLEAN'], dummy_y,\n",
    "                                                    test_size=0.2, stratify=df_data['AUTHOR'], random_state=42)"
   ]
  },
  {
   "cell_type": "code",
   "execution_count": 9,
   "metadata": {
    "ExecuteTime": {
     "end_time": "2019-06-06T18:15:47.672862Z",
     "start_time": "2019-06-06T18:15:47.668932Z"
    }
   },
   "outputs": [
    {
     "name": "stdout",
     "output_type": "stream",
     "text": [
      "train shape (2402,)\n",
      "test shape (601,)\n"
     ]
    }
   ],
   "source": [
    "print(f'train shape {sentences_train.shape}')\n",
    "print(f'test shape {sentences_test.shape}')"
   ]
  },
  {
   "cell_type": "markdown",
   "metadata": {},
   "source": [
    "# BOW Texts"
   ]
  },
  {
   "cell_type": "code",
   "execution_count": 59,
   "metadata": {
    "ExecuteTime": {
     "end_time": "2019-06-06T19:12:44.500077Z",
     "start_time": "2019-06-06T19:12:42.952471Z"
    }
   },
   "outputs": [
    {
     "data": {
      "text/plain": [
       "<2402x62456 sparse matrix of type '<class 'numpy.int64'>'\n",
       "\twith 520605 stored elements in Compressed Sparse Row format>"
      ]
     },
     "execution_count": 59,
     "metadata": {},
     "output_type": "execute_result"
    }
   ],
   "source": [
    "from sklearn.feature_extraction.text import CountVectorizer\n",
    "\n",
    "vectorizer = CountVectorizer()\n",
    "vectorizer.fit(sentences_train)\n",
    "\n",
    "X_train = vectorizer.transform(sentences_train)\n",
    "X_test  = vectorizer.transform(sentences_test)\n",
    "X_train"
   ]
  },
  {
   "cell_type": "markdown",
   "metadata": {},
   "source": [
    "# Keras Shallow NN"
   ]
  },
  {
   "cell_type": "code",
   "execution_count": 11,
   "metadata": {
    "ExecuteTime": {
     "end_time": "2019-06-06T18:16:01.339813Z",
     "start_time": "2019-06-06T18:16:01.336712Z"
    }
   },
   "outputs": [],
   "source": [
    "from keras.models import Sequential\n",
    "from keras import layers"
   ]
  },
  {
   "cell_type": "code",
   "execution_count": 45,
   "metadata": {
    "ExecuteTime": {
     "end_time": "2019-06-06T18:55:38.874685Z",
     "start_time": "2019-06-06T18:55:38.867511Z"
    }
   },
   "outputs": [
    {
     "data": {
      "text/plain": [
       "62456"
      ]
     },
     "execution_count": 45,
     "metadata": {},
     "output_type": "execute_result"
    }
   ],
   "source": [
    "input_dim = X_train.shape[1]  # Number of features\n",
    "input_dim"
   ]
  },
  {
   "cell_type": "code",
   "execution_count": 13,
   "metadata": {
    "ExecuteTime": {
     "end_time": "2019-06-06T18:16:03.191663Z",
     "start_time": "2019-06-06T18:16:03.138235Z"
    }
   },
   "outputs": [],
   "source": [
    "model = Sequential()\n",
    "model.add(layers.Dense(10, input_dim=input_dim, activation='relu'))\n",
    "model.add(layers.Dense(100, activation='softmax'))"
   ]
  },
  {
   "cell_type": "code",
   "execution_count": 41,
   "metadata": {
    "ExecuteTime": {
     "end_time": "2019-06-06T18:35:06.502263Z",
     "start_time": "2019-06-06T18:35:06.459047Z"
    }
   },
   "outputs": [
    {
     "name": "stdout",
     "output_type": "stream",
     "text": [
      "_________________________________________________________________\n",
      "Layer (type)                 Output Shape              Param #   \n",
      "=================================================================\n",
      "dense_1 (Dense)              (None, 10)                624570    \n",
      "_________________________________________________________________\n",
      "dense_2 (Dense)              (None, 100)               1100      \n",
      "=================================================================\n",
      "Total params: 625,670\n",
      "Trainable params: 625,670\n",
      "Non-trainable params: 0\n",
      "_________________________________________________________________\n"
     ]
    }
   ],
   "source": [
    "model.compile(loss='categorical_crossentropy', \n",
    "              optimizer='adam', \n",
    "              metrics=['sparse_categorical_accuracy', 'accuracy'])\n",
    "model.summary()"
   ]
  },
  {
   "cell_type": "code",
   "execution_count": 42,
   "metadata": {
    "ExecuteTime": {
     "end_time": "2019-06-06T18:35:49.330254Z",
     "start_time": "2019-06-06T18:35:06.829418Z"
    }
   },
   "outputs": [
    {
     "name": "stdout",
     "output_type": "stream",
     "text": [
      "Train on 2402 samples, validate on 601 samples\n",
      "Epoch 1/10\n",
      "2402/2402 [==============================] - 5s 2ms/step - loss: 1.2050e-07 - sparse_categorical_accuracy: 0.0100 - acc: 1.0000 - val_loss: 2.8985 - val_sparse_categorical_accuracy: 0.0017 - val_acc: 0.5641\n",
      " — val_f1: 0.5828 — val_precision: 0.6231 — val_recall 0.5474\n",
      "Epoch 2/10\n",
      "2402/2402 [==============================] - 4s 2ms/step - loss: 1.2057e-07 - sparse_categorical_accuracy: 0.0100 - acc: 1.0000 - val_loss: 2.8920 - val_sparse_categorical_accuracy: 0.0017 - val_acc: 0.5657\n",
      " — val_f1: 0.5841 — val_precision: 0.6238 — val_recall 0.5491\n",
      "Epoch 3/10\n",
      "2402/2402 [==============================] - 4s 2ms/step - loss: 1.2047e-07 - sparse_categorical_accuracy: 0.0100 - acc: 1.0000 - val_loss: 2.8953 - val_sparse_categorical_accuracy: 0.0017 - val_acc: 0.5657\n",
      " — val_f1: 0.5839 — val_precision: 0.6255 — val_recall 0.5474\n",
      "Epoch 4/10\n",
      "2402/2402 [==============================] - 4s 2ms/step - loss: 1.2045e-07 - sparse_categorical_accuracy: 0.0100 - acc: 1.0000 - val_loss: 2.8963 - val_sparse_categorical_accuracy: 0.0017 - val_acc: 0.5674\n",
      " — val_f1: 0.5881 — val_precision: 0.6288 — val_recall 0.5524\n",
      "Epoch 5/10\n",
      "2402/2402 [==============================] - 4s 2ms/step - loss: 1.2038e-07 - sparse_categorical_accuracy: 0.0100 - acc: 1.0000 - val_loss: 2.8975 - val_sparse_categorical_accuracy: 0.0017 - val_acc: 0.5641\n",
      " — val_f1: 0.5841 — val_precision: 0.6238 — val_recall 0.5491\n",
      "Epoch 6/10\n",
      "2402/2402 [==============================] - 4s 2ms/step - loss: 1.2025e-07 - sparse_categorical_accuracy: 0.0100 - acc: 1.0000 - val_loss: 2.8935 - val_sparse_categorical_accuracy: 0.0017 - val_acc: 0.5674\n",
      " — val_f1: 0.5806 — val_precision: 0.6245 — val_recall 0.5424\n",
      "Epoch 7/10\n",
      "2402/2402 [==============================] - 4s 2ms/step - loss: 1.2015e-07 - sparse_categorical_accuracy: 0.0100 - acc: 1.0000 - val_loss: 2.8979 - val_sparse_categorical_accuracy: 0.0017 - val_acc: 0.5624\n",
      " — val_f1: 0.5801 — val_precision: 0.6233 — val_recall 0.5424\n",
      "Epoch 8/10\n",
      "2402/2402 [==============================] - 4s 2ms/step - loss: 1.2010e-07 - sparse_categorical_accuracy: 0.0100 - acc: 1.0000 - val_loss: 2.8932 - val_sparse_categorical_accuracy: 0.0017 - val_acc: 0.5657\n",
      " — val_f1: 0.5800 — val_precision: 0.6189 — val_recall 0.5458\n",
      "Epoch 9/10\n",
      "2402/2402 [==============================] - 4s 2ms/step - loss: 1.1983e-07 - sparse_categorical_accuracy: 0.0100 - acc: 1.0000 - val_loss: 2.9009 - val_sparse_categorical_accuracy: 0.0017 - val_acc: 0.5707\n",
      " — val_f1: 0.5813 — val_precision: 0.6240 — val_recall 0.5441\n",
      "Epoch 10/10\n",
      "2402/2402 [==============================] - 4s 2ms/step - loss: 1.1980e-07 - sparse_categorical_accuracy: 0.0100 - acc: 1.0000 - val_loss: 2.9158 - val_sparse_categorical_accuracy: 0.0017 - val_acc: 0.5624\n",
      " — val_f1: 0.5819 — val_precision: 0.6252 — val_recall 0.5441\n"
     ]
    }
   ],
   "source": [
    "history = model.fit(X_train, y_train,\n",
    "                    epochs=10,\n",
    "                    verbose=True,\n",
    "                    validation_data=(X_test, y_test),\n",
    "                    batch_size=10,\n",
    "                    callbacks=[metrics])"
   ]
  },
  {
   "cell_type": "code",
   "execution_count": 47,
   "metadata": {
    "ExecuteTime": {
     "end_time": "2019-06-06T18:59:04.914108Z",
     "start_time": "2019-06-06T18:59:03.900291Z"
    }
   },
   "outputs": [
    {
     "name": "stdout",
     "output_type": "stream",
     "text": [
      "Training Accuracy: 1.0000\n",
      "Testing Accuracy:  0.5624\n"
     ]
    }
   ],
   "source": [
    "loss, sparse_categorical_accuracy, accuracy = model.evaluate(X_train, y_train, verbose=False)\n",
    "print(\"Training Accuracy: {:.4f}\".format(accuracy))\n",
    "loss, sparse_categorical_accuracy, accuracy = model.evaluate(X_test, y_test, verbose=False)\n",
    "print(\"Testing Accuracy:  {:.4f}\".format(accuracy))"
   ]
  },
  {
   "cell_type": "code",
   "execution_count": 59,
   "metadata": {},
   "outputs": [
    {
     "data": {
      "image/png": "[encoded data removed]",
      "text/plain": [
       "<Figure size 864x360 with 2 Axes>"
      ]
     },
     "metadata": {},
     "output_type": "display_data"
    }
   ],
   "source": [
    "plot_history(history)"
   ]
  },
  {
   "cell_type": "markdown",
   "metadata": {},
   "source": [
    "# Word Embeddings"
   ]
  },
  {
   "cell_type": "markdown",
   "metadata": {},
   "source": [
    "## Tokenize"
   ]
  },
  {
   "cell_type": "code",
   "execution_count": 63,
   "metadata": {
    "ExecuteTime": {
     "end_time": "2019-06-06T19:13:04.159799Z",
     "start_time": "2019-06-06T19:13:02.972558Z"
    }
   },
   "outputs": [
    {
     "name": "stdout",
     "output_type": "stream",
     "text": [
      "12 07 2009 toque recolher procurado suspender toque recolher jovens conselho nacional justica cnj concedeu ontem primeiro parecer favoravel medida restritiva resposta questionamento contra determinacao juiza nova andradina ms jacqueline machado agora menos 13 comarcas 7 estados adotaram medida caso mantida decisao julgamento merito cabera recurso somente supremo tribunal federal stf conselho nacional direitos crianca adolescente conanda chegou enviar cnj parecer afirma toque recolher fere dois artigos constituicao seis estatuto crianca adolescente eca trata direito ir vir texto afirmase toque recolher impoe situacoes vexatorias criancas carater perseguicao despeito debate juridico relevante refletirmos sobre oportunidade efetividade imposicao tal regra medida restricao circulacao partir determinado horario vias publicas criancas adolescentes contribui ordem publica acredito resultados tendem ser pifios restricao consegue apenas afetar parte lazer noturno adolescentes classe media impondolhes novas alternativas viabilizar sociabilidade madrugadas haveria outro tipo efeito benefico toque recolher sociedade sinceramente consigo visualizar nada nesse sentido qualquer maneira submeto questao leitores blog debate\n",
      "[1477, 191, 89, 35, 1, 15, 323, 1649, 4470, 32, 246, 597, 35, 151, 4619, 298, 58, 4, 30, 817, 58, 24, 991, 85, 415, 1185, 3298, 139, 4471, 10, 1977, 100, 44, 142, 25, 142, 572, 613, 34, 115, 742, 2602, 4044, 611, 197, 3, 4620, 1670, 7, 131, 246, 597, 4470, 1775, 1089, 742, 2602, 2188, 249, 107, 786, 1185, 70, 1824, 1522, 3685, 613, 2265, 37, 343, 1296, 210, 591, 3, 487, 32, 669, 2221, 67, 787, 323, 1596, 1134, 3487, 4175, 298, 3811, 519, 332, 1433, 2509, 572, 487, 97, 67, 13, 1943, 2603, 323, 4470, 1671, 4176, 496, 868, 1395, 4621, 246, 597, 51, 613, 28, 964, 467, 415, 1185, 89, 50, 1110, 2350, 721, 32, 20, 2556, 3090, 579, 2825, 742, 613, 177, 131, 246, 597, 896, 3150, 964, 249, 107, 2115, 2116, 246, 3813, 788, 592, 188, 117, 42, 11, 2050, 613, 1800, 3488, 114, 572, 613, 7, 30, 246, 597, 2351, 4619, 947, 225, 4617, 502, 3813, 1567, 3382, 1433, 332, 869, 817, 5, 12, 160, 1111, 1751, 896, 364, 519, 332, 288, 623, 29, 36, 354, 188, 208, 2703, 852, 178, 3, 373, 1396, 742, 2602, 426, 10, 137, 3091, 1381, 1247, 178, 769, 361, 80, 20, 17, 1109, 1704, 1546, 947, 2, 1214, 2117, 3489, 107, 206, 17, 779, 421, 4622, 948, 80]\n"
     ]
    }
   ],
   "source": [
    "from keras.preprocessing.text import Tokenizer\n",
    "\n",
    "tokenizer = Tokenizer(num_words=5000)\n",
    "tokenizer.fit_on_texts(sentences_train)\n",
    "\n",
    "X_train = tokenizer.texts_to_sequences(sentences_train)\n",
    "X_test = tokenizer.texts_to_sequences(sentences_test)\n",
    "\n",
    "vocab_size = len(tokenizer.word_index) + 1  # Adding 1 because of reserved 0 index\n",
    "\n",
    "print(sentences_train[2])\n",
    "print(X_train[2])"
   ]
  },
  {
   "cell_type": "code",
   "execution_count": 64,
   "metadata": {
    "ExecuteTime": {
     "end_time": "2019-06-06T19:13:06.075922Z",
     "start_time": "2019-06-06T19:13:06.071720Z"
    }
   },
   "outputs": [
    {
     "name": "stdout",
     "output_type": "stream",
     "text": [
      "blog: 600\n",
      "federal: 135\n",
      "debate: 1133\n",
      "nada: 41\n"
     ]
    }
   ],
   "source": [
    "for word in ['blog', 'federal', 'debate', 'nada']:\n",
    "    print('{}: {}'.format(word, tokenizer.word_index[word]))"
   ]
  },
  {
   "cell_type": "markdown",
   "metadata": {},
   "source": [
    "## Padding"
   ]
  },
  {
   "cell_type": "code",
   "execution_count": 65,
   "metadata": {
    "ExecuteTime": {
     "end_time": "2019-06-06T19:13:08.473767Z",
     "start_time": "2019-06-06T19:13:08.373521Z"
    }
   },
   "outputs": [
    {
     "name": "stdout",
     "output_type": "stream",
     "text": [
      "[3227  133   72  622 1646  253 1280 1476 1894 4174  111  167  886  385\n",
      " 1450  114 1410  173  188   79  298  185  856  556 3297   48  365   54\n",
      "  230 1411 1850 4617  117   42 4970   59   11  887    3  349  394  778\n",
      "  886  385  212  668  912  783   86  244  122 2763 4468   59  658 1647\n",
      "  784   33  886  385 1133    3 2304  207  976   88  194 1895  886  385\n",
      "   34 2507 2348  244  957  977 2048  347  125   44   83   79 2048 2049\n",
      " 1647 1504 2148 4971 3149   14  681  352 1451 1595 3019   53   11    7\n",
      "   49 2389   69 2434  145  232  112  407  193 2011   45  201 4797   52\n",
      "  120  201   29  145   71 3587   43  169 3810 2823 2389 1065  785 1595\n",
      " 1354 1895 1703   65  785 2390 1109  232 1066  228  153 1412  785   79\n",
      "  975  550 1595  887 2349 1095  785   79 3483  622 1067 1648 1229   28\n",
      "  990  256    9 1851   72  568   60 2654 1229  990   31  286 2654 1000\n",
      "   72 2507    4 3484  741 2049 1799 1213 1379  115  138 3918  232  339\n",
      "   73 2389 1294   23 3811 2435 4042   53  107  101  178   72  707   79\n",
      "    3 1024 1413  261  164 3297  269  374 4971 1521 1295 4043  183  488\n",
      "  115   97   58 1380  347 4618   11  886  385  257   20  746   25   86\n",
      " 2009 2962  382   16 1823 2391  286 1025 1144 2348 1702  508   86  566\n",
      "  165 1669    3 1620 2012  610 2963   79  116  402  804 4297   29  805\n",
      "  887  785 1414  350   86  664  539 1184 1728   47 4042  170  207 1646\n",
      "  768 1452 1322  183  159  155 1476  712 1942 1521  159    4  886  385\n",
      "  108  886  385  408  708 2264 1647  796 1001 3812    3   37  303 2149\n",
      "  382  109   72  159  394  348  352 3297 3485 2824 2013  352   14 4469\n",
      " 3089 1729   37  303 3486 1450 2508  301    0    0    0    0    0    0\n",
      "    0    0    0    0    0    0    0    0    0    0    0    0    0    0\n",
      "    0    0    0    0    0    0    0    0    0    0    0    0    0    0\n",
      "    0    0    0    0    0    0    0    0    0    0    0    0    0    0\n",
      "    0    0    0    0    0    0    0    0    0    0    0    0    0    0\n",
      "    0    0    0    0    0    0    0    0    0    0    0    0    0    0\n",
      "    0    0    0    0    0    0    0    0    0    0    0    0    0    0\n",
      "    0    0    0    0    0    0    0    0    0    0    0    0    0    0\n",
      "    0    0    0    0    0    0    0    0    0    0    0    0    0    0\n",
      "    0    0    0    0    0    0    0    0    0    0    0    0    0    0\n",
      "    0    0    0    0    0    0    0    0    0    0    0    0    0    0\n",
      "    0    0    0    0    0    0    0    0    0    0    0    0    0    0\n",
      "    0    0    0    0    0    0    0    0    0    0    0    0    0    0\n",
      "    0    0    0    0    0    0    0    0    0    0    0    0    0    0\n",
      "    0    0    0    0    0    0    0    0    0    0    0    0    0    0\n",
      "    0    0    0    0    0    0    0    0    0    0    0    0    0    0\n",
      "    0    0    0    0    0    0    0    0    0    0    0    0    0    0\n",
      "    0    0    0    0    0    0    0    0    0    0    0    0    0    0\n",
      "    0    0    0    0    0    0    0    0    0    0    0    0    0    0\n",
      "    0    0    0    0    0    0    0    0    0    0    0    0    0    0\n",
      "    0    0    0    0    0    0    0    0    0    0    0    0]\n"
     ]
    }
   ],
   "source": [
    "from keras.preprocessing.sequence import pad_sequences\n",
    "\n",
    "maxlen = 600\n",
    "\n",
    "X_train = pad_sequences(X_train, padding='post', maxlen=maxlen)\n",
    "X_test = pad_sequences(X_test, padding='post', maxlen=maxlen)\n",
    "\n",
    "print(X_train[1, :])"
   ]
  },
  {
   "cell_type": "markdown",
   "metadata": {},
   "source": [
    "# Keras Word Embeddings"
   ]
  },
  {
   "cell_type": "markdown",
   "metadata": {},
   "source": [
    "## Flatten"
   ]
  },
  {
   "cell_type": "code",
   "execution_count": 66,
   "metadata": {
    "ExecuteTime": {
     "end_time": "2019-06-06T19:16:33.657192Z",
     "start_time": "2019-06-06T19:16:33.506026Z"
    }
   },
   "outputs": [
    {
     "name": "stdout",
     "output_type": "stream",
     "text": [
      "_________________________________________________________________\n",
      "Layer (type)                 Output Shape              Param #   \n",
      "=================================================================\n",
      "embedding_1 (Embedding)      (None, 600, 50)           3124100   \n",
      "_________________________________________________________________\n",
      "flatten_1 (Flatten)          (None, 30000)             0         \n",
      "_________________________________________________________________\n",
      "dense_3 (Dense)              (None, 10)                300010    \n",
      "_________________________________________________________________\n",
      "dense_4 (Dense)              (None, 100)               1100      \n",
      "=================================================================\n",
      "Total params: 3,425,210\n",
      "Trainable params: 3,425,210\n",
      "Non-trainable params: 0\n",
      "_________________________________________________________________\n"
     ]
    }
   ],
   "source": [
    "from keras.models import Sequential\n",
    "from keras import layers\n",
    "\n",
    "embedding_dim = 50\n",
    "\n",
    "model = Sequential()\n",
    "model.add(layers.Embedding(input_dim=vocab_size, \n",
    "                           output_dim=embedding_dim, \n",
    "                           input_length=maxlen))\n",
    "model.add(layers.Flatten())\n",
    "model.add(layers.Dense(10, activation='relu'))\n",
    "model.add(layers.Dense(100, activation='softmax'))\n",
    "model.compile(optimizer='adam',\n",
    "              loss='categorical_crossentropy',\n",
    "              metrics=['sparse_categorical_accuracy','accuracy'])\n",
    "model.summary()"
   ]
  },
  {
   "cell_type": "code",
   "execution_count": 68,
   "metadata": {
    "ExecuteTime": {
     "end_time": "2019-06-06T19:23:44.738180Z",
     "start_time": "2019-06-06T19:17:37.193989Z"
    }
   },
   "outputs": [
    {
     "name": "stdout",
     "output_type": "stream",
     "text": [
      "Train on 2402 samples, validate on 601 samples\n",
      "Epoch 1/20\n",
      "2402/2402 [==============================] - 20s 8ms/step - loss: 4.6084 - sparse_categorical_accuracy: 0.0000e+00 - acc: 0.0050 - val_loss: 4.6052 - val_sparse_categorical_accuracy: 0.0000e+00 - val_acc: 0.0083\n",
      " — val_f1: 0.0000 — val_precision: 0.0000 — val_recall 0.0000\n",
      "Epoch 2/20\n",
      "  20/2402 [..............................] - ETA: 18s - loss: 4.6061 - sparse_categorical_accuracy: 0.0000e+00 - acc: 0.0000e+00"
     ]
    },
    {
     "name": "stderr",
     "output_type": "stream",
     "text": [
      "/anaconda3/lib/python3.6/site-packages/sklearn/metrics/classification.py:1135: UndefinedMetricWarning: F-score is ill-defined and being set to 0.0 due to no predicted samples.\n",
      "  'precision', 'predicted', average, warn_for)\n",
      "/anaconda3/lib/python3.6/site-packages/sklearn/metrics/classification.py:1135: UndefinedMetricWarning: Precision is ill-defined and being set to 0.0 due to no predicted samples.\n",
      "  'precision', 'predicted', average, warn_for)\n"
     ]
    },
    {
     "name": "stdout",
     "output_type": "stream",
     "text": [
      "2402/2402 [==============================] - 18s 8ms/step - loss: 4.5896 - sparse_categorical_accuracy: 0.0000e+00 - acc: 0.0067 - val_loss: 4.4740 - val_sparse_categorical_accuracy: 0.0000e+00 - val_acc: 0.0200\n",
      " — val_f1: 0.0000 — val_precision: 0.0000 — val_recall 0.0000\n",
      "Epoch 3/20\n",
      "  20/2402 [..............................] - ETA: 16s - loss: 4.2003 - sparse_categorical_accuracy: 0.0000e+00 - acc: 0.1000"
     ]
    },
    {
     "name": "stderr",
     "output_type": "stream",
     "text": [
      "/anaconda3/lib/python3.6/site-packages/sklearn/metrics/classification.py:1135: UndefinedMetricWarning: F-score is ill-defined and being set to 0.0 due to no predicted samples.\n",
      "  'precision', 'predicted', average, warn_for)\n",
      "/anaconda3/lib/python3.6/site-packages/sklearn/metrics/classification.py:1135: UndefinedMetricWarning: Precision is ill-defined and being set to 0.0 due to no predicted samples.\n",
      "  'precision', 'predicted', average, warn_for)\n"
     ]
    },
    {
     "name": "stdout",
     "output_type": "stream",
     "text": [
      "2402/2402 [==============================] - 17s 7ms/step - loss: 4.1811 - sparse_categorical_accuracy: 0.0000e+00 - acc: 0.0608 - val_loss: 4.0319 - val_sparse_categorical_accuracy: 0.0000e+00 - val_acc: 0.0682\n",
      " — val_f1: 0.0132 — val_precision: 1.0000 — val_recall 0.0067\n",
      "Epoch 4/20\n",
      "2402/2402 [==============================] - 17s 7ms/step - loss: 2.9154 - sparse_categorical_accuracy: 0.0142 - acc: 0.3239 - val_loss: 3.6052 - val_sparse_categorical_accuracy: 0.0067 - val_acc: 0.1681\n",
      " — val_f1: 0.0635 — val_precision: 0.6897 — val_recall 0.0333\n",
      "Epoch 5/20\n",
      "2402/2402 [==============================] - 18s 7ms/step - loss: 1.5556 - sparse_categorical_accuracy: 0.0108 - acc: 0.6869 - val_loss: 3.4283 - val_sparse_categorical_accuracy: 0.0116 - val_acc: 0.1697\n",
      " — val_f1: 0.0929 — val_precision: 0.6667 — val_recall 0.0499\n",
      "Epoch 6/20\n",
      "2402/2402 [==============================] - 18s 7ms/step - loss: 0.7239 - sparse_categorical_accuracy: 0.0104 - acc: 0.8859 - val_loss: 3.4322 - val_sparse_categorical_accuracy: 0.0067 - val_acc: 0.2130\n",
      " — val_f1: 0.1231 — val_precision: 0.6308 — val_recall 0.0682\n",
      "Epoch 7/20\n",
      "2402/2402 [==============================] - 19s 8ms/step - loss: 0.3293 - sparse_categorical_accuracy: 0.0100 - acc: 0.9675 - val_loss: 3.5391 - val_sparse_categorical_accuracy: 0.0083 - val_acc: 0.2030\n",
      " — val_f1: 0.1357 — val_precision: 0.5974 — val_recall 0.0765\n",
      "Epoch 8/20\n",
      "2402/2402 [==============================] - 20s 8ms/step - loss: 0.1541 - sparse_categorical_accuracy: 0.0100 - acc: 0.9938 - val_loss: 3.6714 - val_sparse_categorical_accuracy: 0.0017 - val_acc: 0.2030\n",
      " — val_f1: 0.1497 — val_precision: 0.4953 — val_recall 0.0882\n",
      "Epoch 9/20\n",
      "2402/2402 [==============================] - 19s 8ms/step - loss: 0.0826 - sparse_categorical_accuracy: 0.0100 - acc: 0.9967 - val_loss: 3.7090 - val_sparse_categorical_accuracy: 0.0017 - val_acc: 0.2013\n",
      " — val_f1: 0.1662 — val_precision: 0.4959 — val_recall 0.0998\n",
      "Epoch 10/20\n",
      "2402/2402 [==============================] - 18s 8ms/step - loss: 0.0482 - sparse_categorical_accuracy: 0.0100 - acc: 0.9979 - val_loss: 3.7980 - val_sparse_categorical_accuracy: 0.0017 - val_acc: 0.2047\n",
      " — val_f1: 0.2024 — val_precision: 0.5067 — val_recall 0.1265\n",
      "Epoch 11/20\n",
      "2402/2402 [==============================] - 17s 7ms/step - loss: 0.0316 - sparse_categorical_accuracy: 0.0100 - acc: 0.9988 - val_loss: 3.8752 - val_sparse_categorical_accuracy: 0.0050 - val_acc: 0.2030\n",
      " — val_f1: 0.1932 — val_precision: 0.4485 — val_recall 0.1231\n",
      "Epoch 12/20\n",
      "2402/2402 [==============================] - 17s 7ms/step - loss: 0.0220 - sparse_categorical_accuracy: 0.0100 - acc: 0.9992 - val_loss: 3.9002 - val_sparse_categorical_accuracy: 0.0050 - val_acc: 0.2130\n",
      " — val_f1: 0.1870 — val_precision: 0.4260 — val_recall 0.1198\n",
      "Epoch 13/20\n",
      "2402/2402 [==============================] - 18s 7ms/step - loss: 0.0166 - sparse_categorical_accuracy: 0.0100 - acc: 0.9992 - val_loss: 3.9218 - val_sparse_categorical_accuracy: 0.0067 - val_acc: 0.2163\n",
      " — val_f1: 0.2119 — val_precision: 0.4375 — val_recall 0.1398\n",
      "Epoch 14/20\n",
      "2402/2402 [==============================] - 19s 8ms/step - loss: 0.0127 - sparse_categorical_accuracy: 0.0100 - acc: 0.9992 - val_loss: 4.0272 - val_sparse_categorical_accuracy: 0.0050 - val_acc: 0.2146\n",
      " — val_f1: 0.2030 — val_precision: 0.4112 — val_recall 0.1348\n",
      "Epoch 15/20\n",
      "2402/2402 [==============================] - 18s 8ms/step - loss: 0.0104 - sparse_categorical_accuracy: 0.0100 - acc: 0.9992 - val_loss: 4.0131 - val_sparse_categorical_accuracy: 0.0050 - val_acc: 0.2113\n",
      " — val_f1: 0.2195 — val_precision: 0.4378 — val_recall 0.1464\n",
      "Epoch 16/20\n",
      "2402/2402 [==============================] - 18s 8ms/step - loss: 0.0079 - sparse_categorical_accuracy: 0.0100 - acc: 0.9992 - val_loss: 4.0884 - val_sparse_categorical_accuracy: 0.0067 - val_acc: 0.2130\n",
      " — val_f1: 0.2064 — val_precision: 0.3944 — val_recall 0.1398\n",
      "Epoch 17/20\n",
      "2402/2402 [==============================] - 18s 8ms/step - loss: 0.0064 - sparse_categorical_accuracy: 0.0100 - acc: 0.9996 - val_loss: 4.1178 - val_sparse_categorical_accuracy: 0.0050 - val_acc: 0.2196\n",
      " — val_f1: 0.2114 — val_precision: 0.3919 — val_recall 0.1448\n",
      "Epoch 18/20\n",
      "2402/2402 [==============================] - 19s 8ms/step - loss: 0.0049 - sparse_categorical_accuracy: 0.0100 - acc: 0.9996 - val_loss: 4.1601 - val_sparse_categorical_accuracy: 0.0050 - val_acc: 0.2213\n",
      " — val_f1: 0.2201 — val_precision: 0.3915 — val_recall 0.1531\n",
      "Epoch 19/20\n",
      "2402/2402 [==============================] - 19s 8ms/step - loss: 0.0040 - sparse_categorical_accuracy: 0.0100 - acc: 0.9996 - val_loss: 4.1866 - val_sparse_categorical_accuracy: 0.0050 - val_acc: 0.2163\n",
      " — val_f1: 0.2264 — val_precision: 0.3887 — val_recall 0.1597\n",
      "Epoch 20/20\n",
      "2402/2402 [==============================] - 19s 8ms/step - loss: 0.0031 - sparse_categorical_accuracy: 0.0100 - acc: 1.0000 - val_loss: 4.1979 - val_sparse_categorical_accuracy: 0.0050 - val_acc: 0.2213\n",
      " — val_f1: 0.2193 — val_precision: 0.3765 — val_recall 0.1547\n"
     ]
    }
   ],
   "source": [
    "history = model.fit(X_train, y_train,\n",
    "                    epochs=20,\n",
    "                    verbose=True,\n",
    "                    validation_data=(X_test, y_test),\n",
    "                    batch_size=10,\n",
    "                    callbacks=[metrics])"
   ]
  },
  {
   "cell_type": "code",
   "execution_count": 69,
   "metadata": {
    "ExecuteTime": {
     "end_time": "2019-06-06T19:24:05.862325Z",
     "start_time": "2019-06-06T19:24:05.561947Z"
    }
   },
   "outputs": [
    {
     "name": "stdout",
     "output_type": "stream",
     "text": [
      "Training Accuracy: 1.0000\n",
      "Testing Accuracy:  0.2213\n"
     ]
    }
   ],
   "source": [
    "loss, sparse_categorical_accuracy, accuracy = model.evaluate(X_train, y_train, verbose=False)\n",
    "print(\"Training Accuracy: {:.4f}\".format(accuracy))\n",
    "loss, sparse_categorical_accuracy, accuracy = model.evaluate(X_test, y_test, verbose=False)\n",
    "print(\"Testing Accuracy:  {:.4f}\".format(accuracy))"
   ]
  },
  {
   "cell_type": "code",
   "execution_count": 70,
   "metadata": {
    "ExecuteTime": {
     "end_time": "2019-06-06T19:24:11.048846Z",
     "start_time": "2019-06-06T19:24:08.442787Z"
    }
   },
   "outputs": [
    {
     "data": {
      "image/png": "[encoded data removed]",
      "text/plain": [
       "<Figure size 864x360 with 2 Axes>"
      ]
     },
     "metadata": {},
     "output_type": "display_data"
    }
   ],
   "source": [
    "plot_history(history)"
   ]
  },
  {
   "cell_type": "markdown",
   "metadata": {},
   "source": [
    "## MaxPooling"
   ]
  },
  {
   "cell_type": "code",
   "execution_count": 71,
   "metadata": {
    "ExecuteTime": {
     "end_time": "2019-06-06T19:25:48.096733Z",
     "start_time": "2019-06-06T19:25:48.016145Z"
    }
   },
   "outputs": [
    {
     "name": "stdout",
     "output_type": "stream",
     "text": [
      "_________________________________________________________________\n",
      "Layer (type)                 Output Shape              Param #   \n",
      "=================================================================\n",
      "embedding_2 (Embedding)      (None, 600, 50)           3124100   \n",
      "_________________________________________________________________\n",
      "global_max_pooling1d_1 (Glob (None, 50)                0         \n",
      "_________________________________________________________________\n",
      "dense_5 (Dense)              (None, 10)                510       \n",
      "_________________________________________________________________\n",
      "dense_6 (Dense)              (None, 100)               1100      \n",
      "=================================================================\n",
      "Total params: 3,125,710\n",
      "Trainable params: 3,125,710\n",
      "Non-trainable params: 0\n",
      "_________________________________________________________________\n"
     ]
    }
   ],
   "source": [
    "from keras.models import Sequential\n",
    "from keras import layers\n",
    "\n",
    "embedding_dim = 50\n",
    "\n",
    "model = Sequential()\n",
    "model.add(layers.Embedding(input_dim=vocab_size, \n",
    "                           output_dim=embedding_dim, \n",
    "                           input_length=maxlen))\n",
    "model.add(layers.GlobalMaxPool1D())\n",
    "model.add(layers.Dense(10, activation='relu'))\n",
    "model.add(layers.Dense(100, activation='softmax'))\n",
    "model.compile(optimizer='adam',\n",
    "              loss='categorical_crossentropy',\n",
    "              metrics=['sparse_categorical_accuracy','accuracy'])\n",
    "model.summary()"
   ]
  },
  {
   "cell_type": "code",
   "execution_count": 72,
   "metadata": {
    "ExecuteTime": {
     "end_time": "2019-06-06T19:32:07.087894Z",
     "start_time": "2019-06-06T19:26:06.478260Z"
    }
   },
   "outputs": [
    {
     "name": "stdout",
     "output_type": "stream",
     "text": [
      "Train on 2402 samples, validate on 601 samples\n",
      "Epoch 1/20\n",
      "2402/2402 [==============================] - 20s 8ms/step - loss: 4.6055 - sparse_categorical_accuracy: 0.4800 - acc: 0.0079 - val_loss: 4.5985 - val_sparse_categorical_accuracy: 0.1614 - val_acc: 0.0166\n",
      " — val_f1: 0.0000 — val_precision: 0.0000 — val_recall 0.0000\n",
      "Epoch 2/20\n",
      "  10/2402 [..............................] - ETA: 23s - loss: 4.5935 - sparse_categorical_accuracy: 0.1000 - acc: 0.1000"
     ]
    },
    {
     "name": "stderr",
     "output_type": "stream",
     "text": [
      "/anaconda3/lib/python3.6/site-packages/sklearn/metrics/classification.py:1135: UndefinedMetricWarning: F-score is ill-defined and being set to 0.0 due to no predicted samples.\n",
      "  'precision', 'predicted', average, warn_for)\n",
      "/anaconda3/lib/python3.6/site-packages/sklearn/metrics/classification.py:1135: UndefinedMetricWarning: Precision is ill-defined and being set to 0.0 due to no predicted samples.\n",
      "  'precision', 'predicted', average, warn_for)\n"
     ]
    },
    {
     "name": "stdout",
     "output_type": "stream",
     "text": [
      "2402/2402 [==============================] - 18s 8ms/step - loss: 4.5848 - sparse_categorical_accuracy: 0.1961 - acc: 0.0254 - val_loss: 4.5681 - val_sparse_categorical_accuracy: 0.0017 - val_acc: 0.0632\n",
      " — val_f1: 0.0000 — val_precision: 0.0000 — val_recall 0.0000\n",
      "Epoch 3/20\n",
      "  20/2402 [..............................] - ETA: 16s - loss: 4.5382 - sparse_categorical_accuracy: 0.0000e+00 - acc: 0.1000"
     ]
    },
    {
     "name": "stderr",
     "output_type": "stream",
     "text": [
      "/anaconda3/lib/python3.6/site-packages/sklearn/metrics/classification.py:1135: UndefinedMetricWarning: F-score is ill-defined and being set to 0.0 due to no predicted samples.\n",
      "  'precision', 'predicted', average, warn_for)\n",
      "/anaconda3/lib/python3.6/site-packages/sklearn/metrics/classification.py:1135: UndefinedMetricWarning: Precision is ill-defined and being set to 0.0 due to no predicted samples.\n",
      "  'precision', 'predicted', average, warn_for)\n"
     ]
    },
    {
     "name": "stdout",
     "output_type": "stream",
     "text": [
      "2402/2402 [==============================] - 18s 8ms/step - loss: 4.5036 - sparse_categorical_accuracy: 0.0000e+00 - acc: 0.0637 - val_loss: 4.4521 - val_sparse_categorical_accuracy: 0.0000e+00 - val_acc: 0.0649\n",
      " — val_f1: 0.0000 — val_precision: 0.0000 — val_recall 0.0000\n",
      "Epoch 4/20\n",
      "  20/2402 [..............................] - ETA: 18s - loss: 4.4461 - sparse_categorical_accuracy: 0.0000e+00 - acc: 0.0000e+00"
     ]
    },
    {
     "name": "stderr",
     "output_type": "stream",
     "text": [
      "/anaconda3/lib/python3.6/site-packages/sklearn/metrics/classification.py:1135: UndefinedMetricWarning: F-score is ill-defined and being set to 0.0 due to no predicted samples.\n",
      "  'precision', 'predicted', average, warn_for)\n",
      "/anaconda3/lib/python3.6/site-packages/sklearn/metrics/classification.py:1135: UndefinedMetricWarning: Precision is ill-defined and being set to 0.0 due to no predicted samples.\n",
      "  'precision', 'predicted', average, warn_for)\n"
     ]
    },
    {
     "name": "stdout",
     "output_type": "stream",
     "text": [
      "2402/2402 [==============================] - 18s 7ms/step - loss: 4.2741 - sparse_categorical_accuracy: 0.0000e+00 - acc: 0.0849 - val_loss: 4.1875 - val_sparse_categorical_accuracy: 0.0000e+00 - val_acc: 0.0832\n",
      " — val_f1: 0.0000 — val_precision: 0.0000 — val_recall 0.0000\n",
      "Epoch 5/20\n",
      "  20/2402 [..............................] - ETA: 17s - loss: 4.0252 - sparse_categorical_accuracy: 0.0000e+00 - acc: 0.1000"
     ]
    },
    {
     "name": "stderr",
     "output_type": "stream",
     "text": [
      "/anaconda3/lib/python3.6/site-packages/sklearn/metrics/classification.py:1135: UndefinedMetricWarning: F-score is ill-defined and being set to 0.0 due to no predicted samples.\n",
      "  'precision', 'predicted', average, warn_for)\n",
      "/anaconda3/lib/python3.6/site-packages/sklearn/metrics/classification.py:1135: UndefinedMetricWarning: Precision is ill-defined and being set to 0.0 due to no predicted samples.\n",
      "  'precision', 'predicted', average, warn_for)\n"
     ]
    },
    {
     "name": "stdout",
     "output_type": "stream",
     "text": [
      "2402/2402 [==============================] - 18s 7ms/step - loss: 3.8952 - sparse_categorical_accuracy: 0.0000e+00 - acc: 0.1274 - val_loss: 3.8585 - val_sparse_categorical_accuracy: 0.0000e+00 - val_acc: 0.1331\n",
      " — val_f1: 0.0000 — val_precision: 0.0000 — val_recall 0.0000\n",
      "Epoch 6/20\n",
      "  20/2402 [..............................] - ETA: 18s - loss: 3.5226 - sparse_categorical_accuracy: 0.0000e+00 - acc: 0.2000"
     ]
    },
    {
     "name": "stderr",
     "output_type": "stream",
     "text": [
      "/anaconda3/lib/python3.6/site-packages/sklearn/metrics/classification.py:1135: UndefinedMetricWarning: F-score is ill-defined and being set to 0.0 due to no predicted samples.\n",
      "  'precision', 'predicted', average, warn_for)\n",
      "/anaconda3/lib/python3.6/site-packages/sklearn/metrics/classification.py:1135: UndefinedMetricWarning: Precision is ill-defined and being set to 0.0 due to no predicted samples.\n",
      "  'precision', 'predicted', average, warn_for)\n"
     ]
    },
    {
     "name": "stdout",
     "output_type": "stream",
     "text": [
      "2402/2402 [==============================] - 18s 8ms/step - loss: 3.4900 - sparse_categorical_accuracy: 4.1632e-04 - acc: 0.1894 - val_loss: 3.5722 - val_sparse_categorical_accuracy: 0.0067 - val_acc: 0.1697\n",
      " — val_f1: 0.0033 — val_precision: 1.0000 — val_recall 0.0017\n",
      "Epoch 7/20\n",
      "2402/2402 [==============================] - 19s 8ms/step - loss: 3.1241 - sparse_categorical_accuracy: 0.0050 - acc: 0.2519 - val_loss: 3.3399 - val_sparse_categorical_accuracy: 0.0100 - val_acc: 0.2346\n",
      " — val_f1: 0.0033 — val_precision: 1.0000 — val_recall 0.0017\n",
      "Epoch 8/20\n",
      "2402/2402 [==============================] - 19s 8ms/step - loss: 2.7851 - sparse_categorical_accuracy: 0.0079 - acc: 0.3585 - val_loss: 3.1364 - val_sparse_categorical_accuracy: 0.0133 - val_acc: 0.2363\n",
      " — val_f1: 0.0099 — val_precision: 1.0000 — val_recall 0.0050\n",
      "Epoch 9/20\n",
      "2402/2402 [==============================] - 19s 8ms/step - loss: 2.4736 - sparse_categorical_accuracy: 0.0096 - acc: 0.4176 - val_loss: 2.9683 - val_sparse_categorical_accuracy: 0.0083 - val_acc: 0.2879\n",
      " — val_f1: 0.0359 — val_precision: 1.0000 — val_recall 0.0183\n",
      "Epoch 10/20\n",
      "2402/2402 [==============================] - 19s 8ms/step - loss: 2.2178 - sparse_categorical_accuracy: 0.0104 - acc: 0.4784 - val_loss: 2.8306 - val_sparse_categorical_accuracy: 0.0050 - val_acc: 0.3128\n",
      " — val_f1: 0.0518 — val_precision: 0.9412 — val_recall 0.0266\n",
      "Epoch 11/20\n",
      "2402/2402 [==============================] - 19s 8ms/step - loss: 1.9943 - sparse_categorical_accuracy: 0.0096 - acc: 0.5241 - val_loss: 2.7439 - val_sparse_categorical_accuracy: 0.0050 - val_acc: 0.3295\n",
      " — val_f1: 0.0703 — val_precision: 0.8800 — val_recall 0.0366\n",
      "Epoch 12/20\n",
      "2402/2402 [==============================] - 18s 7ms/step - loss: 1.8038 - sparse_categorical_accuracy: 0.0100 - acc: 0.5741 - val_loss: 2.6720 - val_sparse_categorical_accuracy: 0.0116 - val_acc: 0.3228\n",
      " — val_f1: 0.1033 — val_precision: 0.8684 — val_recall 0.0549\n",
      "Epoch 13/20\n",
      "2402/2402 [==============================] - 17s 7ms/step - loss: 1.6426 - sparse_categorical_accuracy: 0.0100 - acc: 0.6066 - val_loss: 2.6242 - val_sparse_categorical_accuracy: 0.0083 - val_acc: 0.3378\n",
      " — val_f1: 0.1350 — val_precision: 0.8627 — val_recall 0.0732\n",
      "Epoch 14/20\n",
      "2402/2402 [==============================] - 17s 7ms/step - loss: 1.5030 - sparse_categorical_accuracy: 0.0100 - acc: 0.6486 - val_loss: 2.5983 - val_sparse_categorical_accuracy: 0.0067 - val_acc: 0.3328\n",
      " — val_f1: 0.1627 — val_precision: 0.8571 — val_recall 0.0899\n",
      "Epoch 15/20\n",
      "2402/2402 [==============================] - 17s 7ms/step - loss: 1.3822 - sparse_categorical_accuracy: 0.0100 - acc: 0.6878 - val_loss: 2.5734 - val_sparse_categorical_accuracy: 0.0067 - val_acc: 0.3561\n",
      " — val_f1: 0.1783 — val_precision: 0.8333 — val_recall 0.0998\n",
      "Epoch 16/20\n",
      "2402/2402 [==============================] - 17s 7ms/step - loss: 1.2718 - sparse_categorical_accuracy: 0.0100 - acc: 0.7044 - val_loss: 2.5666 - val_sparse_categorical_accuracy: 0.0083 - val_acc: 0.3444\n",
      " — val_f1: 0.1983 — val_precision: 0.8000 — val_recall 0.1131\n",
      "Epoch 17/20\n",
      "2402/2402 [==============================] - 17s 7ms/step - loss: 1.1748 - sparse_categorical_accuracy: 0.0100 - acc: 0.7415 - val_loss: 2.5565 - val_sparse_categorical_accuracy: 0.0067 - val_acc: 0.3527\n",
      " — val_f1: 0.2472 — val_precision: 0.8447 — val_recall 0.1448\n",
      "Epoch 18/20\n",
      "2402/2402 [==============================] - 17s 7ms/step - loss: 1.0808 - sparse_categorical_accuracy: 0.0100 - acc: 0.7614 - val_loss: 2.5730 - val_sparse_categorical_accuracy: 0.0050 - val_acc: 0.3644\n",
      " — val_f1: 0.2423 — val_precision: 0.7890 — val_recall 0.1431\n",
      "Epoch 19/20\n",
      "2402/2402 [==============================] - 17s 7ms/step - loss: 0.9984 - sparse_categorical_accuracy: 0.0100 - acc: 0.7802 - val_loss: 2.5831 - val_sparse_categorical_accuracy: 0.0083 - val_acc: 0.3794\n",
      " — val_f1: 0.2685 — val_precision: 0.7597 — val_recall 0.1631\n",
      "Epoch 20/20\n",
      "2402/2402 [==============================] - 18s 7ms/step - loss: 0.9232 - sparse_categorical_accuracy: 0.0100 - acc: 0.8060 - val_loss: 2.5936 - val_sparse_categorical_accuracy: 0.0083 - val_acc: 0.3561\n",
      " — val_f1: 0.2846 — val_precision: 0.7664 — val_recall 0.1747\n"
     ]
    }
   ],
   "source": [
    "history = model.fit(X_train, y_train,\n",
    "                    epochs=20,\n",
    "                    verbose=True,\n",
    "                    validation_data=(X_test, y_test),\n",
    "                    batch_size=10,\n",
    "                    callbacks=[metrics])"
   ]
  },
  {
   "cell_type": "code",
   "execution_count": 73,
   "metadata": {
    "ExecuteTime": {
     "end_time": "2019-06-06T19:32:29.239321Z",
     "start_time": "2019-06-06T19:32:29.092769Z"
    }
   },
   "outputs": [
    {
     "name": "stdout",
     "output_type": "stream",
     "text": [
      "Training Accuracy: 0.8518\n",
      "Testing Accuracy:  0.3561\n"
     ]
    }
   ],
   "source": [
    "loss, sparse_categorical_accuracy, accuracy = model.evaluate(X_train, y_train, verbose=False)\n",
    "print(\"Training Accuracy: {:.4f}\".format(accuracy))\n",
    "loss, sparse_categorical_accuracy, accuracy = model.evaluate(X_test, y_test, verbose=False)\n",
    "print(\"Testing Accuracy:  {:.4f}\".format(accuracy))"
   ]
  },
  {
   "cell_type": "code",
   "execution_count": 74,
   "metadata": {
    "ExecuteTime": {
     "end_time": "2019-06-06T19:32:31.150937Z",
     "start_time": "2019-06-06T19:32:30.911410Z"
    }
   },
   "outputs": [
    {
     "data": {
      "image/png": "[encoded data removed]",
      "text/plain": [
       "<Figure size 864x360 with 2 Axes>"
      ]
     },
     "metadata": {},
     "output_type": "display_data"
    }
   ],
   "source": [
    "plot_history(history)"
   ]
  },
  {
   "cell_type": "code",
   "execution_count": null,
   "metadata": {},
   "outputs": [],
   "source": []
  }
 ],
 "metadata": {
  "kernelspec": {
   "display_name": "Python 3",
   "language": "python",
   "name": "python3"
  },
  "language_info": {
   "codemirror_mode": {
    "name": "ipython",
    "version": 3
   },
   "file_extension": ".py",
   "mimetype": "text/x-python",
   "name": "python",
   "nbconvert_exporter": "python",
   "pygments_lexer": "ipython3",
   "version": "3.6.5"
  }
 },
 "nbformat": 4,
 "nbformat_minor": 2
}
