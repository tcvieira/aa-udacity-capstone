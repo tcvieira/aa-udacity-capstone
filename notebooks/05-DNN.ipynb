{
 "cells": [
  {
   "cell_type": "markdown",
   "metadata": {},
   "source": [
    "# Imports and Functions"
   ]
  },
  {
   "cell_type": "code",
   "execution_count": 1,
   "metadata": {
    "ExecuteTime": {
     "end_time": "2019-06-07T16:22:36.088899Z",
     "start_time": "2019-06-07T16:22:29.053313Z"
    }
   },
   "outputs": [],
   "source": [
    "import pandas as pd\n",
    "from time import time\n",
    "\n",
    "import visuals as vs \n",
    "\n",
    "%matplotlib inline"
   ]
  },
  {
   "cell_type": "code",
   "execution_count": 2,
   "metadata": {
    "ExecuteTime": {
     "end_time": "2019-06-07T16:22:36.145084Z",
     "start_time": "2019-06-07T16:22:36.105970Z"
    }
   },
   "outputs": [],
   "source": [
    "import matplotlib.pyplot as plt\n",
    "plt.style.use('ggplot')\n",
    "\n",
    "def plot_history(history):\n",
    "    acc = history.history['acc']\n",
    "    val_acc = history.history['val_acc']\n",
    "    loss = history.history['loss']\n",
    "    val_loss = history.history['val_loss']\n",
    "    x = range(1, len(acc) + 1)\n",
    "\n",
    "    plt.figure(figsize=(12, 5))\n",
    "    plt.subplot(1, 2, 1)\n",
    "    plt.plot(x, acc, 'b', label='Training acc')\n",
    "    plt.plot(x, val_acc, 'r', label='Validation acc')\n",
    "    plt.title('Training and validation accuracy')\n",
    "    plt.legend()\n",
    "    plt.subplot(1, 2, 2)\n",
    "    plt.plot(x, loss, 'b', label='Training loss')\n",
    "    plt.plot(x, val_loss, 'r', label='Validation loss')\n",
    "    plt.title('Training and validation loss')\n",
    "    plt.legend()"
   ]
  },
  {
   "cell_type": "markdown",
   "metadata": {},
   "source": [
    "# Load Data"
   ]
  },
  {
   "cell_type": "code",
   "execution_count": 3,
   "metadata": {
    "ExecuteTime": {
     "end_time": "2019-06-07T16:22:36.896236Z",
     "start_time": "2019-06-07T16:22:36.150023Z"
    }
   },
   "outputs": [
    {
     "data": {
      "text/html": [
       "<div>\n",
       "<style scoped>\n",
       "    .dataframe tbody tr th:only-of-type {\n",
       "        vertical-align: middle;\n",
       "    }\n",
       "\n",
       "    .dataframe tbody tr th {\n",
       "        vertical-align: top;\n",
       "    }\n",
       "\n",
       "    .dataframe thead th {\n",
       "        text-align: right;\n",
       "    }\n",
       "</style>\n",
       "<table border=\"1\" class=\"dataframe\">\n",
       "  <thead>\n",
       "    <tr style=\"text-align: right;\">\n",
       "      <th></th>\n",
       "      <th>SUBJECT</th>\n",
       "      <th>AUTHOR</th>\n",
       "      <th>TEXT</th>\n",
       "      <th>TEXT_CLEAN</th>\n",
       "      <th>NUM_STOPWORDS</th>\n",
       "      <th>NUM_PUNCTUATIONS</th>\n",
       "      <th>NUM_WORDS_UPPER</th>\n",
       "      <th>NUM_CHARS</th>\n",
       "      <th>NUM_WORDS</th>\n",
       "      <th>AVG_WORD</th>\n",
       "    </tr>\n",
       "  </thead>\n",
       "  <tbody>\n",
       "    <tr>\n",
       "      <th>0</th>\n",
       "      <td>ASSUNTOS VARIADOS</td>\n",
       "      <td>LUIZ FLAVIO SAPORI</td>\n",
       "      <td>19/03/2009\\nFATO CORRIQUEIRO\\nO fato mais impo...</td>\n",
       "      <td>19 03 2009 fato corriqueiro fato importante se...</td>\n",
       "      <td>67</td>\n",
       "      <td>29</td>\n",
       "      <td>5</td>\n",
       "      <td>1375</td>\n",
       "      <td>199</td>\n",
       "      <td>5.787129</td>\n",
       "    </tr>\n",
       "    <tr>\n",
       "      <th>1</th>\n",
       "      <td>ASSUNTOS VARIADOS</td>\n",
       "      <td>LUIZ FLAVIO SAPORI</td>\n",
       "      <td>06/07/2009\\nPOLÍTICA DE ESTADO\\nUm problema cr...</td>\n",
       "      <td>06 07 2009 politica estado problema cronico po...</td>\n",
       "      <td>75</td>\n",
       "      <td>29</td>\n",
       "      <td>11</td>\n",
       "      <td>1342</td>\n",
       "      <td>207</td>\n",
       "      <td>5.449275</td>\n",
       "    </tr>\n",
       "    <tr>\n",
       "      <th>2</th>\n",
       "      <td>ASSUNTOS VARIADOS</td>\n",
       "      <td>LUIZ FLAVIO SAPORI</td>\n",
       "      <td>12/07/2009\\nTOQUE DE RECOLHER\\nProcurado para ...</td>\n",
       "      <td>12 07 2009 toque recolher procurado suspender ...</td>\n",
       "      <td>95</td>\n",
       "      <td>46</td>\n",
       "      <td>11</td>\n",
       "      <td>1587</td>\n",
       "      <td>257</td>\n",
       "      <td>5.180392</td>\n",
       "    </tr>\n",
       "    <tr>\n",
       "      <th>3</th>\n",
       "      <td>ASSUNTOS VARIADOS</td>\n",
       "      <td>LUIZ FLAVIO SAPORI</td>\n",
       "      <td>23/03/2009\\nCRISE SOCIOEDUCATIVA\\nOcorreram du...</td>\n",
       "      <td>23 03 2009 crise socioeducativa ocorreram duas...</td>\n",
       "      <td>55</td>\n",
       "      <td>26</td>\n",
       "      <td>6</td>\n",
       "      <td>1141</td>\n",
       "      <td>167</td>\n",
       "      <td>5.761905</td>\n",
       "    </tr>\n",
       "    <tr>\n",
       "      <th>4</th>\n",
       "      <td>ASSUNTOS VARIADOS</td>\n",
       "      <td>LUIZ FLAVIO SAPORI</td>\n",
       "      <td>24/12/2008\\nESTATÍSTICAS CRIMINAIS CONFIÁVEIS\\...</td>\n",
       "      <td>24 12 2008 estatisticas criminais confiaveis b...</td>\n",
       "      <td>133</td>\n",
       "      <td>43</td>\n",
       "      <td>17</td>\n",
       "      <td>2309</td>\n",
       "      <td>366</td>\n",
       "      <td>5.246612</td>\n",
       "    </tr>\n",
       "  </tbody>\n",
       "</table>\n",
       "</div>"
      ],
      "text/plain": [
       "             SUBJECT              AUTHOR  \\\n",
       "0  ASSUNTOS VARIADOS  LUIZ FLAVIO SAPORI   \n",
       "1  ASSUNTOS VARIADOS  LUIZ FLAVIO SAPORI   \n",
       "2  ASSUNTOS VARIADOS  LUIZ FLAVIO SAPORI   \n",
       "3  ASSUNTOS VARIADOS  LUIZ FLAVIO SAPORI   \n",
       "4  ASSUNTOS VARIADOS  LUIZ FLAVIO SAPORI   \n",
       "\n",
       "                                                TEXT  \\\n",
       "0  19/03/2009\\nFATO CORRIQUEIRO\\nO fato mais impo...   \n",
       "1  06/07/2009\\nPOLÍTICA DE ESTADO\\nUm problema cr...   \n",
       "2  12/07/2009\\nTOQUE DE RECOLHER\\nProcurado para ...   \n",
       "3  23/03/2009\\nCRISE SOCIOEDUCATIVA\\nOcorreram du...   \n",
       "4  24/12/2008\\nESTATÍSTICAS CRIMINAIS CONFIÁVEIS\\...   \n",
       "\n",
       "                                          TEXT_CLEAN  NUM_STOPWORDS  \\\n",
       "0  19 03 2009 fato corriqueiro fato importante se...             67   \n",
       "1  06 07 2009 politica estado problema cronico po...             75   \n",
       "2  12 07 2009 toque recolher procurado suspender ...             95   \n",
       "3  23 03 2009 crise socioeducativa ocorreram duas...             55   \n",
       "4  24 12 2008 estatisticas criminais confiaveis b...            133   \n",
       "\n",
       "   NUM_PUNCTUATIONS  NUM_WORDS_UPPER  NUM_CHARS  NUM_WORDS  AVG_WORD  \n",
       "0                29                5       1375        199  5.787129  \n",
       "1                29               11       1342        207  5.449275  \n",
       "2                46               11       1587        257  5.180392  \n",
       "3                26                6       1141        167  5.761905  \n",
       "4                43               17       2309        366  5.246612  "
      ]
     },
     "execution_count": 3,
     "metadata": {},
     "output_type": "execute_result"
    }
   ],
   "source": [
    "df_data = pd.read_csv('../data/data_feat.csv')\n",
    "df_data.head()"
   ]
  },
  {
   "cell_type": "markdown",
   "metadata": {},
   "source": [
    "# Prep Data"
   ]
  },
  {
   "cell_type": "code",
   "execution_count": 4,
   "metadata": {
    "ExecuteTime": {
     "end_time": "2019-06-07T16:22:36.912946Z",
     "start_time": "2019-06-07T16:22:36.898989Z"
    }
   },
   "outputs": [],
   "source": [
    "df_data['SUBJECT'] = df_data['SUBJECT'].astype('category')\n",
    "df_data['AUTHOR'] = df_data['AUTHOR'].astype('category')"
   ]
  },
  {
   "cell_type": "code",
   "execution_count": 5,
   "metadata": {
    "ExecuteTime": {
     "end_time": "2019-06-07T16:22:36.925741Z",
     "start_time": "2019-06-07T16:22:36.916969Z"
    }
   },
   "outputs": [],
   "source": [
    "#df_data['AUTHOR_CODE'] = df_data['AUTHOR'].astype('category').cat.codes"
   ]
  },
  {
   "cell_type": "code",
   "execution_count": 6,
   "metadata": {
    "ExecuteTime": {
     "end_time": "2019-06-07T16:22:36.994258Z",
     "start_time": "2019-06-07T16:22:36.928365Z"
    }
   },
   "outputs": [],
   "source": [
    "#df_data.head()"
   ]
  },
  {
   "cell_type": "code",
   "execution_count": 7,
   "metadata": {
    "ExecuteTime": {
     "end_time": "2019-06-07T16:22:37.007963Z",
     "start_time": "2019-06-07T16:22:37.001178Z"
    },
    "scrolled": true
   },
   "outputs": [],
   "source": [
    "#classes = dict(enumerate(df_data['AUTHOR'].cat.categories))\n",
    "#classes"
   ]
  },
  {
   "cell_type": "markdown",
   "metadata": {},
   "source": [
    "# One Hot Encode Target"
   ]
  },
  {
   "cell_type": "code",
   "execution_count": 8,
   "metadata": {
    "ExecuteTime": {
     "end_time": "2019-06-07T16:22:59.368211Z",
     "start_time": "2019-06-07T16:22:37.020260Z"
    }
   },
   "outputs": [
    {
     "name": "stderr",
     "output_type": "stream",
     "text": [
      "/anaconda3/lib/python3.6/site-packages/h5py/__init__.py:36: FutureWarning: Conversion of the second argument of issubdtype from `float` to `np.floating` is deprecated. In future, it will be treated as `np.float64 == np.dtype(float).type`.\n",
      "  from ._conv import register_converters as _register_converters\n",
      "Using TensorFlow backend.\n"
     ]
    }
   ],
   "source": [
    "from sklearn.preprocessing import LabelEncoder\n",
    "from keras.utils import np_utils\n",
    "\n",
    "# encode class values as integers\n",
    "encoder = LabelEncoder()\n",
    "encoder.fit(df_data['AUTHOR'])\n",
    "encoded_Y = encoder.transform(df_data['AUTHOR'])\n",
    "# convert integers to dummy variables (i.e. one hot encoded)\n",
    "dummy_y = np_utils.to_categorical(encoded_Y)"
   ]
  },
  {
   "cell_type": "markdown",
   "metadata": {},
   "source": [
    "# Split Dataset"
   ]
  },
  {
   "cell_type": "code",
   "execution_count": 9,
   "metadata": {
    "ExecuteTime": {
     "end_time": "2019-06-07T16:22:59.467458Z",
     "start_time": "2019-06-07T16:22:59.386865Z"
    }
   },
   "outputs": [],
   "source": [
    "from sklearn.model_selection import train_test_split\n",
    "sentences_train, sentences_test, y_train, y_test = train_test_split(df_data['TEXT_CLEAN'], dummy_y,\n",
    "                                                    test_size=0.2, stratify=df_data['AUTHOR'], random_state=42)"
   ]
  },
  {
   "cell_type": "code",
   "execution_count": 10,
   "metadata": {
    "ExecuteTime": {
     "end_time": "2019-06-07T16:22:59.476460Z",
     "start_time": "2019-06-07T16:22:59.469380Z"
    }
   },
   "outputs": [
    {
     "name": "stdout",
     "output_type": "stream",
     "text": [
      "train shape (2402,)\n",
      "test shape (601,)\n"
     ]
    }
   ],
   "source": [
    "print(f'train shape {sentences_train.shape}')\n",
    "print(f'test shape {sentences_test.shape}')"
   ]
  },
  {
   "cell_type": "markdown",
   "metadata": {},
   "source": [
    "# TFIDF Texts"
   ]
  },
  {
   "cell_type": "code",
   "execution_count": null,
   "metadata": {
    "ExecuteTime": {
     "start_time": "2019-06-07T16:22:32.969Z"
    }
   },
   "outputs": [],
   "source": [
    "from sklearn.feature_extraction.text import TfidfVectorizer\n",
    "\n",
    "vectorizer = TfidfVectorizer()\n",
    "vectorizer.fit(sentences_train)\n",
    "\n",
    "X_train = vectorizer.transform(sentences_train)\n",
    "X_test  = vectorizer.transform(sentences_test)\n",
    "X_train"
   ]
  },
  {
   "cell_type": "markdown",
   "metadata": {},
   "source": [
    "# Keras Deep NN"
   ]
  },
  {
   "cell_type": "code",
   "execution_count": null,
   "metadata": {
    "ExecuteTime": {
     "start_time": "2019-06-07T16:22:35.139Z"
    }
   },
   "outputs": [],
   "source": [
    "from keras.models import Sequential\n",
    "from keras import layers"
   ]
  },
  {
   "cell_type": "code",
   "execution_count": 13,
   "metadata": {
    "ExecuteTime": {
     "end_time": "2019-06-07T15:32:45.456209Z",
     "start_time": "2019-06-07T15:32:45.451672Z"
    }
   },
   "outputs": [
    {
     "data": {
      "text/plain": [
       "62455"
      ]
     },
     "execution_count": 13,
     "metadata": {},
     "output_type": "execute_result"
    }
   ],
   "source": [
    "input_dim = X_train.shape[1]  # Number of features\n",
    "input_dim"
   ]
  },
  {
   "cell_type": "code",
   "execution_count": 21,
   "metadata": {
    "ExecuteTime": {
     "end_time": "2019-06-07T15:37:19.852633Z",
     "start_time": "2019-06-07T15:37:19.782822Z"
    }
   },
   "outputs": [],
   "source": [
    "model = Sequential()\n",
    "model.add(layers.Dense(10, input_dim=input_dim, activation='relu'))\n",
    "model.add(layers.Dropout(0.3))\n",
    "model.add(layers.Dense(512, activation='relu'))\n",
    "model.add(layers.Dropout(0.3))\n",
    "model.add(layers.Dense(100, activation='softmax'))"
   ]
  },
  {
   "cell_type": "code",
   "execution_count": 22,
   "metadata": {
    "ExecuteTime": {
     "end_time": "2019-06-07T15:37:20.779753Z",
     "start_time": "2019-06-07T15:37:20.740896Z"
    }
   },
   "outputs": [
    {
     "name": "stdout",
     "output_type": "stream",
     "text": [
      "_________________________________________________________________\n",
      "Layer (type)                 Output Shape              Param #   \n",
      "=================================================================\n",
      "dense_7 (Dense)              (None, 10)                624560    \n",
      "_________________________________________________________________\n",
      "dropout_5 (Dropout)          (None, 10)                0         \n",
      "_________________________________________________________________\n",
      "dense_8 (Dense)              (None, 512)               5632      \n",
      "_________________________________________________________________\n",
      "dropout_6 (Dropout)          (None, 512)               0         \n",
      "_________________________________________________________________\n",
      "dense_9 (Dense)              (None, 100)               51300     \n",
      "=================================================================\n",
      "Total params: 681,492\n",
      "Trainable params: 681,492\n",
      "Non-trainable params: 0\n",
      "_________________________________________________________________\n"
     ]
    }
   ],
   "source": [
    "model.compile(loss='categorical_crossentropy', \n",
    "              optimizer='adam', \n",
    "              metrics=['accuracy'])\n",
    "model.summary()"
   ]
  },
  {
   "cell_type": "code",
   "execution_count": 23,
   "metadata": {
    "ExecuteTime": {
     "end_time": "2019-06-07T15:38:15.028517Z",
     "start_time": "2019-06-07T15:37:28.091307Z"
    }
   },
   "outputs": [
    {
     "name": "stdout",
     "output_type": "stream",
     "text": [
      "Train on 2402 samples, validate on 601 samples\n",
      "Epoch 1/10\n",
      "2402/2402 [==============================] - 5s 2ms/step - loss: 4.5740 - acc: 0.0171 - val_loss: 4.3542 - val_acc: 0.0649\n",
      "Epoch 2/10\n",
      "2402/2402 [==============================] - 4s 2ms/step - loss: 3.8070 - acc: 0.0941 - val_loss: 3.1483 - val_acc: 0.2429\n",
      "Epoch 3/10\n",
      "2402/2402 [==============================] - 5s 2ms/step - loss: 2.8691 - acc: 0.2365 - val_loss: 2.5564 - val_acc: 0.4176\n",
      "Epoch 4/10\n",
      "2402/2402 [==============================] - 5s 2ms/step - loss: 2.4638 - acc: 0.3260 - val_loss: 2.3010 - val_acc: 0.4542\n",
      "Epoch 5/10\n",
      "2402/2402 [==============================] - 4s 2ms/step - loss: 2.1805 - acc: 0.3930 - val_loss: 2.1379 - val_acc: 0.5008\n",
      "Epoch 6/10\n",
      "2402/2402 [==============================] - 4s 2ms/step - loss: 2.0463 - acc: 0.4326 - val_loss: 2.0601 - val_acc: 0.4942\n",
      "Epoch 7/10\n",
      "2402/2402 [==============================] - 5s 2ms/step - loss: 1.9013 - acc: 0.4817 - val_loss: 1.9648 - val_acc: 0.5491\n",
      "Epoch 8/10\n",
      "2402/2402 [==============================] - 5s 2ms/step - loss: 1.8632 - acc: 0.5029 - val_loss: 2.0160 - val_acc: 0.4908\n",
      "Epoch 9/10\n",
      "2402/2402 [==============================] - 4s 2ms/step - loss: 1.6720 - acc: 0.5624 - val_loss: 2.0639 - val_acc: 0.5225\n",
      "Epoch 10/10\n",
      "2402/2402 [==============================] - 4s 2ms/step - loss: 1.6432 - acc: 0.5637 - val_loss: 1.9283 - val_acc: 0.5441\n"
     ]
    }
   ],
   "source": [
    "history = model.fit(X_train, y_train,\n",
    "                    epochs=10,\n",
    "                    verbose=True,\n",
    "                    validation_data=(X_test, y_test),\n",
    "                    batch_size=10)"
   ]
  },
  {
   "cell_type": "code",
   "execution_count": 24,
   "metadata": {
    "ExecuteTime": {
     "end_time": "2019-06-07T15:38:39.017969Z",
     "start_time": "2019-06-07T15:38:37.919876Z"
    }
   },
   "outputs": [
    {
     "name": "stdout",
     "output_type": "stream",
     "text": [
      "Training Accuracy: 0.9713\n",
      "Testing Accuracy:  0.5441\n"
     ]
    }
   ],
   "source": [
    "loss, accuracy = model.evaluate(X_train, y_train, verbose=False)\n",
    "print(\"Training Accuracy: {:.4f}\".format(accuracy))\n",
    "loss, accuracy = model.evaluate(X_test, y_test, verbose=False)\n",
    "print(\"Testing Accuracy:  {:.4f}\".format(accuracy))"
   ]
  },
  {
   "cell_type": "code",
   "execution_count": 25,
   "metadata": {
    "ExecuteTime": {
     "end_time": "2019-06-07T15:38:41.914389Z",
     "start_time": "2019-06-07T15:38:41.458525Z"
    }
   },
   "outputs": [
    {
     "data": {
      "image/png": "[encoded data removed]",
      "text/plain": [
       "<Figure size 864x360 with 2 Axes>"
      ]
     },
     "metadata": {},
     "output_type": "display_data"
    }
   ],
   "source": [
    "plot_history(history)"
   ]
  },
  {
   "cell_type": "markdown",
   "metadata": {},
   "source": [
    "# Word Embeddings"
   ]
  },
  {
   "cell_type": "markdown",
   "metadata": {},
   "source": [
    "## Tokenize"
   ]
  },
  {
   "cell_type": "code",
   "execution_count": 26,
   "metadata": {
    "ExecuteTime": {
     "end_time": "2019-06-07T15:38:50.106050Z",
     "start_time": "2019-06-07T15:38:48.859687Z"
    }
   },
   "outputs": [
    {
     "name": "stdout",
     "output_type": "stream",
     "text": [
      "12 07 2009 toque recolher procurado suspender toque recolher jovens conselho nacional justica cnj concedeu ontem primeiro parecer favoravel medida restritiva resposta questionamento contra determinacao juiza nova andradina ms jacqueline machado agora menos 13 comarcas 7 estados adotaram medida caso mantida decisao julgamento merito cabera recurso somente supremo tribunal federal stf conselho nacional direitos crianca adolescente conanda chegou enviar cnj parecer afirma toque recolher fere dois artigos constituicao seis estatuto crianca adolescente eca trata direito ir vir texto afirmase toque recolher impoe situacoes vexatorias criancas carater perseguicao despeito debate juridico relevante refletirmos sobre oportunidade efetividade imposicao tal regra medida restricao circulacao partir determinado horario vias publicas criancas adolescentes contribui ordem publica acredito resultados tendem ser pifios restricao consegue apenas afetar parte lazer noturno adolescentes classe media impondolhes novas alternativas viabilizar sociabilidade madrugadas haveria outro tipo efeito benefico toque recolher sociedade sinceramente consigo visualizar nada nesse sentido qualquer maneira submeto questao leitores blog debate\n",
      "[1477, 191, 89, 35, 1, 15, 323, 1649, 4470, 32, 246, 597, 35, 151, 4619, 298, 58, 4, 30, 817, 58, 24, 991, 85, 415, 1185, 3298, 139, 4471, 10, 1977, 100, 44, 142, 25, 142, 572, 613, 34, 115, 742, 2602, 4044, 611, 197, 3, 4620, 1670, 7, 131, 246, 597, 4470, 1775, 1089, 742, 2602, 2188, 249, 107, 786, 1185, 70, 1824, 1522, 3685, 613, 2265, 37, 343, 1296, 210, 591, 3, 487, 32, 669, 2221, 67, 787, 323, 1596, 1134, 3487, 4175, 298, 3811, 519, 332, 1433, 2509, 572, 487, 97, 67, 13, 1943, 2603, 323, 4470, 1671, 4176, 496, 868, 1395, 4621, 246, 597, 51, 613, 28, 964, 467, 415, 1185, 89, 50, 1110, 2350, 721, 32, 20, 2556, 3090, 579, 2825, 742, 613, 177, 131, 246, 597, 896, 3150, 964, 249, 107, 2115, 2116, 246, 3813, 788, 592, 188, 117, 42, 11, 2050, 613, 1800, 3488, 114, 572, 613, 7, 30, 246, 597, 2351, 4619, 947, 225, 4617, 502, 3813, 1567, 3382, 1433, 332, 869, 817, 5, 12, 160, 1111, 1751, 896, 364, 519, 332, 288, 623, 29, 36, 354, 188, 208, 2703, 852, 178, 3, 373, 1396, 742, 2602, 426, 10, 137, 3091, 1381, 1247, 178, 769, 361, 80, 20, 17, 1109, 1704, 1546, 947, 2, 1214, 2117, 3489, 107, 206, 17, 779, 421, 4622, 948, 80]\n"
     ]
    }
   ],
   "source": [
    "from keras.preprocessing.text import Tokenizer\n",
    "\n",
    "tokenizer = Tokenizer(num_words=5000)\n",
    "tokenizer.fit_on_texts(sentences_train)\n",
    "\n",
    "X_train = tokenizer.texts_to_sequences(sentences_train)\n",
    "X_test = tokenizer.texts_to_sequences(sentences_test)\n",
    "\n",
    "vocab_size = len(tokenizer.word_index) + 1  # Adding 1 because of reserved 0 index\n",
    "\n",
    "print(sentences_train[2])\n",
    "print(X_train[2])"
   ]
  },
  {
   "cell_type": "code",
   "execution_count": 27,
   "metadata": {
    "ExecuteTime": {
     "end_time": "2019-06-07T15:38:50.113678Z",
     "start_time": "2019-06-07T15:38:50.109061Z"
    }
   },
   "outputs": [
    {
     "name": "stdout",
     "output_type": "stream",
     "text": [
      "blog: 600\n",
      "federal: 135\n",
      "debate: 1133\n",
      "nada: 41\n"
     ]
    }
   ],
   "source": [
    "for word in ['blog', 'federal', 'debate', 'nada']:\n",
    "    print('{}: {}'.format(word, tokenizer.word_index[word]))"
   ]
  },
  {
   "cell_type": "markdown",
   "metadata": {},
   "source": [
    "## Padding"
   ]
  },
  {
   "cell_type": "code",
   "execution_count": 28,
   "metadata": {
    "ExecuteTime": {
     "end_time": "2019-06-07T15:38:50.238269Z",
     "start_time": "2019-06-07T15:38:50.146540Z"
    }
   },
   "outputs": [
    {
     "name": "stdout",
     "output_type": "stream",
     "text": [
      "[3227  133   72  622 1646  253 1280 1476 1894 4174  111  167  886  385\n",
      " 1450  114 1410  173  188   79  298  185  856  556 3297   48  365   54\n",
      "  230 1411 1850 4617  117   42 4970   59   11  887    3  349  394  778\n",
      "  886  385  212  668  912  783   86  244  122 2763 4468   59  658 1647\n",
      "  784   33  886  385 1133    3 2304  207  976   88  194 1895  886  385\n",
      "   34 2507 2348  244  957  977 2048  347  125   44   83   79 2048 2049\n",
      " 1647 1504 2148 4971 3149   14  681  352 1451 1595 3019   53   11    7\n",
      "   49 2389   69 2434  145  232  112  407  193 2011   45  201 4797   52\n",
      "  120  201   29  145   71 3587   43  169 3810 2823 2389 1065  785 1595\n",
      " 1354 1895 1703   65  785 2390 1109  232 1066  228  153 1412  785   79\n",
      "  975  550 1595  887 2349 1095  785   79 3483  622 1067 1648 1229   28\n",
      "  990  256    9 1851   72  568   60 2654 1229  990   31  286 2654 1000\n",
      "   72 2507    4 3484  741 2049 1799 1213 1379  115  138 3918  232  339\n",
      "   73 2389 1294   23 3811 2435 4042   53  107  101  178   72  707   79\n",
      "    3 1024 1413  261  164 3297  269  374 4971 1521 1295 4043  183  488\n",
      "  115   97   58 1380  347 4618   11  886  385  257   20  746   25   86\n",
      " 2009 2962  382   16 1823 2391  286 1025 1144 2348 1702  508   86  566\n",
      "  165 1669    3 1620 2012  610 2963   79  116  402  805 4297   29  806\n",
      "  887  785 1414  350   86  664  539 1184 1728   47 4042  170  207 1646\n",
      "  768 1452 1322  183  159  155 1476  712 1942 1521  159    4  886  385\n",
      "  108  886  385  408  708 2264 1647  796 1001 3812    3   37  303 2149\n",
      "  382  109   72  159  394  348  352 3297 3485 2824 2013  352   14 4469\n",
      " 3089 1729   37  303 3486 1450 2508  301    0    0    0    0    0    0\n",
      "    0    0    0    0    0    0    0    0    0    0    0    0    0    0\n",
      "    0    0    0    0    0    0    0    0    0    0    0    0    0    0\n",
      "    0    0    0    0    0    0    0    0    0    0    0    0    0    0\n",
      "    0    0    0    0    0    0    0    0    0    0    0    0    0    0\n",
      "    0    0    0    0    0    0    0    0    0    0    0    0    0    0\n",
      "    0    0    0    0    0    0    0    0    0    0    0    0    0    0\n",
      "    0    0    0    0    0    0    0    0    0    0    0    0    0    0\n",
      "    0    0    0    0    0    0    0    0    0    0    0    0    0    0\n",
      "    0    0    0    0    0    0    0    0    0    0    0    0    0    0\n",
      "    0    0    0    0    0    0    0    0    0    0    0    0    0    0\n",
      "    0    0    0    0    0    0    0    0    0    0    0    0    0    0\n",
      "    0    0    0    0    0    0    0    0    0    0    0    0    0    0\n",
      "    0    0    0    0    0    0    0    0    0    0    0    0    0    0\n",
      "    0    0    0    0    0    0    0    0    0    0    0    0    0    0\n",
      "    0    0    0    0    0    0    0    0    0    0    0    0    0    0\n",
      "    0    0    0    0    0    0    0    0    0    0    0    0    0    0\n",
      "    0    0    0    0    0    0    0    0    0    0    0    0    0    0\n",
      "    0    0    0    0    0    0    0    0    0    0    0    0    0    0\n",
      "    0    0    0    0    0    0    0    0    0    0    0    0    0    0\n",
      "    0    0    0    0    0    0    0    0    0    0    0    0]\n"
     ]
    }
   ],
   "source": [
    "from keras.preprocessing.sequence import pad_sequences\n",
    "\n",
    "maxlen = 600\n",
    "\n",
    "X_train = pad_sequences(X_train, padding='post', maxlen=maxlen)\n",
    "X_test = pad_sequences(X_test, padding='post', maxlen=maxlen)\n",
    "\n",
    "print(X_train[1, :])"
   ]
  },
  {
   "cell_type": "markdown",
   "metadata": {},
   "source": [
    "# Keras Word Embeddings"
   ]
  },
  {
   "cell_type": "markdown",
   "metadata": {},
   "source": [
    "## DNN"
   ]
  },
  {
   "cell_type": "code",
   "execution_count": 36,
   "metadata": {
    "ExecuteTime": {
     "end_time": "2019-06-07T15:42:49.776272Z",
     "start_time": "2019-06-07T15:42:49.670596Z"
    }
   },
   "outputs": [
    {
     "name": "stdout",
     "output_type": "stream",
     "text": [
      "_________________________________________________________________\n",
      "Layer (type)                 Output Shape              Param #   \n",
      "=================================================================\n",
      "embedding_4 (Embedding)      (None, 600, 50)           3124050   \n",
      "_________________________________________________________________\n",
      "global_max_pooling1d_3 (Glob (None, 50)                0         \n",
      "_________________________________________________________________\n",
      "dense_18 (Dense)             (None, 512)               26112     \n",
      "_________________________________________________________________\n",
      "dropout_13 (Dropout)         (None, 512)               0         \n",
      "_________________________________________________________________\n",
      "dense_19 (Dense)             (None, 512)               262656    \n",
      "_________________________________________________________________\n",
      "dropout_14 (Dropout)         (None, 512)               0         \n",
      "_________________________________________________________________\n",
      "dense_20 (Dense)             (None, 100)               51300     \n",
      "=================================================================\n",
      "Total params: 3,464,118\n",
      "Trainable params: 3,464,118\n",
      "Non-trainable params: 0\n",
      "_________________________________________________________________\n"
     ]
    }
   ],
   "source": [
    "from keras.models import Sequential\n",
    "from keras import layers\n",
    "\n",
    "embedding_dim = 50\n",
    "\n",
    "model = Sequential()\n",
    "model.add(layers.Embedding(input_dim=vocab_size, \n",
    "                           output_dim=embedding_dim, \n",
    "                           input_length=maxlen))\n",
    "model.add(layers.GlobalMaxPool1D())\n",
    "model.add(layers.Dense(512, activation='relu'))\n",
    "model.add(layers.Dropout(0.3))\n",
    "model.add(layers.Dense(512, activation='relu'))\n",
    "model.add(layers.Dropout(0.3))\n",
    "model.add(layers.Dense(100, activation='softmax'))\n",
    "model.compile(optimizer='adam',\n",
    "              loss='categorical_crossentropy',\n",
    "              metrics=['accuracy'])\n",
    "model.summary()"
   ]
  },
  {
   "cell_type": "code",
   "execution_count": 37,
   "metadata": {
    "ExecuteTime": {
     "end_time": "2019-06-07T15:49:45.622508Z",
     "start_time": "2019-06-07T15:42:50.521759Z"
    }
   },
   "outputs": [
    {
     "name": "stdout",
     "output_type": "stream",
     "text": [
      "Train on 2402 samples, validate on 601 samples\n",
      "Epoch 1/20\n",
      "2402/2402 [==============================] - 22s 9ms/step - loss: 4.6114 - acc: 0.0083 - val_loss: 4.6051 - val_acc: 0.0100\n",
      "Epoch 2/20\n",
      "2402/2402 [==============================] - 21s 9ms/step - loss: 4.6090 - acc: 0.0058 - val_loss: 4.6044 - val_acc: 0.0100\n",
      "Epoch 3/20\n",
      "2402/2402 [==============================] - 21s 9ms/step - loss: 4.6054 - acc: 0.0067 - val_loss: 4.5728 - val_acc: 0.0200\n",
      "Epoch 4/20\n",
      "2402/2402 [==============================] - 21s 9ms/step - loss: 4.3404 - acc: 0.0271 - val_loss: 3.9176 - val_acc: 0.0832\n",
      "Epoch 5/20\n",
      "2402/2402 [==============================] - 20s 8ms/step - loss: 3.6484 - acc: 0.0791 - val_loss: 3.4078 - val_acc: 0.1381\n",
      "Epoch 6/20\n",
      "2402/2402 [==============================] - 19s 8ms/step - loss: 3.1368 - acc: 0.1490 - val_loss: 3.2161 - val_acc: 0.1697\n",
      "Epoch 7/20\n",
      "2402/2402 [==============================] - 19s 8ms/step - loss: 2.7411 - acc: 0.2223 - val_loss: 3.0254 - val_acc: 0.2163\n",
      "Epoch 8/20\n",
      "2402/2402 [==============================] - 20s 8ms/step - loss: 2.4213 - acc: 0.2898 - val_loss: 2.9028 - val_acc: 0.2463\n",
      "Epoch 9/20\n",
      "2402/2402 [==============================] - 20s 8ms/step - loss: 2.1527 - acc: 0.3381 - val_loss: 2.8185 - val_acc: 0.3028\n",
      "Epoch 10/20\n",
      "2402/2402 [==============================] - 19s 8ms/step - loss: 1.8839 - acc: 0.4255 - val_loss: 2.8035 - val_acc: 0.2995\n",
      "Epoch 11/20\n",
      "2402/2402 [==============================] - 20s 8ms/step - loss: 1.6874 - acc: 0.4580 - val_loss: 2.8295 - val_acc: 0.2962\n",
      "Epoch 12/20\n",
      "2402/2402 [==============================] - 21s 9ms/step - loss: 1.4870 - acc: 0.5266 - val_loss: 2.8496 - val_acc: 0.3311\n",
      "Epoch 13/20\n",
      "2402/2402 [==============================] - 22s 9ms/step - loss: 1.3334 - acc: 0.5749 - val_loss: 2.9256 - val_acc: 0.3245\n",
      "Epoch 14/20\n",
      "2402/2402 [==============================] - 22s 9ms/step - loss: 1.2093 - acc: 0.6028 - val_loss: 2.9654 - val_acc: 0.3328\n",
      "Epoch 15/20\n",
      "2402/2402 [==============================] - 20s 8ms/step - loss: 1.0985 - acc: 0.6361 - val_loss: 2.9946 - val_acc: 0.3661\n",
      "Epoch 16/20\n",
      "2402/2402 [==============================] - 21s 9ms/step - loss: 1.0067 - acc: 0.6674 - val_loss: 3.0890 - val_acc: 0.3527\n",
      "Epoch 17/20\n",
      "2402/2402 [==============================] - 21s 9ms/step - loss: 0.9118 - acc: 0.6953 - val_loss: 3.1011 - val_acc: 0.3611\n",
      "Epoch 18/20\n",
      "2402/2402 [==============================] - 22s 9ms/step - loss: 0.8392 - acc: 0.7127 - val_loss: 3.2528 - val_acc: 0.3428\n",
      "Epoch 19/20\n",
      "2402/2402 [==============================] - 21s 9ms/step - loss: 0.7731 - acc: 0.7365 - val_loss: 3.3352 - val_acc: 0.3577\n",
      "Epoch 20/20\n",
      "2402/2402 [==============================] - 22s 9ms/step - loss: 0.7018 - acc: 0.7581 - val_loss: 3.4560 - val_acc: 0.3694\n"
     ]
    }
   ],
   "source": [
    "history = model.fit(X_train, y_train,\n",
    "                    epochs=20,\n",
    "                    verbose=True,\n",
    "                    validation_data=(X_test, y_test),\n",
    "                    batch_size=10)"
   ]
  },
  {
   "cell_type": "code",
   "execution_count": 38,
   "metadata": {
    "ExecuteTime": {
     "end_time": "2019-06-07T15:50:24.641339Z",
     "start_time": "2019-06-07T15:50:24.387898Z"
    }
   },
   "outputs": [
    {
     "name": "stdout",
     "output_type": "stream",
     "text": [
      "Training Accuracy: 0.9217\n",
      "Testing Accuracy:  0.3694\n"
     ]
    }
   ],
   "source": [
    "loss, accuracy = model.evaluate(X_train, y_train, verbose=False)\n",
    "print(\"Training Accuracy: {:.4f}\".format(accuracy))\n",
    "loss, accuracy = model.evaluate(X_test, y_test, verbose=False)\n",
    "print(\"Testing Accuracy:  {:.4f}\".format(accuracy))"
   ]
  },
  {
   "cell_type": "code",
   "execution_count": 39,
   "metadata": {
    "ExecuteTime": {
     "end_time": "2019-06-07T15:50:26.724029Z",
     "start_time": "2019-06-07T15:50:26.315865Z"
    }
   },
   "outputs": [
    {
     "data": {
      "image/png": "[encoded data removed]",
      "text/plain": [
       "<Figure size 864x360 with 2 Axes>"
      ]
     },
     "metadata": {},
     "output_type": "display_data"
    }
   ],
   "source": [
    "plot_history(history)"
   ]
  },
  {
   "cell_type": "markdown",
   "metadata": {},
   "source": [
    "## Glove"
   ]
  },
  {
   "cell_type": "markdown",
   "metadata": {},
   "source": [
    "Since you don’t need all words, you can focus on only the words that we have in our vocabulary. Since we have only a limited number of words in our vocabulary, we can skip most of the words in the pretrained word embeddings"
   ]
  },
  {
   "cell_type": "code",
   "execution_count": 40,
   "metadata": {
    "ExecuteTime": {
     "end_time": "2019-06-07T15:50:31.801497Z",
     "start_time": "2019-06-07T15:50:31.797500Z"
    }
   },
   "outputs": [],
   "source": [
    "import numpy as np\n",
    "\n",
    "def create_embedding_matrix(filepath, word_index, embedding_dim):\n",
    "    vocab_size = len(word_index) + 1  # Adding again 1 because of reserved 0 index\n",
    "    embedding_matrix = np.zeros((vocab_size, embedding_dim))\n",
    "\n",
    "    with open(filepath, encoding='iso-8859-1') as f:\n",
    "        for line in f:\n",
    "            word, *vector = line.split()\n",
    "            if word in word_index:\n",
    "                idx = word_index[word] \n",
    "                embedding_matrix[idx] = np.array(\n",
    "                    vector, dtype=np.float32)[:embedding_dim]\n",
    "\n",
    "    return embedding_matrix"
   ]
  },
  {
   "cell_type": "code",
   "execution_count": 41,
   "metadata": {
    "ExecuteTime": {
     "end_time": "2019-06-07T15:50:43.539664Z",
     "start_time": "2019-06-07T15:50:34.524873Z"
    },
    "scrolled": true
   },
   "outputs": [],
   "source": [
    "embedding_dim = 100\n",
    "embedding_matrix = create_embedding_matrix(\n",
    "    '../data/glove_s100.txt',\n",
    "    tokenizer.word_index, embedding_dim)"
   ]
  },
  {
   "cell_type": "code",
   "execution_count": 42,
   "metadata": {
    "ExecuteTime": {
     "end_time": "2019-06-07T15:50:43.581318Z",
     "start_time": "2019-06-07T15:50:43.541539Z"
    }
   },
   "outputs": [
    {
     "data": {
      "text/plain": [
       "0.7973303884380851"
      ]
     },
     "execution_count": 42,
     "metadata": {},
     "output_type": "execute_result"
    }
   ],
   "source": [
    "nonzero_elements = np.count_nonzero(np.count_nonzero(embedding_matrix, axis=1))\n",
    "nonzero_elements / vocab_size"
   ]
  },
  {
   "cell_type": "markdown",
   "metadata": {},
   "source": [
    "This means almost 80% of the vocabulary is covered by the pretrained model, which is a good coverage of our vocabulary."
   ]
  },
  {
   "cell_type": "code",
   "execution_count": 43,
   "metadata": {
    "ExecuteTime": {
     "end_time": "2019-06-07T15:50:57.694767Z",
     "start_time": "2019-06-07T15:50:57.164693Z"
    }
   },
   "outputs": [
    {
     "name": "stdout",
     "output_type": "stream",
     "text": [
      "_________________________________________________________________\n",
      "Layer (type)                 Output Shape              Param #   \n",
      "=================================================================\n",
      "embedding_5 (Embedding)      (None, 600, 100)          6248100   \n",
      "_________________________________________________________________\n",
      "global_max_pooling1d_4 (Glob (None, 100)               0         \n",
      "_________________________________________________________________\n",
      "dense_21 (Dense)             (None, 512)               51712     \n",
      "_________________________________________________________________\n",
      "dropout_15 (Dropout)         (None, 512)               0         \n",
      "_________________________________________________________________\n",
      "dense_22 (Dense)             (None, 512)               262656    \n",
      "_________________________________________________________________\n",
      "dropout_16 (Dropout)         (None, 512)               0         \n",
      "_________________________________________________________________\n",
      "dense_23 (Dense)             (None, 100)               51300     \n",
      "=================================================================\n",
      "Total params: 6,613,768\n",
      "Trainable params: 6,613,768\n",
      "Non-trainable params: 0\n",
      "_________________________________________________________________\n"
     ]
    }
   ],
   "source": [
    "from keras.models import Sequential\n",
    "from keras import layers\n",
    "\n",
    "model = Sequential()\n",
    "model.add(layers.Embedding(vocab_size, embedding_dim, \n",
    "                           weights=[embedding_matrix], \n",
    "                           input_length=maxlen, \n",
    "                           trainable=True))\n",
    "model.add(layers.GlobalMaxPool1D())\n",
    "model.add(layers.Dense(512, activation='relu'))\n",
    "model.add(layers.Dropout(0.3))\n",
    "model.add(layers.Dense(512, activation='relu'))\n",
    "model.add(layers.Dropout(0.3))\n",
    "model.add(layers.Dense(100, activation='softmax'))\n",
    "model.compile(optimizer='adam',\n",
    "              loss='categorical_crossentropy',\n",
    "              metrics=['accuracy'])\n",
    "model.summary()"
   ]
  },
  {
   "cell_type": "code",
   "execution_count": 44,
   "metadata": {
    "ExecuteTime": {
     "end_time": "2019-06-07T16:04:10.306547Z",
     "start_time": "2019-06-07T15:51:05.005745Z"
    }
   },
   "outputs": [
    {
     "name": "stdout",
     "output_type": "stream",
     "text": [
      "Train on 2402 samples, validate on 601 samples\n",
      "Epoch 1/20\n",
      "2402/2402 [==============================] - 39s 16ms/step - loss: 4.6681 - acc: 0.0054 - val_loss: 4.6011 - val_acc: 0.0166\n",
      "Epoch 2/20\n",
      "2402/2402 [==============================] - 40s 17ms/step - loss: 4.6061 - acc: 0.0108 - val_loss: 4.5712 - val_acc: 0.0300\n",
      "Epoch 3/20\n",
      "2402/2402 [==============================] - 38s 16ms/step - loss: 4.5134 - acc: 0.0167 - val_loss: 4.3441 - val_acc: 0.0183\n",
      "Epoch 4/20\n",
      "2402/2402 [==============================] - 40s 17ms/step - loss: 4.2709 - acc: 0.0287 - val_loss: 4.1331 - val_acc: 0.0466\n",
      "Epoch 5/20\n",
      "2402/2402 [==============================] - 42s 17ms/step - loss: 4.0868 - acc: 0.0400 - val_loss: 3.9599 - val_acc: 0.0915\n",
      "Epoch 6/20\n",
      "2402/2402 [==============================] - 37s 16ms/step - loss: 3.8611 - acc: 0.0620 - val_loss: 3.7523 - val_acc: 0.0998\n",
      "Epoch 7/20\n",
      "2402/2402 [==============================] - 37s 15ms/step - loss: 3.6463 - acc: 0.0699 - val_loss: 3.5603 - val_acc: 0.1298\n",
      "Epoch 8/20\n",
      "2402/2402 [==============================] - 37s 15ms/step - loss: 3.4002 - acc: 0.0945 - val_loss: 3.3034 - val_acc: 0.1581\n",
      "Epoch 9/20\n",
      "2402/2402 [==============================] - 38s 16ms/step - loss: 3.2127 - acc: 0.1107 - val_loss: 3.2395 - val_acc: 0.1414\n",
      "Epoch 10/20\n",
      "2402/2402 [==============================] - 38s 16ms/step - loss: 3.1164 - acc: 0.1332 - val_loss: 3.1579 - val_acc: 0.1597\n",
      "Epoch 11/20\n",
      "2402/2402 [==============================] - 38s 16ms/step - loss: 2.9945 - acc: 0.1436 - val_loss: 3.0730 - val_acc: 0.1980\n",
      "Epoch 12/20\n",
      "2402/2402 [==============================] - 38s 16ms/step - loss: 2.8970 - acc: 0.1599 - val_loss: 3.0781 - val_acc: 0.1714\n",
      "Epoch 13/20\n",
      "2402/2402 [==============================] - 43s 18ms/step - loss: 2.8123 - acc: 0.1811 - val_loss: 3.0247 - val_acc: 0.1963\n",
      "Epoch 14/20\n",
      "2402/2402 [==============================] - 42s 17ms/step - loss: 2.7395 - acc: 0.1828 - val_loss: 2.9482 - val_acc: 0.2246\n",
      "Epoch 15/20\n",
      "2402/2402 [==============================] - 42s 17ms/step - loss: 2.6586 - acc: 0.1998 - val_loss: 2.9589 - val_acc: 0.1897\n",
      "Epoch 16/20\n",
      "2402/2402 [==============================] - 42s 18ms/step - loss: 2.6218 - acc: 0.2198 - val_loss: 2.9102 - val_acc: 0.2047\n",
      "Epoch 17/20\n",
      "2402/2402 [==============================] - 42s 17ms/step - loss: 2.5399 - acc: 0.2227 - val_loss: 2.9649 - val_acc: 0.2097\n",
      "Epoch 18/20\n",
      "2402/2402 [==============================] - 39s 16ms/step - loss: 2.4794 - acc: 0.2465 - val_loss: 2.9303 - val_acc: 0.2163\n",
      "Epoch 19/20\n",
      "2402/2402 [==============================] - 37s 15ms/step - loss: 2.3777 - acc: 0.2714 - val_loss: 2.9042 - val_acc: 0.2280\n",
      "Epoch 20/20\n",
      "2402/2402 [==============================] - 36s 15ms/step - loss: 2.3780 - acc: 0.2694 - val_loss: 2.8554 - val_acc: 0.2346\n"
     ]
    }
   ],
   "source": [
    "history = model.fit(X_train, y_train,\n",
    "                    epochs=20,\n",
    "                    verbose=True,\n",
    "                    validation_data=(X_test, y_test),\n",
    "                    batch_size=10)"
   ]
  },
  {
   "cell_type": "code",
   "execution_count": 45,
   "metadata": {
    "ExecuteTime": {
     "end_time": "2019-06-07T16:11:26.940965Z",
     "start_time": "2019-06-07T16:11:26.336564Z"
    }
   },
   "outputs": [
    {
     "name": "stdout",
     "output_type": "stream",
     "text": [
      "Training Accuracy: 0.5396\n",
      "Testing Accuracy:  0.2346\n"
     ]
    }
   ],
   "source": [
    "loss, accuracy = model.evaluate(X_train, y_train, verbose=False)\n",
    "print(\"Training Accuracy: {:.4f}\".format(accuracy))\n",
    "loss, accuracy = model.evaluate(X_test, y_test, verbose=False)\n",
    "print(\"Testing Accuracy:  {:.4f}\".format(accuracy))"
   ]
  },
  {
   "cell_type": "code",
   "execution_count": 46,
   "metadata": {
    "ExecuteTime": {
     "end_time": "2019-06-07T16:11:28.934790Z",
     "start_time": "2019-06-07T16:11:28.322583Z"
    }
   },
   "outputs": [
    {
     "data": {
      "image/png": "[encoded data removed]",
      "text/plain": [
       "<Figure size 864x360 with 2 Axes>"
      ]
     },
     "metadata": {},
     "output_type": "display_data"
    }
   ],
   "source": [
    "plot_history(history)"
   ]
  },
  {
   "cell_type": "code",
   "execution_count": 52,
   "metadata": {
    "ExecuteTime": {
     "end_time": "2019-06-07T16:13:34.935573Z",
     "start_time": "2019-06-07T16:13:34.853068Z"
    }
   },
   "outputs": [
    {
     "name": "stdout",
     "output_type": "stream",
     "text": [
      "\n",
      "0\n",
      "Actual label:ANDREA KAUFMANN\n",
      "Predicted label: ACÍLIO LARA REZENDE\n",
      "\n",
      "1\n",
      "Actual label:ANDREA KAUFMANN\n",
      "Predicted label: NELSON DE OLIVEIRA\n",
      "\n",
      "2\n",
      "Actual label:ANDREA KAUFMANN\n",
      "Predicted label: JULIO PREUSS\n",
      "\n",
      "3\n",
      "Actual label:ANDREA KAUFMANN\n",
      "Predicted label: DENNY ROGER\n",
      "\n",
      "4\n",
      "Actual label:ANDREA KAUFMANN\n",
      "Predicted label: OSCAR IVAN PRUX\n",
      "\n",
      "5\n",
      "Actual label:ANDREA KAUFMANN\n",
      "Predicted label: JORGE ALBERTO ARAÚJO\n",
      "\n",
      "6\n",
      "Actual label:ANDREA KAUFMANN\n",
      "Predicted label: FABIO ZANINI\n",
      "\n",
      "7\n",
      "Actual label:ANDREA KAUFMANN\n",
      "Predicted label: JORGE ALBERTO ARAÚJO\n",
      "\n",
      "8\n",
      "Actual label:ANDREA KAUFMANN\n",
      "Predicted label: MARCELO SENNA\n",
      "\n",
      "9\n",
      "Actual label:ANDREA KAUFMANN\n",
      "Predicted label: DENNY ROGER\n",
      "\n",
      "10\n",
      "Actual label:ANDREA KAUFMANN\n",
      "Predicted label: VALDO CRUZ\n",
      "\n",
      "11\n",
      "Actual label:ANDREA KAUFMANN\n",
      "Predicted label: ANDREA KAUFMANN\n",
      "\n",
      "12\n",
      "Actual label:ANDREA KAUFMANN\n",
      "Predicted label: IVONILDO LAVOR\n",
      "\n",
      "13\n",
      "Actual label:ANDREA KAUFMANN\n",
      "Predicted label: CLAUDIO LIMA\n",
      "\n",
      "14\n",
      "Actual label:ANDREA KAUFMANN\n",
      "Predicted label: CARLA KREEFT\n",
      "\n",
      "15\n",
      "Actual label:ANDREA KAUFMANN\n",
      "Predicted label: MARIA INES DOLCI\n",
      "\n",
      "16\n",
      "Actual label:ANDREA KAUFMANN\n",
      "Predicted label: JORGE ALBERTO ARAÚJO\n",
      "\n",
      "17\n",
      "Actual label:ANDREA KAUFMANN\n",
      "Predicted label: FERNANDO CANZIAN\n",
      "\n",
      "18\n",
      "Actual label:ANDREA KAUFMANN\n",
      "Predicted label: ANDRE RIBEIRO\n",
      "\n",
      "19\n",
      "Actual label:ANDREA KAUFMANN\n",
      "Predicted label: FERNANDA ARANDA\n",
      "\n",
      "20\n",
      "Actual label:ANDREA KAUFMANN\n",
      "Predicted label: MARIA INES DOLCI\n",
      "\n",
      "21\n",
      "Actual label:ANDREA KAUFMANN\n",
      "Predicted label: WIANEY CARLET\n",
      "\n",
      "22\n",
      "Actual label:ANDREA KAUFMANN\n",
      "Predicted label: ACÍLIO LARA REZENDE\n",
      "\n",
      "23\n",
      "Actual label:ANDREA KAUFMANN\n",
      "Predicted label: RODRIGO BALEIA\n",
      "\n",
      "24\n",
      "Actual label:ANDREA KAUFMANN\n",
      "Predicted label: ADRIANO GAMBARINI\n",
      "\n",
      "25\n",
      "Actual label:ANDREA KAUFMANN\n",
      "Predicted label: WIANEY CARLET\n",
      "\n",
      "26\n",
      "Actual label:ANDREA KAUFMANN\n",
      "Predicted label: OSWALDO BRAGA\n",
      "\n",
      "27\n",
      "Actual label:ANDREA KAUFMANN\n",
      "Predicted label: CLAUDIO SCHAMIS\n",
      "\n",
      "28\n",
      "Actual label:ANDREA KAUFMANN\n",
      "Predicted label: CLAUDIO SCHAMIS\n",
      "\n",
      "29\n",
      "Actual label:CARLOS BERTOLAZZI\n",
      "Predicted label: FREDERICO VASCONCELOS\n",
      "\n",
      "30\n",
      "Actual label:CARLOS BERTOLAZZI\n",
      "Predicted label: MARCIA DASKAL\n",
      "\n",
      "31\n",
      "Actual label:CARLOS BERTOLAZZI\n",
      "Predicted label: OSCAR IVAN PRUX\n",
      "\n",
      "32\n",
      "Actual label:CARLOS BERTOLAZZI\n",
      "Predicted label: MARIA INES DOLCI\n",
      "\n",
      "33\n",
      "Actual label:CARLOS BERTOLAZZI\n",
      "Predicted label: DIOGO OLIVIER\n",
      "\n",
      "34\n",
      "Actual label:CARLOS BERTOLAZZI\n",
      "Predicted label: CLAUDIO GRADILONE\n",
      "\n",
      "35\n",
      "Actual label:CARLOS BERTOLAZZI\n",
      "Predicted label: RODRIGO BALEIA\n",
      "\n",
      "36\n",
      "Actual label:CARLOS BERTOLAZZI\n",
      "Predicted label: VALDO CRUZ\n",
      "\n",
      "37\n",
      "Actual label:CARLOS BERTOLAZZI\n",
      "Predicted label: GRACE PASSÔ\n",
      "\n",
      "38\n",
      "Actual label:CARLOS BERTOLAZZI\n",
      "Predicted label: ALEXANDRE MAGALHÃES\n",
      "\n",
      "39\n",
      "Actual label:CARLOS BERTOLAZZI\n",
      "Predicted label: OSCAR IVAN PRUX\n",
      "\n",
      "40\n",
      "Actual label:CARLOS BERTOLAZZI\n",
      "Predicted label: RODRIGO BALEIA\n",
      "\n",
      "41\n",
      "Actual label:CARLOS BERTOLAZZI\n",
      "Predicted label: MARGRIT SCHIMIDT\n",
      "\n",
      "42\n",
      "Actual label:CARLOS BERTOLAZZI\n",
      "Predicted label: GRACE PASSÔ\n",
      "\n",
      "43\n",
      "Actual label:CARLOS BERTOLAZZI\n",
      "Predicted label: ANA CRISTINA CAVALCANTE\n",
      "\n",
      "44\n",
      "Actual label:CARLOS BERTOLAZZI\n",
      "Predicted label: FERNANDO CESAR FARIA\n",
      "\n",
      "45\n",
      "Actual label:CARLOS BERTOLAZZI\n",
      "Predicted label: BADGER VICARI\n",
      "\n",
      "46\n",
      "Actual label:CARLOS BERTOLAZZI\n",
      "Predicted label: ACÍLIO LARA REZENDE\n",
      "\n",
      "47\n",
      "Actual label:CARLOS BERTOLAZZI\n",
      "Predicted label: OSCAR IVAN PRUX\n",
      "\n",
      "48\n",
      "Actual label:CARLOS BERTOLAZZI\n",
      "Predicted label: ANA CRISTINA CAVALCANTE\n",
      "\n",
      "49\n",
      "Actual label:CARLOS BERTOLAZZI\n",
      "Predicted label: FABIO CESAR DOS SANTOS\n",
      "\n",
      "50\n",
      "Actual label:CARLOS BERTOLAZZI\n",
      "Predicted label: LUCIA MALLA\n",
      "\n",
      "51\n",
      "Actual label:CARLOS BERTOLAZZI\n",
      "Predicted label: ANDRE RIBEIRO\n",
      "\n",
      "52\n",
      "Actual label:CARLOS BERTOLAZZI\n",
      "Predicted label: ANDREA KAUFMANN\n",
      "\n",
      "53\n",
      "Actual label:CARLOS BERTOLAZZI\n",
      "Predicted label: SERGIO RODRIGUES\n",
      "\n",
      "54\n",
      "Actual label:CARLOS BERTOLAZZI\n",
      "Predicted label: MARCELO SENNA\n",
      "\n",
      "55\n",
      "Actual label:CARLOS BERTOLAZZI\n",
      "Predicted label: BADGER VICARI\n",
      "\n",
      "56\n",
      "Actual label:CARLOS BERTOLAZZI\n",
      "Predicted label: FERNANDO BIRMAN\n",
      "\n",
      "57\n",
      "Actual label:CARLOS BERTOLAZZI\n",
      "Predicted label: FERNANDO CANZIAN\n",
      "\n",
      "58\n",
      "Actual label:CARLOS BERTOLAZZI\n",
      "Predicted label: LUCIA MALLA\n",
      "\n",
      "59\n",
      "Actual label:CILMARA CASTILHO\n",
      "Predicted label: WIANEY CARLET\n"
     ]
    }
   ],
   "source": [
    "text_labels = encoder.classes_\n",
    "authors_names = df_data['AUTHOR'][sentences_train.shape[0]:]\n",
    "\n",
    "for i in range(60):\n",
    "    prediction = model.predict(np.array([X_test[i]]))\n",
    "    predicted_label = text_labels[np.argmax(prediction[0])]\n",
    "    print()\n",
    "    print(i)\n",
    "    print('Actual label:' + authors_names.iloc[i])\n",
    "    print(\"Predicted label: \" + predicted_label)"
   ]
  },
  {
   "cell_type": "code",
   "execution_count": null,
   "metadata": {},
   "outputs": [],
   "source": []
  }
 ],
 "metadata": {
  "kernelspec": {
   "display_name": "Python 3",
   "language": "python",
   "name": "python3"
  },
  "language_info": {
   "codemirror_mode": {
    "name": "ipython",
    "version": 3
   },
   "file_extension": ".py",
   "mimetype": "text/x-python",
   "name": "python",
   "nbconvert_exporter": "python",
   "pygments_lexer": "ipython3",
   "version": "3.6.5"
  }
 },
 "nbformat": 4,
 "nbformat_minor": 2
}
