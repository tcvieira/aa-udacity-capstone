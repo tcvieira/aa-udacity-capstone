{
 "cells": [
  {
   "cell_type": "markdown",
   "metadata": {},
   "source": [
    "# Imports and Functions"
   ]
  },
  {
   "cell_type": "code",
   "execution_count": 1,
   "metadata": {
    "ExecuteTime": {
     "end_time": "2019-06-07T15:12:34.802919Z",
     "start_time": "2019-06-07T15:12:29.323548Z"
    }
   },
   "outputs": [],
   "source": [
    "import pandas as pd\n",
    "from time import time\n",
    "\n",
    "%matplotlib inline"
   ]
  },
  {
   "cell_type": "code",
   "execution_count": 2,
   "metadata": {
    "ExecuteTime": {
     "end_time": "2019-06-07T15:12:34.809247Z",
     "start_time": "2019-06-07T15:12:34.804740Z"
    }
   },
   "outputs": [],
   "source": [
    "import matplotlib.pyplot as plt\n",
    "plt.style.use('ggplot')\n",
    "\n",
    "def plot_history(history):\n",
    "    acc = history.history['acc']\n",
    "    val_acc = history.history['val_acc']\n",
    "    loss = history.history['loss']\n",
    "    val_loss = history.history['val_loss']\n",
    "    x = range(1, len(acc) + 1)\n",
    "\n",
    "    plt.figure(figsize=(12, 5))\n",
    "    plt.subplot(1, 2, 1)\n",
    "    plt.plot(x, acc, 'b', label='Training acc')\n",
    "    plt.plot(x, val_acc, 'r', label='Validation acc')\n",
    "    plt.title('Training and validation accuracy')\n",
    "    plt.legend()\n",
    "    plt.subplot(1, 2, 2)\n",
    "    plt.plot(x, loss, 'b', label='Training loss')\n",
    "    plt.plot(x, val_loss, 'r', label='Validation loss')\n",
    "    plt.title('Training and validation loss')\n",
    "    plt.legend()"
   ]
  },
  {
   "cell_type": "markdown",
   "metadata": {},
   "source": [
    "# Load Data"
   ]
  },
  {
   "cell_type": "code",
   "execution_count": 3,
   "metadata": {
    "ExecuteTime": {
     "end_time": "2019-06-07T15:12:35.232428Z",
     "start_time": "2019-06-07T15:12:34.811147Z"
    }
   },
   "outputs": [
    {
     "data": {
      "text/html": [
       "<div>\n",
       "<style scoped>\n",
       "    .dataframe tbody tr th:only-of-type {\n",
       "        vertical-align: middle;\n",
       "    }\n",
       "\n",
       "    .dataframe tbody tr th {\n",
       "        vertical-align: top;\n",
       "    }\n",
       "\n",
       "    .dataframe thead th {\n",
       "        text-align: right;\n",
       "    }\n",
       "</style>\n",
       "<table border=\"1\" class=\"dataframe\">\n",
       "  <thead>\n",
       "    <tr style=\"text-align: right;\">\n",
       "      <th></th>\n",
       "      <th>SUBJECT</th>\n",
       "      <th>AUTHOR</th>\n",
       "      <th>TEXT</th>\n",
       "      <th>TEXT_CLEAN</th>\n",
       "      <th>NUM_STOPWORDS</th>\n",
       "      <th>NUM_PUNCTUATIONS</th>\n",
       "      <th>NUM_WORDS_UPPER</th>\n",
       "      <th>NUM_CHARS</th>\n",
       "      <th>NUM_WORDS</th>\n",
       "      <th>AVG_WORD</th>\n",
       "    </tr>\n",
       "  </thead>\n",
       "  <tbody>\n",
       "    <tr>\n",
       "      <th>0</th>\n",
       "      <td>ASSUNTOS VARIADOS</td>\n",
       "      <td>LUIZ FLAVIO SAPORI</td>\n",
       "      <td>19/03/2009\\nFATO CORRIQUEIRO\\nO fato mais impo...</td>\n",
       "      <td>19 03 2009 fato corriqueiro fato importante se...</td>\n",
       "      <td>67</td>\n",
       "      <td>29</td>\n",
       "      <td>5</td>\n",
       "      <td>1375</td>\n",
       "      <td>199</td>\n",
       "      <td>5.787129</td>\n",
       "    </tr>\n",
       "    <tr>\n",
       "      <th>1</th>\n",
       "      <td>ASSUNTOS VARIADOS</td>\n",
       "      <td>LUIZ FLAVIO SAPORI</td>\n",
       "      <td>06/07/2009\\nPOLÍTICA DE ESTADO\\nUm problema cr...</td>\n",
       "      <td>06 07 2009 politica estado problema cronico po...</td>\n",
       "      <td>75</td>\n",
       "      <td>29</td>\n",
       "      <td>11</td>\n",
       "      <td>1342</td>\n",
       "      <td>207</td>\n",
       "      <td>5.449275</td>\n",
       "    </tr>\n",
       "    <tr>\n",
       "      <th>2</th>\n",
       "      <td>ASSUNTOS VARIADOS</td>\n",
       "      <td>LUIZ FLAVIO SAPORI</td>\n",
       "      <td>12/07/2009\\nTOQUE DE RECOLHER\\nProcurado para ...</td>\n",
       "      <td>12 07 2009 toque recolher procurado suspender ...</td>\n",
       "      <td>95</td>\n",
       "      <td>46</td>\n",
       "      <td>11</td>\n",
       "      <td>1587</td>\n",
       "      <td>257</td>\n",
       "      <td>5.180392</td>\n",
       "    </tr>\n",
       "    <tr>\n",
       "      <th>3</th>\n",
       "      <td>ASSUNTOS VARIADOS</td>\n",
       "      <td>LUIZ FLAVIO SAPORI</td>\n",
       "      <td>23/03/2009\\nCRISE SOCIOEDUCATIVA\\nOcorreram du...</td>\n",
       "      <td>23 03 2009 crise socioeducativa ocorreram duas...</td>\n",
       "      <td>55</td>\n",
       "      <td>26</td>\n",
       "      <td>6</td>\n",
       "      <td>1141</td>\n",
       "      <td>167</td>\n",
       "      <td>5.761905</td>\n",
       "    </tr>\n",
       "    <tr>\n",
       "      <th>4</th>\n",
       "      <td>ASSUNTOS VARIADOS</td>\n",
       "      <td>LUIZ FLAVIO SAPORI</td>\n",
       "      <td>24/12/2008\\nESTATÍSTICAS CRIMINAIS CONFIÁVEIS\\...</td>\n",
       "      <td>24 12 2008 estatisticas criminais confiaveis b...</td>\n",
       "      <td>133</td>\n",
       "      <td>43</td>\n",
       "      <td>17</td>\n",
       "      <td>2309</td>\n",
       "      <td>366</td>\n",
       "      <td>5.246612</td>\n",
       "    </tr>\n",
       "  </tbody>\n",
       "</table>\n",
       "</div>"
      ],
      "text/plain": [
       "             SUBJECT              AUTHOR  \\\n",
       "0  ASSUNTOS VARIADOS  LUIZ FLAVIO SAPORI   \n",
       "1  ASSUNTOS VARIADOS  LUIZ FLAVIO SAPORI   \n",
       "2  ASSUNTOS VARIADOS  LUIZ FLAVIO SAPORI   \n",
       "3  ASSUNTOS VARIADOS  LUIZ FLAVIO SAPORI   \n",
       "4  ASSUNTOS VARIADOS  LUIZ FLAVIO SAPORI   \n",
       "\n",
       "                                                TEXT  \\\n",
       "0  19/03/2009\\nFATO CORRIQUEIRO\\nO fato mais impo...   \n",
       "1  06/07/2009\\nPOLÍTICA DE ESTADO\\nUm problema cr...   \n",
       "2  12/07/2009\\nTOQUE DE RECOLHER\\nProcurado para ...   \n",
       "3  23/03/2009\\nCRISE SOCIOEDUCATIVA\\nOcorreram du...   \n",
       "4  24/12/2008\\nESTATÍSTICAS CRIMINAIS CONFIÁVEIS\\...   \n",
       "\n",
       "                                          TEXT_CLEAN  NUM_STOPWORDS  \\\n",
       "0  19 03 2009 fato corriqueiro fato importante se...             67   \n",
       "1  06 07 2009 politica estado problema cronico po...             75   \n",
       "2  12 07 2009 toque recolher procurado suspender ...             95   \n",
       "3  23 03 2009 crise socioeducativa ocorreram duas...             55   \n",
       "4  24 12 2008 estatisticas criminais confiaveis b...            133   \n",
       "\n",
       "   NUM_PUNCTUATIONS  NUM_WORDS_UPPER  NUM_CHARS  NUM_WORDS  AVG_WORD  \n",
       "0                29                5       1375        199  5.787129  \n",
       "1                29               11       1342        207  5.449275  \n",
       "2                46               11       1587        257  5.180392  \n",
       "3                26                6       1141        167  5.761905  \n",
       "4                43               17       2309        366  5.246612  "
      ]
     },
     "execution_count": 3,
     "metadata": {},
     "output_type": "execute_result"
    }
   ],
   "source": [
    "df_data = pd.read_csv('../data/data_feat.csv')\n",
    "df_data.head()"
   ]
  },
  {
   "cell_type": "markdown",
   "metadata": {},
   "source": [
    "# Prep Data"
   ]
  },
  {
   "cell_type": "code",
   "execution_count": 4,
   "metadata": {
    "ExecuteTime": {
     "end_time": "2019-06-07T15:12:35.242252Z",
     "start_time": "2019-06-07T15:12:35.234328Z"
    }
   },
   "outputs": [],
   "source": [
    "df_data['SUBJECT'] = df_data['SUBJECT'].astype('category')\n",
    "df_data['AUTHOR'] = df_data['AUTHOR'].astype('category')"
   ]
  },
  {
   "cell_type": "code",
   "execution_count": 5,
   "metadata": {
    "ExecuteTime": {
     "end_time": "2019-06-07T15:12:35.258988Z",
     "start_time": "2019-06-07T15:12:35.244386Z"
    }
   },
   "outputs": [],
   "source": [
    "#df_data['AUTHOR_CODE'] = df_data['AUTHOR'].astype('category').cat.codes"
   ]
  },
  {
   "cell_type": "code",
   "execution_count": 6,
   "metadata": {
    "ExecuteTime": {
     "end_time": "2019-06-07T15:12:35.263819Z",
     "start_time": "2019-06-07T15:12:35.260710Z"
    }
   },
   "outputs": [],
   "source": [
    "#df_data.head()"
   ]
  },
  {
   "cell_type": "code",
   "execution_count": 7,
   "metadata": {
    "ExecuteTime": {
     "end_time": "2019-06-07T15:12:35.385129Z",
     "start_time": "2019-06-07T15:12:35.382860Z"
    },
    "scrolled": true
   },
   "outputs": [],
   "source": [
    "#classes = dict(enumerate(df_data['AUTHOR'].cat.categories))\n",
    "#classes"
   ]
  },
  {
   "cell_type": "markdown",
   "metadata": {},
   "source": [
    "# One Hot Encode Target"
   ]
  },
  {
   "cell_type": "code",
   "execution_count": 8,
   "metadata": {
    "ExecuteTime": {
     "end_time": "2019-06-07T15:13:03.368608Z",
     "start_time": "2019-06-07T15:12:36.390904Z"
    }
   },
   "outputs": [
    {
     "name": "stderr",
     "output_type": "stream",
     "text": [
      "/anaconda3/lib/python3.6/site-packages/h5py/__init__.py:36: FutureWarning: Conversion of the second argument of issubdtype from `float` to `np.floating` is deprecated. In future, it will be treated as `np.float64 == np.dtype(float).type`.\n",
      "  from ._conv import register_converters as _register_converters\n",
      "Using TensorFlow backend.\n"
     ]
    }
   ],
   "source": [
    "from sklearn.preprocessing import LabelEncoder\n",
    "from keras.utils import np_utils\n",
    "\n",
    "# encode class values as integers\n",
    "encoder = LabelEncoder()\n",
    "encoder.fit(df_data['AUTHOR'])\n",
    "encoded_Y = encoder.transform(df_data['AUTHOR'])\n",
    "# convert integers to dummy variables (i.e. one hot encoded)\n",
    "dummy_y = np_utils.to_categorical(encoded_Y)"
   ]
  },
  {
   "cell_type": "markdown",
   "metadata": {},
   "source": [
    "# Split Dataset"
   ]
  },
  {
   "cell_type": "code",
   "execution_count": 9,
   "metadata": {
    "ExecuteTime": {
     "end_time": "2019-06-07T15:13:04.038287Z",
     "start_time": "2019-06-07T15:13:03.370352Z"
    }
   },
   "outputs": [],
   "source": [
    "from sklearn.model_selection import train_test_split\n",
    "sentences_train, sentences_test, y_train, y_test = train_test_split(df_data['TEXT_CLEAN'], dummy_y,\n",
    "                                                    test_size=0.2, stratify=df_data['AUTHOR'], random_state=42)"
   ]
  },
  {
   "cell_type": "code",
   "execution_count": 10,
   "metadata": {
    "ExecuteTime": {
     "end_time": "2019-06-07T15:13:04.044030Z",
     "start_time": "2019-06-07T15:13:04.040147Z"
    }
   },
   "outputs": [
    {
     "name": "stdout",
     "output_type": "stream",
     "text": [
      "train shape (2402,)\n",
      "test shape (601,)\n"
     ]
    }
   ],
   "source": [
    "print(f'train shape {sentences_train.shape}')\n",
    "print(f'test shape {sentences_test.shape}')"
   ]
  },
  {
   "cell_type": "markdown",
   "metadata": {},
   "source": [
    "# Word Embeddings"
   ]
  },
  {
   "cell_type": "markdown",
   "metadata": {},
   "source": [
    "## Tokenize"
   ]
  },
  {
   "cell_type": "code",
   "execution_count": 14,
   "metadata": {
    "ExecuteTime": {
     "end_time": "2019-06-07T15:17:27.522111Z",
     "start_time": "2019-06-07T15:17:26.355179Z"
    }
   },
   "outputs": [
    {
     "name": "stdout",
     "output_type": "stream",
     "text": [
      "12 07 2009 toque recolher procurado suspender toque recolher jovens conselho nacional justica cnj concedeu ontem primeiro parecer favoravel medida restritiva resposta questionamento contra determinacao juiza nova andradina ms jacqueline machado agora menos 13 comarcas 7 estados adotaram medida caso mantida decisao julgamento merito cabera recurso somente supremo tribunal federal stf conselho nacional direitos crianca adolescente conanda chegou enviar cnj parecer afirma toque recolher fere dois artigos constituicao seis estatuto crianca adolescente eca trata direito ir vir texto afirmase toque recolher impoe situacoes vexatorias criancas carater perseguicao despeito debate juridico relevante refletirmos sobre oportunidade efetividade imposicao tal regra medida restricao circulacao partir determinado horario vias publicas criancas adolescentes contribui ordem publica acredito resultados tendem ser pifios restricao consegue apenas afetar parte lazer noturno adolescentes classe media impondolhes novas alternativas viabilizar sociabilidade madrugadas haveria outro tipo efeito benefico toque recolher sociedade sinceramente consigo visualizar nada nesse sentido qualquer maneira submeto questao leitores blog debate\n",
      "[1477, 191, 89, 35, 1, 15, 323, 1649, 4470, 32, 246, 597, 35, 151, 4619, 298, 58, 4, 30, 817, 58, 24, 991, 85, 415, 1185, 3298, 139, 4471, 10, 1977, 100, 44, 142, 25, 142, 572, 613, 34, 115, 742, 2602, 4044, 611, 197, 3, 4620, 1670, 7, 131, 246, 597, 4470, 1775, 1089, 742, 2602, 2188, 249, 107, 786, 1185, 70, 1824, 1522, 3685, 613, 2265, 37, 343, 1296, 210, 591, 3, 487, 32, 669, 2221, 67, 787, 323, 1596, 1134, 3487, 4175, 298, 3811, 519, 332, 1433, 2509, 572, 487, 97, 67, 13, 1943, 2603, 323, 4470, 1671, 4176, 496, 868, 1395, 4621, 246, 597, 51, 613, 28, 964, 467, 415, 1185, 89, 50, 1110, 2350, 721, 32, 20, 2556, 3090, 579, 2825, 742, 613, 177, 131, 246, 597, 896, 3150, 964, 249, 107, 2115, 2116, 246, 3813, 788, 592, 188, 117, 42, 11, 2050, 613, 1800, 3488, 114, 572, 613, 7, 30, 246, 597, 2351, 4619, 947, 225, 4617, 502, 3813, 1567, 3382, 1433, 332, 869, 817, 5, 12, 160, 1111, 1751, 896, 364, 519, 332, 288, 623, 29, 36, 354, 188, 208, 2703, 852, 178, 3, 373, 1396, 742, 2602, 426, 10, 137, 3091, 1381, 1247, 178, 769, 361, 80, 20, 17, 1109, 1704, 1546, 947, 2, 1214, 2117, 3489, 107, 206, 17, 779, 421, 4622, 948, 80]\n"
     ]
    }
   ],
   "source": [
    "from keras.preprocessing.text import Tokenizer\n",
    "\n",
    "tokenizer = Tokenizer(num_words=5000)\n",
    "tokenizer.fit_on_texts(sentences_train)\n",
    "\n",
    "X_train = tokenizer.texts_to_sequences(sentences_train)\n",
    "X_test = tokenizer.texts_to_sequences(sentences_test)\n",
    "\n",
    "vocab_size = len(tokenizer.word_index) + 1  # Adding 1 because of reserved 0 index\n",
    "\n",
    "print(sentences_train[2])\n",
    "print(X_train[2])"
   ]
  },
  {
   "cell_type": "code",
   "execution_count": 15,
   "metadata": {
    "ExecuteTime": {
     "end_time": "2019-06-07T15:17:27.529003Z",
     "start_time": "2019-06-07T15:17:27.524198Z"
    }
   },
   "outputs": [
    {
     "name": "stdout",
     "output_type": "stream",
     "text": [
      "blog: 600\n",
      "federal: 135\n",
      "debate: 1133\n",
      "nada: 41\n"
     ]
    }
   ],
   "source": [
    "for word in ['blog', 'federal', 'debate', 'nada']:\n",
    "    print('{}: {}'.format(word, tokenizer.word_index[word]))"
   ]
  },
  {
   "cell_type": "markdown",
   "metadata": {},
   "source": [
    "## Padding"
   ]
  },
  {
   "cell_type": "code",
   "execution_count": 16,
   "metadata": {
    "ExecuteTime": {
     "end_time": "2019-06-07T15:17:30.182323Z",
     "start_time": "2019-06-07T15:17:30.112278Z"
    }
   },
   "outputs": [
    {
     "name": "stdout",
     "output_type": "stream",
     "text": [
      "[3227  133   72  622 1646  253 1280 1476 1894 4174  111  167  886  385\n",
      " 1450  114 1410  173  188   79  298  185  856  556 3297   48  365   54\n",
      "  230 1411 1850 4617  117   42 4970   59   11  887    3  349  394  778\n",
      "  886  385  212  668  912  783   86  244  122 2763 4468   59  658 1647\n",
      "  784   33  886  385 1133    3 2304  207  976   88  194 1895  886  385\n",
      "   34 2507 2348  244  957  977 2048  347  125   44   83   79 2048 2049\n",
      " 1647 1504 2148 4971 3149   14  681  352 1451 1595 3019   53   11    7\n",
      "   49 2389   69 2434  145  232  112  407  193 2011   45  201 4797   52\n",
      "  120  201   29  145   71 3587   43  169 3810 2823 2389 1065  785 1595\n",
      " 1354 1895 1703   65  785 2390 1109  232 1066  228  153 1412  785   79\n",
      "  975  550 1595  887 2349 1095  785   79 3483  622 1067 1648 1229   28\n",
      "  990  256    9 1851   72  568   60 2654 1229  990   31  286 2654 1000\n",
      "   72 2507    4 3484  741 2049 1799 1213 1379  115  138 3918  232  339\n",
      "   73 2389 1294   23 3811 2435 4042   53  107  101  178   72  707   79\n",
      "    3 1024 1413  261  164 3297  269  374 4971 1521 1295 4043  183  488\n",
      "  115   97   58 1380  347 4618   11  886  385  257   20  746   25   86\n",
      " 2009 2962  382   16 1823 2391  286 1025 1144 2348 1702  508   86  566\n",
      "  165 1669    3 1620 2012  610 2963   79  116  402  805 4297   29  806\n",
      "  887  785 1414  350   86  664  539 1184 1728   47 4042  170  207 1646\n",
      "  768 1452 1322  183  159  155 1476  712 1942 1521  159    4  886  385\n",
      "  108  886  385  408  708 2264 1647  796 1001 3812    3   37  303 2149\n",
      "  382  109   72  159  394  348  352 3297 3485 2824 2013  352   14 4469\n",
      " 3089 1729   37  303 3486 1450 2508  301    0    0    0    0    0    0\n",
      "    0    0    0    0    0    0    0    0    0    0    0    0    0    0\n",
      "    0    0    0    0    0    0    0    0    0    0    0    0    0    0\n",
      "    0    0    0    0    0    0    0    0    0    0    0    0    0    0\n",
      "    0    0    0    0    0    0    0    0    0    0    0    0    0    0\n",
      "    0    0    0    0    0    0    0    0    0    0    0    0    0    0\n",
      "    0    0    0    0    0    0    0    0    0    0    0    0    0    0\n",
      "    0    0    0    0    0    0    0    0    0    0    0    0    0    0\n",
      "    0    0    0    0    0    0    0    0    0    0    0    0    0    0\n",
      "    0    0    0    0    0    0    0    0    0    0    0    0    0    0\n",
      "    0    0    0    0    0    0    0    0    0    0    0    0    0    0\n",
      "    0    0    0    0    0    0    0    0    0    0    0    0    0    0\n",
      "    0    0    0    0    0    0    0    0    0    0    0    0    0    0\n",
      "    0    0    0    0    0    0    0    0    0    0    0    0    0    0\n",
      "    0    0    0    0    0    0    0    0    0    0    0    0    0    0\n",
      "    0    0    0    0    0    0    0    0    0    0    0    0    0    0\n",
      "    0    0    0    0    0    0    0    0    0    0    0    0    0    0\n",
      "    0    0    0    0    0    0    0    0    0    0    0    0    0    0\n",
      "    0    0    0    0    0    0    0    0    0    0    0    0    0    0\n",
      "    0    0    0    0    0    0    0    0    0    0    0    0    0    0\n",
      "    0    0    0    0    0    0    0    0    0    0    0    0]\n"
     ]
    }
   ],
   "source": [
    "from keras.preprocessing.sequence import pad_sequences\n",
    "\n",
    "maxlen = 600\n",
    "\n",
    "X_train = pad_sequences(X_train, padding='post', maxlen=maxlen)\n",
    "X_test = pad_sequences(X_test, padding='post', maxlen=maxlen)\n",
    "\n",
    "print(X_train[1, :])"
   ]
  },
  {
   "cell_type": "markdown",
   "metadata": {},
   "source": [
    "# Keras Word Embeddings"
   ]
  },
  {
   "cell_type": "markdown",
   "metadata": {},
   "source": [
    "## CNN"
   ]
  },
  {
   "cell_type": "code",
   "execution_count": 18,
   "metadata": {
    "ExecuteTime": {
     "end_time": "2019-06-07T15:18:53.346541Z",
     "start_time": "2019-06-07T15:18:53.101874Z"
    }
   },
   "outputs": [
    {
     "name": "stdout",
     "output_type": "stream",
     "text": [
      "_________________________________________________________________\n",
      "Layer (type)                 Output Shape              Param #   \n",
      "=================================================================\n",
      "embedding_1 (Embedding)      (None, 600, 100)          6248100   \n",
      "_________________________________________________________________\n",
      "conv1d_1 (Conv1D)            (None, 596, 128)          64128     \n",
      "_________________________________________________________________\n",
      "global_max_pooling1d_1 (Glob (None, 128)               0         \n",
      "_________________________________________________________________\n",
      "dense_1 (Dense)              (None, 10)                1290      \n",
      "_________________________________________________________________\n",
      "dense_2 (Dense)              (None, 100)               1100      \n",
      "=================================================================\n",
      "Total params: 6,314,618\n",
      "Trainable params: 6,314,618\n",
      "Non-trainable params: 0\n",
      "_________________________________________________________________\n"
     ]
    }
   ],
   "source": [
    "from keras.models import Sequential\n",
    "from keras import layers\n",
    "\n",
    "embedding_dim = 100\n",
    "\n",
    "model = Sequential()\n",
    "model.add(layers.Embedding(input_dim=vocab_size, \n",
    "                           output_dim=embedding_dim, \n",
    "                           input_length=maxlen))\n",
    "model.add(layers.Conv1D(128, 5, activation='relu'))\n",
    "model.add(layers.GlobalMaxPooling1D())\n",
    "model.add(layers.Dense(10, activation='relu'))\n",
    "model.add(layers.Dense(100, activation='softmax'))\n",
    "model.compile(optimizer='adam',\n",
    "              loss='categorical_crossentropy',\n",
    "              metrics=['accuracy'])\n",
    "model.summary()"
   ]
  },
  {
   "cell_type": "code",
   "execution_count": 19,
   "metadata": {
    "ExecuteTime": {
     "end_time": "2019-06-07T15:26:28.319502Z",
     "start_time": "2019-06-07T15:19:09.040565Z"
    }
   },
   "outputs": [
    {
     "name": "stdout",
     "output_type": "stream",
     "text": [
      "Train on 2402 samples, validate on 601 samples\n",
      "Epoch 1/10\n",
      "2402/2402 [==============================] - 45s 19ms/step - loss: 4.6021 - acc: 0.0179 - val_loss: 4.5791 - val_acc: 0.0250\n",
      "Epoch 2/10\n",
      "2402/2402 [==============================] - 45s 19ms/step - loss: 4.3933 - acc: 0.0458 - val_loss: 4.1250 - val_acc: 0.0532\n",
      "Epoch 3/10\n",
      "2402/2402 [==============================] - 45s 19ms/step - loss: 3.6879 - acc: 0.1062 - val_loss: 3.5636 - val_acc: 0.1381\n",
      "Epoch 4/10\n",
      "2402/2402 [==============================] - 47s 19ms/step - loss: 2.8178 - acc: 0.2327 - val_loss: 3.0746 - val_acc: 0.2329\n",
      "Epoch 5/10\n",
      "2402/2402 [==============================] - 44s 18ms/step - loss: 1.9925 - acc: 0.4192 - val_loss: 3.0412 - val_acc: 0.2529\n",
      "Epoch 6/10\n",
      "2402/2402 [==============================] - 43s 18ms/step - loss: 1.4125 - acc: 0.5945 - val_loss: 3.2610 - val_acc: 0.2629\n",
      "Epoch 7/10\n",
      "2402/2402 [==============================] - 42s 17ms/step - loss: 1.0049 - acc: 0.7386 - val_loss: 3.6906 - val_acc: 0.2529\n",
      "Epoch 8/10\n",
      "2402/2402 [==============================] - 44s 18ms/step - loss: 0.7619 - acc: 0.8122 - val_loss: 4.1090 - val_acc: 0.2512\n",
      "Epoch 9/10\n",
      "2402/2402 [==============================] - 42s 18ms/step - loss: 0.5789 - acc: 0.8684 - val_loss: 4.6741 - val_acc: 0.2379\n",
      "Epoch 10/10\n",
      "2402/2402 [==============================] - 43s 18ms/step - loss: 0.4494 - acc: 0.8993 - val_loss: 5.0480 - val_acc: 0.2479\n"
     ]
    }
   ],
   "source": [
    "history = model.fit(X_train, y_train,\n",
    "                    epochs=10,\n",
    "                    verbose=True,\n",
    "                    validation_data=(X_test, y_test),\n",
    "                    batch_size=10)"
   ]
  },
  {
   "cell_type": "code",
   "execution_count": 21,
   "metadata": {
    "ExecuteTime": {
     "end_time": "2019-06-07T15:27:15.904433Z",
     "start_time": "2019-06-07T15:27:12.913395Z"
    }
   },
   "outputs": [
    {
     "name": "stdout",
     "output_type": "stream",
     "text": [
      "Training Accuracy: 0.9009\n",
      "Testing Accuracy:  0.2479\n"
     ]
    }
   ],
   "source": [
    "loss, accuracy = model.evaluate(X_train, y_train, verbose=False)\n",
    "print(\"Training Accuracy: {:.4f}\".format(accuracy))\n",
    "loss, accuracy = model.evaluate(X_test, y_test, verbose=False)\n",
    "print(\"Testing Accuracy:  {:.4f}\".format(accuracy))"
   ]
  },
  {
   "cell_type": "code",
   "execution_count": 22,
   "metadata": {
    "ExecuteTime": {
     "end_time": "2019-06-07T15:27:18.618926Z",
     "start_time": "2019-06-07T15:27:18.113558Z"
    }
   },
   "outputs": [
    {
     "data": {
      "image/png": "[encoded data removed]",
      "text/plain": [
       "<Figure size 864x360 with 2 Axes>"
      ]
     },
     "metadata": {},
     "output_type": "display_data"
    }
   ],
   "source": [
    "plot_history(history)"
   ]
  },
  {
   "cell_type": "markdown",
   "metadata": {},
   "source": [
    "## CNN Glove"
   ]
  },
  {
   "cell_type": "markdown",
   "metadata": {},
   "source": [
    "Since you don’t need all words, you can focus on only the words that we have in our vocabulary. Since we have only a limited number of words in our vocabulary, we can skip most of the words in the pretrained word embeddings"
   ]
  },
  {
   "cell_type": "code",
   "execution_count": 23,
   "metadata": {
    "ExecuteTime": {
     "end_time": "2019-06-07T15:27:24.434742Z",
     "start_time": "2019-06-07T15:27:24.430783Z"
    }
   },
   "outputs": [],
   "source": [
    "import numpy as np\n",
    "\n",
    "def create_embedding_matrix(filepath, word_index, embedding_dim):\n",
    "    vocab_size = len(word_index) + 1  # Adding again 1 because of reserved 0 index\n",
    "    embedding_matrix = np.zeros((vocab_size, embedding_dim))\n",
    "\n",
    "    with open(filepath, encoding='iso-8859-1') as f:\n",
    "        for line in f:\n",
    "            word, *vector = line.split()\n",
    "            if word in word_index:\n",
    "                idx = word_index[word] \n",
    "                embedding_matrix[idx] = np.array(\n",
    "                    vector, dtype=np.float32)[:embedding_dim]\n",
    "\n",
    "    return embedding_matrix"
   ]
  },
  {
   "cell_type": "code",
   "execution_count": 24,
   "metadata": {
    "ExecuteTime": {
     "end_time": "2019-06-07T15:27:34.956153Z",
     "start_time": "2019-06-07T15:27:26.081854Z"
    },
    "scrolled": true
   },
   "outputs": [],
   "source": [
    "embedding_dim = 100\n",
    "embedding_matrix = create_embedding_matrix(\n",
    "    '../data/glove_s100.txt',\n",
    "    tokenizer.word_index, embedding_dim)"
   ]
  },
  {
   "cell_type": "code",
   "execution_count": 25,
   "metadata": {
    "ExecuteTime": {
     "end_time": "2019-06-07T15:27:35.002519Z",
     "start_time": "2019-06-07T15:27:34.958229Z"
    }
   },
   "outputs": [
    {
     "data": {
      "text/plain": [
       "0.7973303884380851"
      ]
     },
     "execution_count": 25,
     "metadata": {},
     "output_type": "execute_result"
    }
   ],
   "source": [
    "nonzero_elements = np.count_nonzero(np.count_nonzero(embedding_matrix, axis=1))\n",
    "nonzero_elements / vocab_size"
   ]
  },
  {
   "cell_type": "markdown",
   "metadata": {},
   "source": [
    "This means almost 80% of the vocabulary is covered by the pretrained model, which is a good coverage of our vocabulary."
   ]
  },
  {
   "cell_type": "code",
   "execution_count": 27,
   "metadata": {
    "ExecuteTime": {
     "end_time": "2019-06-07T15:29:03.261529Z",
     "start_time": "2019-06-07T15:29:03.050025Z"
    }
   },
   "outputs": [
    {
     "name": "stdout",
     "output_type": "stream",
     "text": [
      "_________________________________________________________________\n",
      "Layer (type)                 Output Shape              Param #   \n",
      "=================================================================\n",
      "embedding_2 (Embedding)      (None, 600, 100)          6248100   \n",
      "_________________________________________________________________\n",
      "conv1d_2 (Conv1D)            (None, 596, 128)          64128     \n",
      "_________________________________________________________________\n",
      "global_max_pooling1d_2 (Glob (None, 128)               0         \n",
      "_________________________________________________________________\n",
      "dense_3 (Dense)              (None, 10)                1290      \n",
      "_________________________________________________________________\n",
      "dense_4 (Dense)              (None, 100)               1100      \n",
      "=================================================================\n",
      "Total params: 6,314,618\n",
      "Trainable params: 6,314,618\n",
      "Non-trainable params: 0\n",
      "_________________________________________________________________\n"
     ]
    }
   ],
   "source": [
    "from keras.models import Sequential\n",
    "from keras import layers\n",
    "\n",
    "embedding_dim = 100\n",
    "\n",
    "model = Sequential()\n",
    "model.add(layers.Embedding(vocab_size, embedding_dim, \n",
    "                           weights=[embedding_matrix], \n",
    "                           input_length=maxlen, \n",
    "                           trainable=True))\n",
    "model.add(layers.Conv1D(128, 5, activation='relu'))\n",
    "model.add(layers.GlobalMaxPooling1D())\n",
    "model.add(layers.Dense(10, activation='relu'))\n",
    "model.add(layers.Dense(100, activation='softmax'))\n",
    "model.compile(optimizer='adam',\n",
    "              loss='categorical_crossentropy',\n",
    "              metrics=['accuracy'])\n",
    "model.summary()"
   ]
  },
  {
   "cell_type": "code",
   "execution_count": 28,
   "metadata": {
    "ExecuteTime": {
     "end_time": "2019-06-07T15:36:38.217484Z",
     "start_time": "2019-06-07T15:29:04.261805Z"
    }
   },
   "outputs": [
    {
     "name": "stdout",
     "output_type": "stream",
     "text": [
      "Train on 2402 samples, validate on 601 samples\n",
      "Epoch 1/10\n",
      "2402/2402 [==============================] - 45s 19ms/step - loss: 4.5969 - acc: 0.0112 - val_loss: 4.5604 - val_acc: 0.0216\n",
      "Epoch 2/10\n",
      "2402/2402 [==============================] - 46s 19ms/step - loss: 4.4390 - acc: 0.0200 - val_loss: 4.3978 - val_acc: 0.0266\n",
      "Epoch 3/10\n",
      "2402/2402 [==============================] - 47s 19ms/step - loss: 4.1357 - acc: 0.0387 - val_loss: 4.1579 - val_acc: 0.0466\n",
      "Epoch 4/10\n",
      "2402/2402 [==============================] - 46s 19ms/step - loss: 3.8724 - acc: 0.0570 - val_loss: 4.0483 - val_acc: 0.0449\n",
      "Epoch 5/10\n",
      "2402/2402 [==============================] - 46s 19ms/step - loss: 3.6723 - acc: 0.0662 - val_loss: 3.9977 - val_acc: 0.0532\n",
      "Epoch 6/10\n",
      "2402/2402 [==============================] - 44s 18ms/step - loss: 3.5111 - acc: 0.0724 - val_loss: 3.9912 - val_acc: 0.0449\n",
      "Epoch 7/10\n",
      "2402/2402 [==============================] - 47s 20ms/step - loss: 3.3990 - acc: 0.0745 - val_loss: 3.9915 - val_acc: 0.0516\n",
      "Epoch 8/10\n",
      "2402/2402 [==============================] - 44s 18ms/step - loss: 3.3056 - acc: 0.0845 - val_loss: 4.0744 - val_acc: 0.0532\n",
      "Epoch 9/10\n",
      "2402/2402 [==============================] - 44s 18ms/step - loss: 3.2041 - acc: 0.0899 - val_loss: 4.0223 - val_acc: 0.0666\n",
      "Epoch 10/10\n",
      "2402/2402 [==============================] - 43s 18ms/step - loss: 2.9731 - acc: 0.1286 - val_loss: 3.8716 - val_acc: 0.0998\n"
     ]
    }
   ],
   "source": [
    "history = model.fit(X_train, y_train,\n",
    "                    epochs=10,\n",
    "                    verbose=True,\n",
    "                    validation_data=(X_test, y_test),\n",
    "                    batch_size=10)"
   ]
  },
  {
   "cell_type": "code",
   "execution_count": 30,
   "metadata": {
    "ExecuteTime": {
     "end_time": "2019-06-07T15:38:03.383708Z",
     "start_time": "2019-06-07T15:37:55.514761Z"
    }
   },
   "outputs": [
    {
     "name": "stdout",
     "output_type": "stream",
     "text": [
      "Training Accuracy: 0.2011\n",
      "Testing Accuracy:  0.0998\n"
     ]
    }
   ],
   "source": [
    "loss, accuracy = model.evaluate(X_train, y_train, verbose=False)\n",
    "print(\"Training Accuracy: {:.4f}\".format(accuracy))\n",
    "loss, accuracy = model.evaluate(X_test, y_test, verbose=False)\n",
    "print(\"Testing Accuracy:  {:.4f}\".format(accuracy))"
   ]
  },
  {
   "cell_type": "code",
   "execution_count": 31,
   "metadata": {
    "ExecuteTime": {
     "end_time": "2019-06-07T15:38:14.550449Z",
     "start_time": "2019-06-07T15:38:13.515870Z"
    }
   },
   "outputs": [
    {
     "data": {
      "image/png": "[encoded data removed]",
      "text/plain": [
       "<Figure size 864x360 with 2 Axes>"
      ]
     },
     "metadata": {},
     "output_type": "display_data"
    }
   ],
   "source": [
    "plot_history(history)"
   ]
  },
  {
   "cell_type": "code",
   "execution_count": null,
   "metadata": {},
   "outputs": [],
   "source": []
  }
 ],
 "metadata": {
  "kernelspec": {
   "display_name": "Python 3",
   "language": "python",
   "name": "python3"
  },
  "language_info": {
   "codemirror_mode": {
    "name": "ipython",
    "version": 3
   },
   "file_extension": ".py",
   "mimetype": "text/x-python",
   "name": "python",
   "nbconvert_exporter": "python",
   "pygments_lexer": "ipython3",
   "version": "3.6.5"
  }
 },
 "nbformat": 4,
 "nbformat_minor": 2
}
