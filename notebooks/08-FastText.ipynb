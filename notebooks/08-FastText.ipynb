{
 "cells": [
  {
   "cell_type": "markdown",
   "metadata": {},
   "source": [
    "# Imports and Functions"
   ]
  },
  {
   "cell_type": "code",
   "execution_count": 1,
   "metadata": {
    "ExecuteTime": {
     "end_time": "2019-06-07T17:13:05.282876Z",
     "start_time": "2019-06-07T17:12:56.226832Z"
    }
   },
   "outputs": [],
   "source": [
    "import pandas as pd\n",
    "from time import time\n",
    "\n",
    "import visuals as vs \n",
    "\n",
    "%matplotlib inline"
   ]
  },
  {
   "cell_type": "code",
   "execution_count": 2,
   "metadata": {
    "ExecuteTime": {
     "end_time": "2019-06-07T17:13:05.289867Z",
     "start_time": "2019-06-07T17:13:05.284595Z"
    }
   },
   "outputs": [],
   "source": [
    "import matplotlib.pyplot as plt\n",
    "plt.style.use('ggplot')\n",
    "\n",
    "def plot_history(history):\n",
    "    acc = history.history['acc']\n",
    "    val_acc = history.history['val_acc']\n",
    "    loss = history.history['loss']\n",
    "    val_loss = history.history['val_loss']\n",
    "    x = range(1, len(acc) + 1)\n",
    "\n",
    "    plt.figure(figsize=(12, 5))\n",
    "    plt.subplot(1, 2, 1)\n",
    "    plt.plot(x, acc, 'b', label='Training acc')\n",
    "    plt.plot(x, val_acc, 'r', label='Validation acc')\n",
    "    plt.title('Training and validation accuracy')\n",
    "    plt.legend()\n",
    "    plt.subplot(1, 2, 2)\n",
    "    plt.plot(x, loss, 'b', label='Training loss')\n",
    "    plt.plot(x, val_loss, 'r', label='Validation loss')\n",
    "    plt.title('Training and validation loss')\n",
    "    plt.legend()"
   ]
  },
  {
   "cell_type": "markdown",
   "metadata": {},
   "source": [
    "# Load Data"
   ]
  },
  {
   "cell_type": "code",
   "execution_count": 3,
   "metadata": {
    "ExecuteTime": {
     "end_time": "2019-06-07T17:13:05.953130Z",
     "start_time": "2019-06-07T17:13:05.293933Z"
    }
   },
   "outputs": [
    {
     "data": {
      "text/html": [
       "<div>\n",
       "<style scoped>\n",
       "    .dataframe tbody tr th:only-of-type {\n",
       "        vertical-align: middle;\n",
       "    }\n",
       "\n",
       "    .dataframe tbody tr th {\n",
       "        vertical-align: top;\n",
       "    }\n",
       "\n",
       "    .dataframe thead th {\n",
       "        text-align: right;\n",
       "    }\n",
       "</style>\n",
       "<table border=\"1\" class=\"dataframe\">\n",
       "  <thead>\n",
       "    <tr style=\"text-align: right;\">\n",
       "      <th></th>\n",
       "      <th>SUBJECT</th>\n",
       "      <th>AUTHOR</th>\n",
       "      <th>TEXT</th>\n",
       "      <th>TEXT_CLEAN</th>\n",
       "      <th>NUM_STOPWORDS</th>\n",
       "      <th>NUM_PUNCTUATIONS</th>\n",
       "      <th>NUM_WORDS_UPPER</th>\n",
       "      <th>NUM_CHARS</th>\n",
       "      <th>NUM_WORDS</th>\n",
       "      <th>AVG_WORD</th>\n",
       "    </tr>\n",
       "  </thead>\n",
       "  <tbody>\n",
       "    <tr>\n",
       "      <th>0</th>\n",
       "      <td>ASSUNTOS VARIADOS</td>\n",
       "      <td>LUIZ FLAVIO SAPORI</td>\n",
       "      <td>19/03/2009\\nFATO CORRIQUEIRO\\nO fato mais impo...</td>\n",
       "      <td>19 03 2009 fato corriqueiro fato importante se...</td>\n",
       "      <td>67</td>\n",
       "      <td>29</td>\n",
       "      <td>5</td>\n",
       "      <td>1375</td>\n",
       "      <td>199</td>\n",
       "      <td>5.787129</td>\n",
       "    </tr>\n",
       "    <tr>\n",
       "      <th>1</th>\n",
       "      <td>ASSUNTOS VARIADOS</td>\n",
       "      <td>LUIZ FLAVIO SAPORI</td>\n",
       "      <td>06/07/2009\\nPOLÍTICA DE ESTADO\\nUm problema cr...</td>\n",
       "      <td>06 07 2009 politica estado problema cronico po...</td>\n",
       "      <td>75</td>\n",
       "      <td>29</td>\n",
       "      <td>11</td>\n",
       "      <td>1342</td>\n",
       "      <td>207</td>\n",
       "      <td>5.449275</td>\n",
       "    </tr>\n",
       "    <tr>\n",
       "      <th>2</th>\n",
       "      <td>ASSUNTOS VARIADOS</td>\n",
       "      <td>LUIZ FLAVIO SAPORI</td>\n",
       "      <td>12/07/2009\\nTOQUE DE RECOLHER\\nProcurado para ...</td>\n",
       "      <td>12 07 2009 toque recolher procurado suspender ...</td>\n",
       "      <td>95</td>\n",
       "      <td>46</td>\n",
       "      <td>11</td>\n",
       "      <td>1587</td>\n",
       "      <td>257</td>\n",
       "      <td>5.180392</td>\n",
       "    </tr>\n",
       "    <tr>\n",
       "      <th>3</th>\n",
       "      <td>ASSUNTOS VARIADOS</td>\n",
       "      <td>LUIZ FLAVIO SAPORI</td>\n",
       "      <td>23/03/2009\\nCRISE SOCIOEDUCATIVA\\nOcorreram du...</td>\n",
       "      <td>23 03 2009 crise socioeducativa ocorreram duas...</td>\n",
       "      <td>55</td>\n",
       "      <td>26</td>\n",
       "      <td>6</td>\n",
       "      <td>1141</td>\n",
       "      <td>167</td>\n",
       "      <td>5.761905</td>\n",
       "    </tr>\n",
       "    <tr>\n",
       "      <th>4</th>\n",
       "      <td>ASSUNTOS VARIADOS</td>\n",
       "      <td>LUIZ FLAVIO SAPORI</td>\n",
       "      <td>24/12/2008\\nESTATÍSTICAS CRIMINAIS CONFIÁVEIS\\...</td>\n",
       "      <td>24 12 2008 estatisticas criminais confiaveis b...</td>\n",
       "      <td>133</td>\n",
       "      <td>43</td>\n",
       "      <td>17</td>\n",
       "      <td>2309</td>\n",
       "      <td>366</td>\n",
       "      <td>5.246612</td>\n",
       "    </tr>\n",
       "  </tbody>\n",
       "</table>\n",
       "</div>"
      ],
      "text/plain": [
       "             SUBJECT              AUTHOR  \\\n",
       "0  ASSUNTOS VARIADOS  LUIZ FLAVIO SAPORI   \n",
       "1  ASSUNTOS VARIADOS  LUIZ FLAVIO SAPORI   \n",
       "2  ASSUNTOS VARIADOS  LUIZ FLAVIO SAPORI   \n",
       "3  ASSUNTOS VARIADOS  LUIZ FLAVIO SAPORI   \n",
       "4  ASSUNTOS VARIADOS  LUIZ FLAVIO SAPORI   \n",
       "\n",
       "                                                TEXT  \\\n",
       "0  19/03/2009\\nFATO CORRIQUEIRO\\nO fato mais impo...   \n",
       "1  06/07/2009\\nPOLÍTICA DE ESTADO\\nUm problema cr...   \n",
       "2  12/07/2009\\nTOQUE DE RECOLHER\\nProcurado para ...   \n",
       "3  23/03/2009\\nCRISE SOCIOEDUCATIVA\\nOcorreram du...   \n",
       "4  24/12/2008\\nESTATÍSTICAS CRIMINAIS CONFIÁVEIS\\...   \n",
       "\n",
       "                                          TEXT_CLEAN  NUM_STOPWORDS  \\\n",
       "0  19 03 2009 fato corriqueiro fato importante se...             67   \n",
       "1  06 07 2009 politica estado problema cronico po...             75   \n",
       "2  12 07 2009 toque recolher procurado suspender ...             95   \n",
       "3  23 03 2009 crise socioeducativa ocorreram duas...             55   \n",
       "4  24 12 2008 estatisticas criminais confiaveis b...            133   \n",
       "\n",
       "   NUM_PUNCTUATIONS  NUM_WORDS_UPPER  NUM_CHARS  NUM_WORDS  AVG_WORD  \n",
       "0                29                5       1375        199  5.787129  \n",
       "1                29               11       1342        207  5.449275  \n",
       "2                46               11       1587        257  5.180392  \n",
       "3                26                6       1141        167  5.761905  \n",
       "4                43               17       2309        366  5.246612  "
      ]
     },
     "execution_count": 3,
     "metadata": {},
     "output_type": "execute_result"
    }
   ],
   "source": [
    "df_data = pd.read_csv('../data/data_feat.csv')\n",
    "df_data.head()"
   ]
  },
  {
   "cell_type": "markdown",
   "metadata": {},
   "source": [
    "# Prep Data for FastText"
   ]
  },
  {
   "cell_type": "code",
   "execution_count": 4,
   "metadata": {
    "ExecuteTime": {
     "end_time": "2019-06-07T16:36:14.471869Z",
     "start_time": "2019-06-07T16:36:14.463775Z"
    }
   },
   "outputs": [],
   "source": [
    "df_data['SUBJECT'] = df_data['SUBJECT'].astype('category')\n",
    "df_data['AUTHOR'] = df_data['AUTHOR'].astype('category')"
   ]
  },
  {
   "cell_type": "code",
   "execution_count": 8,
   "metadata": {
    "ExecuteTime": {
     "end_time": "2019-06-07T16:38:05.398974Z",
     "start_time": "2019-06-07T16:38:05.359679Z"
    }
   },
   "outputs": [],
   "source": [
    "df_data['AUTHOR_CODE'] = df_data['AUTHOR'].astype('category').cat.codes"
   ]
  },
  {
   "cell_type": "code",
   "execution_count": 9,
   "metadata": {
    "ExecuteTime": {
     "end_time": "2019-06-07T16:38:05.638690Z",
     "start_time": "2019-06-07T16:38:05.624232Z"
    }
   },
   "outputs": [
    {
     "data": {
      "text/html": [
       "<div>\n",
       "<style scoped>\n",
       "    .dataframe tbody tr th:only-of-type {\n",
       "        vertical-align: middle;\n",
       "    }\n",
       "\n",
       "    .dataframe tbody tr th {\n",
       "        vertical-align: top;\n",
       "    }\n",
       "\n",
       "    .dataframe thead th {\n",
       "        text-align: right;\n",
       "    }\n",
       "</style>\n",
       "<table border=\"1\" class=\"dataframe\">\n",
       "  <thead>\n",
       "    <tr style=\"text-align: right;\">\n",
       "      <th></th>\n",
       "      <th>SUBJECT</th>\n",
       "      <th>AUTHOR</th>\n",
       "      <th>TEXT</th>\n",
       "      <th>TEXT_CLEAN</th>\n",
       "      <th>NUM_STOPWORDS</th>\n",
       "      <th>NUM_PUNCTUATIONS</th>\n",
       "      <th>NUM_WORDS_UPPER</th>\n",
       "      <th>NUM_CHARS</th>\n",
       "      <th>NUM_WORDS</th>\n",
       "      <th>AVG_WORD</th>\n",
       "      <th>AUTHOR_CODE</th>\n",
       "    </tr>\n",
       "  </thead>\n",
       "  <tbody>\n",
       "    <tr>\n",
       "      <th>0</th>\n",
       "      <td>ASSUNTOS VARIADOS</td>\n",
       "      <td>LUIZ FLAVIO SAPORI</td>\n",
       "      <td>19/03/2009\\nFATO CORRIQUEIRO\\nO fato mais impo...</td>\n",
       "      <td>19 03 2009 fato corriqueiro fato importante se...</td>\n",
       "      <td>67</td>\n",
       "      <td>29</td>\n",
       "      <td>5</td>\n",
       "      <td>1375</td>\n",
       "      <td>199</td>\n",
       "      <td>5.787129</td>\n",
       "      <td>62</td>\n",
       "    </tr>\n",
       "    <tr>\n",
       "      <th>1</th>\n",
       "      <td>ASSUNTOS VARIADOS</td>\n",
       "      <td>LUIZ FLAVIO SAPORI</td>\n",
       "      <td>06/07/2009\\nPOLÍTICA DE ESTADO\\nUm problema cr...</td>\n",
       "      <td>06 07 2009 politica estado problema cronico po...</td>\n",
       "      <td>75</td>\n",
       "      <td>29</td>\n",
       "      <td>11</td>\n",
       "      <td>1342</td>\n",
       "      <td>207</td>\n",
       "      <td>5.449275</td>\n",
       "      <td>62</td>\n",
       "    </tr>\n",
       "    <tr>\n",
       "      <th>2</th>\n",
       "      <td>ASSUNTOS VARIADOS</td>\n",
       "      <td>LUIZ FLAVIO SAPORI</td>\n",
       "      <td>12/07/2009\\nTOQUE DE RECOLHER\\nProcurado para ...</td>\n",
       "      <td>12 07 2009 toque recolher procurado suspender ...</td>\n",
       "      <td>95</td>\n",
       "      <td>46</td>\n",
       "      <td>11</td>\n",
       "      <td>1587</td>\n",
       "      <td>257</td>\n",
       "      <td>5.180392</td>\n",
       "      <td>62</td>\n",
       "    </tr>\n",
       "    <tr>\n",
       "      <th>3</th>\n",
       "      <td>ASSUNTOS VARIADOS</td>\n",
       "      <td>LUIZ FLAVIO SAPORI</td>\n",
       "      <td>23/03/2009\\nCRISE SOCIOEDUCATIVA\\nOcorreram du...</td>\n",
       "      <td>23 03 2009 crise socioeducativa ocorreram duas...</td>\n",
       "      <td>55</td>\n",
       "      <td>26</td>\n",
       "      <td>6</td>\n",
       "      <td>1141</td>\n",
       "      <td>167</td>\n",
       "      <td>5.761905</td>\n",
       "      <td>62</td>\n",
       "    </tr>\n",
       "    <tr>\n",
       "      <th>4</th>\n",
       "      <td>ASSUNTOS VARIADOS</td>\n",
       "      <td>LUIZ FLAVIO SAPORI</td>\n",
       "      <td>24/12/2008\\nESTATÍSTICAS CRIMINAIS CONFIÁVEIS\\...</td>\n",
       "      <td>24 12 2008 estatisticas criminais confiaveis b...</td>\n",
       "      <td>133</td>\n",
       "      <td>43</td>\n",
       "      <td>17</td>\n",
       "      <td>2309</td>\n",
       "      <td>366</td>\n",
       "      <td>5.246612</td>\n",
       "      <td>62</td>\n",
       "    </tr>\n",
       "  </tbody>\n",
       "</table>\n",
       "</div>"
      ],
      "text/plain": [
       "             SUBJECT              AUTHOR  \\\n",
       "0  ASSUNTOS VARIADOS  LUIZ FLAVIO SAPORI   \n",
       "1  ASSUNTOS VARIADOS  LUIZ FLAVIO SAPORI   \n",
       "2  ASSUNTOS VARIADOS  LUIZ FLAVIO SAPORI   \n",
       "3  ASSUNTOS VARIADOS  LUIZ FLAVIO SAPORI   \n",
       "4  ASSUNTOS VARIADOS  LUIZ FLAVIO SAPORI   \n",
       "\n",
       "                                                TEXT  \\\n",
       "0  19/03/2009\\nFATO CORRIQUEIRO\\nO fato mais impo...   \n",
       "1  06/07/2009\\nPOLÍTICA DE ESTADO\\nUm problema cr...   \n",
       "2  12/07/2009\\nTOQUE DE RECOLHER\\nProcurado para ...   \n",
       "3  23/03/2009\\nCRISE SOCIOEDUCATIVA\\nOcorreram du...   \n",
       "4  24/12/2008\\nESTATÍSTICAS CRIMINAIS CONFIÁVEIS\\...   \n",
       "\n",
       "                                          TEXT_CLEAN  NUM_STOPWORDS  \\\n",
       "0  19 03 2009 fato corriqueiro fato importante se...             67   \n",
       "1  06 07 2009 politica estado problema cronico po...             75   \n",
       "2  12 07 2009 toque recolher procurado suspender ...             95   \n",
       "3  23 03 2009 crise socioeducativa ocorreram duas...             55   \n",
       "4  24 12 2008 estatisticas criminais confiaveis b...            133   \n",
       "\n",
       "   NUM_PUNCTUATIONS  NUM_WORDS_UPPER  NUM_CHARS  NUM_WORDS  AVG_WORD  \\\n",
       "0                29                5       1375        199  5.787129   \n",
       "1                29               11       1342        207  5.449275   \n",
       "2                46               11       1587        257  5.180392   \n",
       "3                26                6       1141        167  5.761905   \n",
       "4                43               17       2309        366  5.246612   \n",
       "\n",
       "   AUTHOR_CODE  \n",
       "0           62  \n",
       "1           62  \n",
       "2           62  \n",
       "3           62  \n",
       "4           62  "
      ]
     },
     "execution_count": 9,
     "metadata": {},
     "output_type": "execute_result"
    }
   ],
   "source": [
    "df_data.head()"
   ]
  },
  {
   "cell_type": "code",
   "execution_count": 10,
   "metadata": {
    "ExecuteTime": {
     "end_time": "2019-06-07T16:38:05.917817Z",
     "start_time": "2019-06-07T16:38:05.912374Z"
    },
    "scrolled": true
   },
   "outputs": [
    {
     "data": {
      "text/plain": [
       "{0: 'ACÍLIO LARA REZENDE',\n",
       " 1: 'ADRIANO GAMBARINI',\n",
       " 2: 'ALESSANDRA BLANCO',\n",
       " 3: 'ALEXANDRE MAGALHÃES',\n",
       " 4: 'ANA CRISTINA CAVALCANTE',\n",
       " 5: 'ANDRE RIBEIRO',\n",
       " 6: 'ANDREA KAUFMANN',\n",
       " 7: 'ANTONIO PIETROBELLI',\n",
       " 8: 'ARNALDO JABOR',\n",
       " 9: 'AUGUSTO MAFUZ',\n",
       " 10: 'BADGER VICARI',\n",
       " 11: 'BENEDICTO DUTRA',\n",
       " 12: 'BOLESLAU SLIVIANY',\n",
       " 13: 'CARLA KREEFT',\n",
       " 14: 'CARLOS BERTOLAZZI',\n",
       " 15: 'CARLOS BRICKMANN',\n",
       " 16: 'CARLOS SARLI',\n",
       " 17: 'CARLOS ZAMITH JUNIOR',\n",
       " 18: 'CECILIA GIANNETTI',\n",
       " 19: 'CEZAR TAURION',\n",
       " 20: 'CILMARA CASTILHO',\n",
       " 21: 'CLAUDIO GRADILONE',\n",
       " 22: 'CLAUDIO HUMBERTO',\n",
       " 23: 'CLAUDIO LIMA',\n",
       " 24: 'CLAUDIO SCHAMIS',\n",
       " 25: 'DENNY ROGER',\n",
       " 26: 'DIOGO OLIVIER',\n",
       " 27: 'DRAUZIO VARELA',\n",
       " 28: 'EDUARDO TUDE',\n",
       " 29: 'EWANDRO SCHENKEL',\n",
       " 30: 'FABIO CAMPANA',\n",
       " 31: 'FABIO CAMPOS',\n",
       " 32: 'FABIO CESAR DOS SANTOS',\n",
       " 33: 'FABIO TOKARS',\n",
       " 34: 'FABIO ZANINI',\n",
       " 35: 'FERNANDA ARANDA',\n",
       " 36: 'FERNANDO BIRMAN',\n",
       " 37: 'FERNANDO CANZIAN',\n",
       " 38: 'FERNANDO CESAR FARIA',\n",
       " 39: 'FERNANDO MONTEIRO',\n",
       " 40: 'FLAVIO SETTANNI',\n",
       " 41: 'FREDERICO VASCONCELOS',\n",
       " 42: 'FÁTIMA OLIVEIRA',\n",
       " 43: 'GILBERTO DIMENSTEIN',\n",
       " 44: 'GILDA DE CASTRO',\n",
       " 45: 'GRACE PASSÔ',\n",
       " 46: 'GUILHERME BARROS',\n",
       " 47: 'IGOR FONSECA RODRIGUES',\n",
       " 48: 'IVONILDO LAVOR',\n",
       " 49: 'JOHN COOKLANE',\n",
       " 50: 'JORGE ALBERTO ARAÚJO',\n",
       " 51: 'JOSÉ PINTO',\n",
       " 52: 'JULIO PREUSS',\n",
       " 53: 'KARLON AREDES',\n",
       " 54: 'LAURA MEDIOLI',\n",
       " 55: 'LEANDRO PERCHÉ',\n",
       " 56: 'LEO KAHN',\n",
       " 57: 'LILIANE FERRARI',\n",
       " 58: 'LOIR CARLOS DA COSTA',\n",
       " 59: 'LUCIA MALLA',\n",
       " 60: 'LUIS NASSIF',\n",
       " 61: 'LUIZ BRAS',\n",
       " 62: 'LUIZ FLAVIO SAPORI',\n",
       " 63: 'MANOEL LOBATO',\n",
       " 64: 'MARCELO COELHO',\n",
       " 65: 'MARCELO COUTINHO',\n",
       " 66: 'MARCELO MINUTTI',\n",
       " 67: 'MARCELO ROSSI',\n",
       " 68: 'MARCELO SENNA',\n",
       " 69: 'MARCIA DASKAL',\n",
       " 70: 'MARCIO BERNARDES',\n",
       " 71: 'MARGRIT SCHIMIDT',\n",
       " 72: 'MARIA INES DOLCI',\n",
       " 73: 'MARTHA STEWART',\n",
       " 74: 'NEIDE RIGO',\n",
       " 75: 'NELSON DE OLIVEIRA',\n",
       " 76: 'NIGELLA LAWSON',\n",
       " 77: 'OSCAR IVAN PRUX',\n",
       " 78: 'OSWALDO BRAGA',\n",
       " 79: 'PATRICIA PECK',\n",
       " 80: 'PAULO COELHO',\n",
       " 81: 'RAUL LORES',\n",
       " 82: 'RENE ARIEL DOTTI',\n",
       " 83: 'RICARDO CASTILHO',\n",
       " 84: 'ROBERTO COUTO',\n",
       " 85: 'ROBERTO LINSKER',\n",
       " 86: 'RODRIGO BALEIA',\n",
       " 87: 'SEBASTIAO NUNES',\n",
       " 88: 'SERGIO REDES',\n",
       " 89: 'SERGIO RODRIGUES',\n",
       " 90: 'SILVANA MASCAGNA',\n",
       " 91: 'TATIANA DAMBERG',\n",
       " 92: 'TOSTÃO',\n",
       " 93: 'TRIGUEIRINHO',\n",
       " 94: 'VALDIR BICUDO',\n",
       " 95: 'VALDO CRUZ',\n",
       " 96: 'VICENTE DATOLLI',\n",
       " 97: 'VINICIUS TORRES FREITAS',\n",
       " 98: 'VITTORIO MEDIOLI',\n",
       " 99: 'WIANEY CARLET'}"
      ]
     },
     "execution_count": 10,
     "metadata": {},
     "output_type": "execute_result"
    }
   ],
   "source": [
    "classes = dict(enumerate(df_data['AUTHOR'].cat.categories))\n",
    "classes"
   ]
  },
  {
   "cell_type": "markdown",
   "metadata": {},
   "source": [
    "fastText requires a text file with each piece of text on a line by itself. The beginning of each line needs to have a special prefix of `__label__YOURLABEL` that assigns the label to that piece of text."
   ]
  },
  {
   "cell_type": "code",
   "execution_count": 14,
   "metadata": {
    "ExecuteTime": {
     "end_time": "2019-06-07T16:42:49.229186Z",
     "start_time": "2019-06-07T16:42:48.832960Z"
    }
   },
   "outputs": [],
   "source": [
    "from pathlib import Path\n",
    "\n",
    "fasttext_data = Path('../data/fasttext_dataset.txt ')\n",
    "with fasttext_data.open(\"w\") as output:\n",
    "    for index, row in df_data.iterrows():\n",
    "        label = row['AUTHOR_CODE']\n",
    "        text = row['TEXT_CLEAN']\n",
    "\n",
    "        fasttext_line = \"__label__{} {}\".format(label, text)\n",
    "\n",
    "        output.write(fasttext_line + \"\\n\")"
   ]
  },
  {
   "cell_type": "markdown",
   "metadata": {},
   "source": [
    "# Split Dataset"
   ]
  },
  {
   "cell_type": "code",
   "execution_count": 17,
   "metadata": {
    "ExecuteTime": {
     "end_time": "2019-06-07T16:52:22.644347Z",
     "start_time": "2019-06-07T16:52:22.591793Z"
    }
   },
   "outputs": [],
   "source": [
    "from sklearn.model_selection import train_test_split\n",
    "X_train, X_test, y_train, y_test = train_test_split(df_data[['TEXT_CLEAN', 'AUTHOR_CODE']], df_data['AUTHOR'],\n",
    "                                                    test_size=0.2, stratify=df_data['AUTHOR'], random_state=42)"
   ]
  },
  {
   "cell_type": "code",
   "execution_count": 20,
   "metadata": {
    "ExecuteTime": {
     "end_time": "2019-06-07T16:54:13.869986Z",
     "start_time": "2019-06-07T16:54:13.596416Z"
    }
   },
   "outputs": [],
   "source": [
    "from pathlib import Path\n",
    "import random\n",
    "\n",
    "training_data = Path(\"../data/fasttext_dataset_training.txt\")\n",
    "test_data = Path(\"../data/fasttext_dataset_test.txt\")\n",
    "\n",
    "with training_data.open(\"w\") as train_output:\n",
    "\n",
    "    for index, row in X_train.iterrows():\n",
    "        label = row['AUTHOR_CODE']\n",
    "        text = row['TEXT_CLEAN']\n",
    "\n",
    "        fasttext_line = \"__label__{} {}\".format(label, text)\n",
    "\n",
    "        train_output.write(fasttext_line + \"\\n\")\n",
    "            \n",
    "with test_data.open(\"w\") as test_output:\n",
    "\n",
    "    for index, row in X_test.iterrows():\n",
    "        label = row['AUTHOR_CODE']\n",
    "        text = row['TEXT_CLEAN']\n",
    "\n",
    "        fasttext_line = \"__label__{} {}\".format(label, text)\n",
    "\n",
    "        test_output.write(fasttext_line + \"\\n\")"
   ]
  },
  {
   "cell_type": "markdown",
   "metadata": {},
   "source": [
    "# Install FastText"
   ]
  },
  {
   "cell_type": "code",
   "execution_count": 9,
   "metadata": {
    "ExecuteTime": {
     "end_time": "2019-06-07T17:27:54.453150Z",
     "start_time": "2019-06-07T17:27:37.321946Z"
    },
    "scrolled": true
   },
   "outputs": [
    {
     "name": "stdout",
     "output_type": "stream",
     "text": [
      "Cloning into 'fastText'...\n",
      "remote: Enumerating objects: 2, done.\u001b[K\n",
      "remote: Counting objects: 100% (2/2), done.\u001b[K\n",
      "remote: Compressing objects: 100% (2/2), done.\u001b[K\n",
      "remote: Total 3197 (delta 0), reused 1 (delta 0), pack-reused 3195\u001b[K\n",
      "Receiving objects: 100% (3197/3197), 7.84 MiB | 616.00 KiB/s, done.\n",
      "Resolving deltas: 100% (2007/2007), done.\n"
     ]
    }
   ],
   "source": [
    "! git clone https://github.com/facebookresearch/fastText.git"
   ]
  },
  {
   "cell_type": "code",
   "execution_count": 18,
   "metadata": {
    "ExecuteTime": {
     "end_time": "2019-06-07T17:30:30.979538Z",
     "start_time": "2019-06-07T17:30:30.976439Z"
    }
   },
   "outputs": [],
   "source": [
    "import os\n",
    "os.chdir('fastText')"
   ]
  },
  {
   "cell_type": "code",
   "execution_count": 15,
   "metadata": {
    "ExecuteTime": {
     "end_time": "2019-06-07T17:29:28.664824Z",
     "start_time": "2019-06-07T17:29:12.188800Z"
    },
    "scrolled": true
   },
   "outputs": [
    {
     "name": "stdout",
     "output_type": "stream",
     "text": [
      "c++ -pthread -std=c++0x -march=native -O3 -funroll-loops -c src/args.cc\n",
      "c++ -pthread -std=c++0x -march=native -O3 -funroll-loops -c src/matrix.cc\n",
      "c++ -pthread -std=c++0x -march=native -O3 -funroll-loops -c src/dictionary.cc\n",
      "c++ -pthread -std=c++0x -march=native -O3 -funroll-loops -c src/loss.cc\n",
      "c++ -pthread -std=c++0x -march=native -O3 -funroll-loops -c src/productquantizer.cc\n",
      "c++ -pthread -std=c++0x -march=native -O3 -funroll-loops -c src/densematrix.cc\n",
      "c++ -pthread -std=c++0x -march=native -O3 -funroll-loops -c src/quantmatrix.cc\n",
      "c++ -pthread -std=c++0x -march=native -O3 -funroll-loops -c src/vector.cc\n",
      "c++ -pthread -std=c++0x -march=native -O3 -funroll-loops -c src/model.cc\n",
      "c++ -pthread -std=c++0x -march=native -O3 -funroll-loops -c src/utils.cc\n",
      "c++ -pthread -std=c++0x -march=native -O3 -funroll-loops -c src/meter.cc\n",
      "c++ -pthread -std=c++0x -march=native -O3 -funroll-loops -c src/fasttext.cc\n",
      "\u001b[1msrc/fasttext.cc:323:16: \u001b[0m\u001b[0;1;35mwarning: \u001b[0m\u001b[1m'selectEmbeddings' is deprecated:\n",
      "      selectEmbeddings is being deprecated. [-Wdeprecated-declarations]\u001b[0m\n",
      "    auto idx = selectEmbeddings(qargs.cutoff);\n",
      "\u001b[0;1;32m               ^\n",
      "\u001b[0m\u001b[1msrc/fasttext.h:165:3: \u001b[0m\u001b[0;1;30mnote: \u001b[0m'selectEmbeddings' has been explicitly marked\n",
      "      deprecated here\u001b[0m\n",
      "  FASTTEXT_DEPRECATED(\"selectEmbeddings is being deprecated.\")\n",
      "\u001b[0;1;32m  ^\n",
      "\u001b[0m\u001b[1msrc/utils.h:18:49: \u001b[0m\u001b[0;1;30mnote: \u001b[0mexpanded from macro 'FASTTEXT_DEPRECATED'\u001b[0m\n",
      "#define FASTTEXT_DEPRECATED(msg) __attribute__((__deprecated__(msg)))\n",
      "\u001b[0;1;32m                                                ^\n",
      "\u001b[0m\u001b[1msrc/fasttext.cc:551:5: \u001b[0m\u001b[0;1;35mwarning: \u001b[0m\u001b[1m'precomputeWordVectors' is deprecated:\n",
      "      precomputeWordVectors is being deprecated. [-Wdeprecated-declarations]\u001b[0m\n",
      "    precomputeWordVectors(*wordVectors_);\n",
      "\u001b[0;1;32m    ^\n",
      "\u001b[0m\u001b[1msrc/fasttext.h:180:3: \u001b[0m\u001b[0;1;30mnote: \u001b[0m'precomputeWordVectors' has been explicitly marked\n",
      "      deprecated here\u001b[0m\n",
      "  FASTTEXT_DEPRECATED(\"precomputeWordVectors is being deprecated.\")\n",
      "\u001b[0;1;32m  ^\n",
      "\u001b[0m\u001b[1msrc/utils.h:18:49: \u001b[0m\u001b[0;1;30mnote: \u001b[0mexpanded from macro 'FASTTEXT_DEPRECATED'\u001b[0m\n",
      "#define FASTTEXT_DEPRECATED(msg) __attribute__((__deprecated__(msg)))\n",
      "\u001b[0;1;32m                                                ^\n",
      "\u001b[0m2 warnings generated.\n",
      "c++ -pthread -std=c++0x -march=native -O3 -funroll-loops args.o matrix.o dictionary.o loss.o productquantizer.o densematrix.o quantmatrix.o vector.o model.o utils.o meter.o fasttext.o src/main.cc -o fasttext\n"
     ]
    }
   ],
   "source": [
    "! make"
   ]
  },
  {
   "cell_type": "markdown",
   "metadata": {},
   "source": [
    "# Train Model"
   ]
  },
  {
   "cell_type": "code",
   "execution_count": 20,
   "metadata": {
    "ExecuteTime": {
     "end_time": "2019-06-07T17:30:51.465538Z",
     "start_time": "2019-06-07T17:30:51.225884Z"
    }
   },
   "outputs": [
    {
     "name": "stdout",
     "output_type": "stream",
     "text": [
      "/Users/thiagovieira/Documents/GitHub/aa-udacity-capstone/notebooks/fastText\n",
      "CMakeLists.txt            dictionary.o              quantmatrix.o\n",
      "CODE_OF_CONDUCT.md        \u001b[1m\u001b[36mdocs\u001b[m\u001b[m                      runtests.py\n",
      "CONTRIBUTING.md           eval.py                   \u001b[1m\u001b[36mscripts\u001b[m\u001b[m\n",
      "LICENSE                   \u001b[31mfasttext\u001b[m\u001b[m                  setup.cfg\n",
      "MANIFEST.in               fasttext.o                setup.py\n",
      "Makefile                  \u001b[31mget-wikimedia.sh\u001b[m\u001b[m          \u001b[1m\u001b[36msrc\u001b[m\u001b[m\n",
      "README.md                 loss.o                    \u001b[1m\u001b[36mtests\u001b[m\u001b[m\n",
      "\u001b[1m\u001b[36malignment\u001b[m\u001b[m                 matrix.o                  utils.o\n",
      "args.o                    meter.o                   vector.o\n",
      "\u001b[31mclassification-example.sh\u001b[m\u001b[m model.o                   \u001b[1m\u001b[36mwebsite\u001b[m\u001b[m\n",
      "\u001b[31mclassification-results.sh\u001b[m\u001b[m productquantizer.o        wikifil.pl\n",
      "\u001b[1m\u001b[36mcrawl\u001b[m\u001b[m                     \u001b[1m\u001b[36mpython\u001b[m\u001b[m                    \u001b[31mword-vector-example.sh\u001b[m\u001b[m\n",
      "densematrix.o             \u001b[31mquantization-example.sh\u001b[m\u001b[m\n"
     ]
    }
   ],
   "source": [
    "! pwd\n",
    "! ls"
   ]
  },
  {
   "cell_type": "code",
   "execution_count": 22,
   "metadata": {
    "ExecuteTime": {
     "end_time": "2019-06-07T17:31:45.249069Z",
     "start_time": "2019-06-07T17:31:40.824008Z"
    }
   },
   "outputs": [
    {
     "name": "stdout",
     "output_type": "stream",
     "text": [
      "Read 0M words\n",
      "Number of words:  62623\n",
      "Number of labels: 100\n",
      "Progress: 100.0% words/sec/thread:  390279 lr:  0.000000 loss:  4.628903 ETA:   0h 0m\n"
     ]
    }
   ],
   "source": [
    "! ./fastText supervised -input ../../data/fasttext_dataset_training.txt -output authors_model "
   ]
  },
  {
   "cell_type": "code",
   "execution_count": 23,
   "metadata": {
    "ExecuteTime": {
     "end_time": "2019-06-07T17:32:24.096737Z",
     "start_time": "2019-06-07T17:32:23.652970Z"
    }
   },
   "outputs": [
    {
     "name": "stdout",
     "output_type": "stream",
     "text": [
      "N\t601\r\n",
      "P@1\t0.324\r\n",
      "R@1\t0.324\r\n"
     ]
    }
   ],
   "source": [
    "! ./fastText test authors_model.bin ../../data/fasttext_dataset_test.txt"
   ]
  },
  {
   "cell_type": "markdown",
   "metadata": {},
   "source": [
    "# Ngrams"
   ]
  },
  {
   "cell_type": "code",
   "execution_count": 24,
   "metadata": {
    "ExecuteTime": {
     "end_time": "2019-06-07T17:34:17.493876Z",
     "start_time": "2019-06-07T17:33:57.718064Z"
    }
   },
   "outputs": [
    {
     "name": "stdout",
     "output_type": "stream",
     "text": [
      "Read 0M words\n",
      "Number of words:  62623\n",
      "Number of labels: 100\n",
      "Progress: 100.0% words/sec/thread:  232783 lr:  0.000000 loss:  4.628904 ETA:   0h 0m\n"
     ]
    }
   ],
   "source": [
    "! ./fastText supervised -input ../../data/fasttext_dataset_training.txt -output authors_model_ngrams -wordNgrams 2"
   ]
  },
  {
   "cell_type": "code",
   "execution_count": 25,
   "metadata": {
    "ExecuteTime": {
     "end_time": "2019-06-07T17:34:25.955143Z",
     "start_time": "2019-06-07T17:34:17.496324Z"
    }
   },
   "outputs": [
    {
     "name": "stdout",
     "output_type": "stream",
     "text": [
      "N\t601\r\n",
      "P@1\t0.201\r\n",
      "R@1\t0.201\r\n"
     ]
    }
   ],
   "source": [
    "! ./fastText test authors_model_ngrams.bin ../../data/fasttext_dataset_test.txt"
   ]
  },
  {
   "cell_type": "code",
   "execution_count": null,
   "metadata": {},
   "outputs": [],
   "source": []
  }
 ],
 "metadata": {
  "kernelspec": {
   "display_name": "Python 3",
   "language": "python",
   "name": "python3"
  },
  "language_info": {
   "codemirror_mode": {
    "name": "ipython",
    "version": 3
   },
   "file_extension": ".py",
   "mimetype": "text/x-python",
   "name": "python",
   "nbconvert_exporter": "python",
   "pygments_lexer": "ipython3",
   "version": "3.6.5"
  }
 },
 "nbformat": 4,
 "nbformat_minor": 2
}
